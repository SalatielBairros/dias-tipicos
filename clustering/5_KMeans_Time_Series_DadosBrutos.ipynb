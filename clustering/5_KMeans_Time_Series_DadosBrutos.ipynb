{
 "cells": [
  {
   "cell_type": "markdown",
   "metadata": {
    "id": "81FZrSA9JizE"
   },
   "source": [
    "# Análise dias típicos Osório 2019 - Dados brutos\n",
    "Clusterização de timeseries."
   ]
  },
  {
   "cell_type": "markdown",
   "metadata": {
    "id": "OPwBPjBPJrEi"
   },
   "source": [
    "## Preparando o ambiente"
   ]
  },
  {
   "cell_type": "code",
   "execution_count": 1,
   "metadata": {
    "colab": {
     "base_uri": "https://localhost:8080/"
    },
    "id": "9Zu_89ckJz_t",
    "outputId": "15f7f2bd-19cc-4700-f83b-5dbe1d1fc5cc"
   },
   "outputs": [
    {
     "name": "stdout",
     "output_type": "stream",
     "text": [
      "Uninstalling scikit-learn-0.24.2:\n",
      "  Successfully uninstalled scikit-learn-0.24.2\n",
      "Collecting scikit-learn\n",
      "  Using cached https://files.pythonhosted.org/packages/a8/eb/a48f25c967526b66d5f1fa7a984594f0bf0a5afafa94a8c4dbc317744620/scikit_learn-0.24.2-cp37-cp37m-manylinux2010_x86_64.whl\n",
      "Requirement already satisfied, skipping upgrade: numpy>=1.13.3 in /usr/local/lib/python3.7/dist-packages (from scikit-learn) (1.19.5)\n",
      "Requirement already satisfied, skipping upgrade: scipy>=0.19.1 in /usr/local/lib/python3.7/dist-packages (from scikit-learn) (1.4.1)\n",
      "Requirement already satisfied, skipping upgrade: joblib>=0.11 in /usr/local/lib/python3.7/dist-packages (from scikit-learn) (1.0.1)\n",
      "Requirement already satisfied, skipping upgrade: threadpoolctl>=2.0.0 in /usr/local/lib/python3.7/dist-packages (from scikit-learn) (2.2.0)\n",
      "Installing collected packages: scikit-learn\n",
      "Successfully installed scikit-learn-0.24.2\n",
      "Requirement already satisfied: tslearn in /usr/local/lib/python3.7/dist-packages (0.5.1.0)\n",
      "Requirement already satisfied: joblib in /usr/local/lib/python3.7/dist-packages (from tslearn) (1.0.1)\n",
      "Requirement already satisfied: Cython in /usr/local/lib/python3.7/dist-packages (from tslearn) (0.29.23)\n",
      "Requirement already satisfied: scikit-learn in /usr/local/lib/python3.7/dist-packages (from tslearn) (0.24.2)\n",
      "Requirement already satisfied: numpy in /usr/local/lib/python3.7/dist-packages (from tslearn) (1.19.5)\n",
      "Requirement already satisfied: numba in /usr/local/lib/python3.7/dist-packages (from tslearn) (0.51.2)\n",
      "Requirement already satisfied: scipy in /usr/local/lib/python3.7/dist-packages (from tslearn) (1.4.1)\n",
      "Requirement already satisfied: threadpoolctl>=2.0.0 in /usr/local/lib/python3.7/dist-packages (from scikit-learn->tslearn) (2.2.0)\n",
      "Requirement already satisfied: setuptools in /usr/local/lib/python3.7/dist-packages (from numba->tslearn) (57.0.0)\n",
      "Requirement already satisfied: llvmlite<0.35,>=0.34.0.dev0 in /usr/local/lib/python3.7/dist-packages (from numba->tslearn) (0.34.0)\n"
     ]
    }
   ],
   "source": [
    "!pip uninstall scikit-learn -y\n",
    "!pip install -U scikit-learn\n",
    "!pip install tslearn"
   ]
  },
  {
   "cell_type": "code",
   "execution_count": 40,
   "metadata": {
    "id": "3BZWrQQTJXh7"
   },
   "outputs": [],
   "source": [
    "from tslearn.clustering import TimeSeriesKMeans, silhouette_score\n",
    "from tslearn.preprocessing import TimeSeriesScalerMeanVariance\n",
    "import pandas as pd\n",
    "import numpy as np\n",
    "from sklearn.cluster import KMeans\n",
    "import sklearn.metrics as skmetrics"
   ]
  },
  {
   "cell_type": "markdown",
   "metadata": {
    "id": "alw6IIDtKv3J"
   },
   "source": [
    "## Carregando os dados"
   ]
  },
  {
   "cell_type": "code",
   "execution_count": 26,
   "metadata": {
    "id": "PrUJ7VNjKCVq"
   },
   "outputs": [],
   "source": [
    "osorio = pd.read_csv('https://raw.githubusercontent.com/SalatielBairros/dias-tipicos/main/data/osorio_2019.csv')"
   ]
  },
  {
   "cell_type": "code",
   "execution_count": 27,
   "metadata": {
    "colab": {
     "base_uri": "https://localhost:8080/",
     "height": 203
    },
    "id": "Ms7ee6PyMEsA",
    "outputId": "0de8e170-6a4f-4f04-8c67-69c77dd0b97d"
   },
   "outputs": [
    {
     "data": {
      "text/html": [
       "<div>\n",
       "<style scoped>\n",
       "    .dataframe tbody tr th:only-of-type {\n",
       "        vertical-align: middle;\n",
       "    }\n",
       "\n",
       "    .dataframe tbody tr th {\n",
       "        vertical-align: top;\n",
       "    }\n",
       "\n",
       "    .dataframe thead th {\n",
       "        text-align: right;\n",
       "    }\n",
       "</style>\n",
       "<table border=\"1\" class=\"dataframe\">\n",
       "  <thead>\n",
       "    <tr style=\"text-align: right;\">\n",
       "      <th></th>\n",
       "      <th>Unnamed: 0</th>\n",
       "      <th>local_time</th>\n",
       "      <th>irradiance_direct</th>\n",
       "      <th>irradiance_diffuse</th>\n",
       "      <th>temperature</th>\n",
       "      <th>wind_speed</th>\n",
       "    </tr>\n",
       "  </thead>\n",
       "  <tbody>\n",
       "    <tr>\n",
       "      <th>1545</th>\n",
       "      <td>1545</td>\n",
       "      <td>2019-03-06 06:00:00</td>\n",
       "      <td>0.000</td>\n",
       "      <td>0.015</td>\n",
       "      <td>23.317</td>\n",
       "      <td>2.221</td>\n",
       "    </tr>\n",
       "    <tr>\n",
       "      <th>914</th>\n",
       "      <td>914</td>\n",
       "      <td>2019-02-08 00:00:00</td>\n",
       "      <td>0.000</td>\n",
       "      <td>0.000</td>\n",
       "      <td>22.186</td>\n",
       "      <td>2.610</td>\n",
       "    </tr>\n",
       "    <tr>\n",
       "      <th>727</th>\n",
       "      <td>727</td>\n",
       "      <td>2019-01-31 05:00:00</td>\n",
       "      <td>0.000</td>\n",
       "      <td>0.000</td>\n",
       "      <td>26.072</td>\n",
       "      <td>1.378</td>\n",
       "    </tr>\n",
       "    <tr>\n",
       "      <th>3194</th>\n",
       "      <td>3194</td>\n",
       "      <td>2019-05-13 23:00:00</td>\n",
       "      <td>0.000</td>\n",
       "      <td>0.000</td>\n",
       "      <td>18.679</td>\n",
       "      <td>2.141</td>\n",
       "    </tr>\n",
       "    <tr>\n",
       "      <th>7283</th>\n",
       "      <td>7283</td>\n",
       "      <td>2019-10-31 08:00:00</td>\n",
       "      <td>0.004</td>\n",
       "      <td>0.130</td>\n",
       "      <td>21.014</td>\n",
       "      <td>4.391</td>\n",
       "    </tr>\n",
       "  </tbody>\n",
       "</table>\n",
       "</div>"
      ],
      "text/plain": [
       "      Unnamed: 0           local_time  ...  temperature  wind_speed\n",
       "1545        1545  2019-03-06 06:00:00  ...       23.317       2.221\n",
       "914          914  2019-02-08 00:00:00  ...       22.186       2.610\n",
       "727          727  2019-01-31 05:00:00  ...       26.072       1.378\n",
       "3194        3194  2019-05-13 23:00:00  ...       18.679       2.141\n",
       "7283        7283  2019-10-31 08:00:00  ...       21.014       4.391\n",
       "\n",
       "[5 rows x 6 columns]"
      ]
     },
     "execution_count": 27,
     "metadata": {
      "tags": []
     },
     "output_type": "execute_result"
    }
   ],
   "source": [
    "osorio.sample(5)"
   ]
  },
  {
   "cell_type": "code",
   "execution_count": 28,
   "metadata": {
    "id": "1FFAy0FhM3RA"
   },
   "outputs": [],
   "source": [
    "del osorio['Unnamed: 0']"
   ]
  },
  {
   "cell_type": "code",
   "execution_count": 29,
   "metadata": {
    "colab": {
     "base_uri": "https://localhost:8080/",
     "height": 203
    },
    "id": "7Z8cpix8MGZM",
    "outputId": "d60d96b1-b276-41b5-8aa5-8decab449dca"
   },
   "outputs": [
    {
     "data": {
      "text/html": [
       "<div>\n",
       "<style scoped>\n",
       "    .dataframe tbody tr th:only-of-type {\n",
       "        vertical-align: middle;\n",
       "    }\n",
       "\n",
       "    .dataframe tbody tr th {\n",
       "        vertical-align: top;\n",
       "    }\n",
       "\n",
       "    .dataframe thead th {\n",
       "        text-align: right;\n",
       "    }\n",
       "</style>\n",
       "<table border=\"1\" class=\"dataframe\">\n",
       "  <thead>\n",
       "    <tr style=\"text-align: right;\">\n",
       "      <th></th>\n",
       "      <th>irradiance_direct</th>\n",
       "      <th>irradiance_diffuse</th>\n",
       "      <th>temperature</th>\n",
       "      <th>wind_speed</th>\n",
       "    </tr>\n",
       "  </thead>\n",
       "  <tbody>\n",
       "    <tr>\n",
       "      <th>755</th>\n",
       "      <td>0.274</td>\n",
       "      <td>0.166</td>\n",
       "      <td>27.085</td>\n",
       "      <td>1.595</td>\n",
       "    </tr>\n",
       "    <tr>\n",
       "      <th>4364</th>\n",
       "      <td>0.006</td>\n",
       "      <td>0.007</td>\n",
       "      <td>12.208</td>\n",
       "      <td>2.980</td>\n",
       "    </tr>\n",
       "    <tr>\n",
       "      <th>5968</th>\n",
       "      <td>0.063</td>\n",
       "      <td>0.312</td>\n",
       "      <td>16.754</td>\n",
       "      <td>5.633</td>\n",
       "    </tr>\n",
       "    <tr>\n",
       "      <th>6782</th>\n",
       "      <td>0.918</td>\n",
       "      <td>0.106</td>\n",
       "      <td>25.120</td>\n",
       "      <td>1.357</td>\n",
       "    </tr>\n",
       "    <tr>\n",
       "      <th>3555</th>\n",
       "      <td>0.000</td>\n",
       "      <td>0.000</td>\n",
       "      <td>16.262</td>\n",
       "      <td>1.933</td>\n",
       "    </tr>\n",
       "  </tbody>\n",
       "</table>\n",
       "</div>"
      ],
      "text/plain": [
       "      irradiance_direct  irradiance_diffuse  temperature  wind_speed\n",
       "755               0.274               0.166       27.085       1.595\n",
       "4364              0.006               0.007       12.208       2.980\n",
       "5968              0.063               0.312       16.754       5.633\n",
       "6782              0.918               0.106       25.120       1.357\n",
       "3555              0.000               0.000       16.262       1.933"
      ]
     },
     "execution_count": 29,
     "metadata": {
      "tags": []
     },
     "output_type": "execute_result"
    }
   ],
   "source": [
    "X = osorio.drop(columns=['local_time'])\n",
    "X.sample(5)"
   ]
  },
  {
   "cell_type": "code",
   "execution_count": 30,
   "metadata": {
    "colab": {
     "base_uri": "https://localhost:8080/"
    },
    "id": "PgDarwnJLD6V",
    "outputId": "c8159da0-b4fd-4722-f8fd-cb8901c19b1a"
   },
   "outputs": [
    {
     "data": {
      "text/plain": [
       "range(2, 11)"
      ]
     },
     "execution_count": 30,
     "metadata": {
      "tags": []
     },
     "output_type": "execute_result"
    }
   ],
   "source": [
    "range_clusters = range(2, 11)\n",
    "range_clusters"
   ]
  },
  {
   "cell_type": "code",
   "execution_count": 31,
   "metadata": {
    "id": "R3Pz9_4iL5_f"
   },
   "outputs": [],
   "source": [
    "seed = 50\n",
    "np.random.seed(seed)"
   ]
  },
  {
   "cell_type": "code",
   "execution_count": 33,
   "metadata": {
    "id": "mDb1QUPcQHrV"
   },
   "outputs": [],
   "source": [
    "X_train = X[0::3]"
   ]
  },
  {
   "cell_type": "code",
   "execution_count": 34,
   "metadata": {
    "colab": {
     "base_uri": "https://localhost:8080/",
     "height": 417
    },
    "id": "vCdX-YZXRiZV",
    "outputId": "576ac809-51df-4bf3-e20c-589548b39036"
   },
   "outputs": [
    {
     "data": {
      "text/html": [
       "<div>\n",
       "<style scoped>\n",
       "    .dataframe tbody tr th:only-of-type {\n",
       "        vertical-align: middle;\n",
       "    }\n",
       "\n",
       "    .dataframe tbody tr th {\n",
       "        vertical-align: top;\n",
       "    }\n",
       "\n",
       "    .dataframe thead th {\n",
       "        text-align: right;\n",
       "    }\n",
       "</style>\n",
       "<table border=\"1\" class=\"dataframe\">\n",
       "  <thead>\n",
       "    <tr style=\"text-align: right;\">\n",
       "      <th></th>\n",
       "      <th>irradiance_direct</th>\n",
       "      <th>irradiance_diffuse</th>\n",
       "      <th>temperature</th>\n",
       "      <th>wind_speed</th>\n",
       "    </tr>\n",
       "  </thead>\n",
       "  <tbody>\n",
       "    <tr>\n",
       "      <th>0</th>\n",
       "      <td>0.000</td>\n",
       "      <td>0.000</td>\n",
       "      <td>24.202</td>\n",
       "      <td>2.675</td>\n",
       "    </tr>\n",
       "    <tr>\n",
       "      <th>3</th>\n",
       "      <td>0.000</td>\n",
       "      <td>0.000</td>\n",
       "      <td>23.679</td>\n",
       "      <td>2.874</td>\n",
       "    </tr>\n",
       "    <tr>\n",
       "      <th>6</th>\n",
       "      <td>0.000</td>\n",
       "      <td>0.000</td>\n",
       "      <td>23.489</td>\n",
       "      <td>2.998</td>\n",
       "    </tr>\n",
       "    <tr>\n",
       "      <th>9</th>\n",
       "      <td>0.000</td>\n",
       "      <td>0.091</td>\n",
       "      <td>24.256</td>\n",
       "      <td>3.748</td>\n",
       "    </tr>\n",
       "    <tr>\n",
       "      <th>12</th>\n",
       "      <td>0.304</td>\n",
       "      <td>0.255</td>\n",
       "      <td>27.130</td>\n",
       "      <td>3.894</td>\n",
       "    </tr>\n",
       "    <tr>\n",
       "      <th>...</th>\n",
       "      <td>...</td>\n",
       "      <td>...</td>\n",
       "      <td>...</td>\n",
       "      <td>...</td>\n",
       "    </tr>\n",
       "    <tr>\n",
       "      <th>8745</th>\n",
       "      <td>0.000</td>\n",
       "      <td>0.094</td>\n",
       "      <td>23.631</td>\n",
       "      <td>3.145</td>\n",
       "    </tr>\n",
       "    <tr>\n",
       "      <th>8748</th>\n",
       "      <td>0.557</td>\n",
       "      <td>0.144</td>\n",
       "      <td>28.709</td>\n",
       "      <td>1.769</td>\n",
       "    </tr>\n",
       "    <tr>\n",
       "      <th>8751</th>\n",
       "      <td>0.382</td>\n",
       "      <td>0.355</td>\n",
       "      <td>30.889</td>\n",
       "      <td>1.820</td>\n",
       "    </tr>\n",
       "    <tr>\n",
       "      <th>8754</th>\n",
       "      <td>0.050</td>\n",
       "      <td>0.293</td>\n",
       "      <td>29.550</td>\n",
       "      <td>2.659</td>\n",
       "    </tr>\n",
       "    <tr>\n",
       "      <th>8757</th>\n",
       "      <td>0.000</td>\n",
       "      <td>0.047</td>\n",
       "      <td>26.889</td>\n",
       "      <td>2.868</td>\n",
       "    </tr>\n",
       "  </tbody>\n",
       "</table>\n",
       "<p>2920 rows × 4 columns</p>\n",
       "</div>"
      ],
      "text/plain": [
       "      irradiance_direct  irradiance_diffuse  temperature  wind_speed\n",
       "0                 0.000               0.000       24.202       2.675\n",
       "3                 0.000               0.000       23.679       2.874\n",
       "6                 0.000               0.000       23.489       2.998\n",
       "9                 0.000               0.091       24.256       3.748\n",
       "12                0.304               0.255       27.130       3.894\n",
       "...                 ...                 ...          ...         ...\n",
       "8745              0.000               0.094       23.631       3.145\n",
       "8748              0.557               0.144       28.709       1.769\n",
       "8751              0.382               0.355       30.889       1.820\n",
       "8754              0.050               0.293       29.550       2.659\n",
       "8757              0.000               0.047       26.889       2.868\n",
       "\n",
       "[2920 rows x 4 columns]"
      ]
     },
     "execution_count": 34,
     "metadata": {
      "tags": []
     },
     "output_type": "execute_result"
    }
   ],
   "source": [
    "X_train"
   ]
  },
  {
   "cell_type": "code",
   "execution_count": 36,
   "metadata": {
    "colab": {
     "base_uri": "https://localhost:8080/",
     "height": 454
    },
    "id": "bAc7Xq62LdeC",
    "outputId": "e20dfb22-4f6a-45ca-b482-01522c60b452"
   },
   "outputs": [
    {
     "name": "stdout",
     "output_type": "stream",
     "text": [
      "0.48693309744735647\n",
      "0.42447932048153847\n",
      "0.4109680537139251\n",
      "0.3736485195402149\n"
     ]
    },
    {
     "ename": "KeyboardInterrupt",
     "evalue": "ignored",
     "output_type": "error",
     "traceback": [
      "\u001b[0;31m---------------------------------------------------------------------------\u001b[0m",
      "\u001b[0;31mKeyboardInterrupt\u001b[0m                         Traceback (most recent call last)",
      "\u001b[0;32m<ipython-input-36-8a698c242cdd>\u001b[0m in \u001b[0;36m<module>\u001b[0;34m()\u001b[0m\n\u001b[1;32m      1\u001b[0m \u001b[0;32mfor\u001b[0m \u001b[0mn\u001b[0m \u001b[0;32min\u001b[0m \u001b[0mrange_clusters\u001b[0m\u001b[0;34m:\u001b[0m\u001b[0;34m\u001b[0m\u001b[0;34m\u001b[0m\u001b[0m\n\u001b[1;32m      2\u001b[0m   \u001b[0mkm\u001b[0m \u001b[0;34m=\u001b[0m \u001b[0mTimeSeriesKMeans\u001b[0m\u001b[0;34m(\u001b[0m\u001b[0mn_clusters\u001b[0m\u001b[0;34m=\u001b[0m\u001b[0mn\u001b[0m\u001b[0;34m,\u001b[0m \u001b[0mmax_iter\u001b[0m\u001b[0;34m=\u001b[0m\u001b[0;36m100\u001b[0m\u001b[0;34m,\u001b[0m \u001b[0mn_init\u001b[0m\u001b[0;34m=\u001b[0m\u001b[0;36m5\u001b[0m\u001b[0;34m,\u001b[0m \u001b[0mmetric\u001b[0m\u001b[0;34m=\u001b[0m\u001b[0;34m\"dtw\"\u001b[0m\u001b[0;34m)\u001b[0m\u001b[0;34m\u001b[0m\u001b[0;34m\u001b[0m\u001b[0m\n\u001b[0;32m----> 3\u001b[0;31m   \u001b[0mlabels\u001b[0m \u001b[0;34m=\u001b[0m \u001b[0mkm\u001b[0m\u001b[0;34m.\u001b[0m\u001b[0mfit_predict\u001b[0m\u001b[0;34m(\u001b[0m\u001b[0mX_train\u001b[0m\u001b[0;34m)\u001b[0m\u001b[0;34m\u001b[0m\u001b[0;34m\u001b[0m\u001b[0m\n\u001b[0m\u001b[1;32m      4\u001b[0m   \u001b[0mprint\u001b[0m\u001b[0;34m(\u001b[0m\u001b[0msilhouette_score\u001b[0m\u001b[0;34m(\u001b[0m\u001b[0mX_train\u001b[0m\u001b[0;34m,\u001b[0m \u001b[0mlabels\u001b[0m\u001b[0;34m,\u001b[0m \u001b[0mmetric\u001b[0m\u001b[0;34m=\u001b[0m\u001b[0;34m\"euclidean\"\u001b[0m\u001b[0;34m)\u001b[0m\u001b[0;34m)\u001b[0m\u001b[0;34m\u001b[0m\u001b[0;34m\u001b[0m\u001b[0m\n",
      "\u001b[0;32m/usr/local/lib/python3.7/dist-packages/tslearn/clustering/kmeans.py\u001b[0m in \u001b[0;36mfit_predict\u001b[0;34m(self, X, y)\u001b[0m\n\u001b[1;32m    811\u001b[0m         \"\"\"\n\u001b[1;32m    812\u001b[0m         \u001b[0mX\u001b[0m \u001b[0;34m=\u001b[0m \u001b[0mcheck_array\u001b[0m\u001b[0;34m(\u001b[0m\u001b[0mX\u001b[0m\u001b[0;34m,\u001b[0m \u001b[0mallow_nd\u001b[0m\u001b[0;34m=\u001b[0m\u001b[0;32mTrue\u001b[0m\u001b[0;34m,\u001b[0m \u001b[0mforce_all_finite\u001b[0m\u001b[0;34m=\u001b[0m\u001b[0;34m'allow-nan'\u001b[0m\u001b[0;34m)\u001b[0m\u001b[0;34m\u001b[0m\u001b[0;34m\u001b[0m\u001b[0m\n\u001b[0;32m--> 813\u001b[0;31m         \u001b[0;32mreturn\u001b[0m \u001b[0mself\u001b[0m\u001b[0;34m.\u001b[0m\u001b[0mfit\u001b[0m\u001b[0;34m(\u001b[0m\u001b[0mX\u001b[0m\u001b[0;34m,\u001b[0m \u001b[0my\u001b[0m\u001b[0;34m)\u001b[0m\u001b[0;34m.\u001b[0m\u001b[0mlabels_\u001b[0m\u001b[0;34m\u001b[0m\u001b[0;34m\u001b[0m\u001b[0m\n\u001b[0m\u001b[1;32m    814\u001b[0m \u001b[0;34m\u001b[0m\u001b[0m\n\u001b[1;32m    815\u001b[0m     \u001b[0;32mdef\u001b[0m \u001b[0mpredict\u001b[0m\u001b[0;34m(\u001b[0m\u001b[0mself\u001b[0m\u001b[0;34m,\u001b[0m \u001b[0mX\u001b[0m\u001b[0;34m)\u001b[0m\u001b[0;34m:\u001b[0m\u001b[0;34m\u001b[0m\u001b[0;34m\u001b[0m\u001b[0m\n",
      "\u001b[0;32m/usr/local/lib/python3.7/dist-packages/tslearn/clustering/kmeans.py\u001b[0m in \u001b[0;36mfit\u001b[0;34m(self, X, y)\u001b[0m\n\u001b[1;32m    778\u001b[0m                     \u001b[0mprint\u001b[0m\u001b[0;34m(\u001b[0m\u001b[0;34m\"Init %d\"\u001b[0m \u001b[0;34m%\u001b[0m \u001b[0;34m(\u001b[0m\u001b[0mn_successful\u001b[0m \u001b[0;34m+\u001b[0m \u001b[0;36m1\u001b[0m\u001b[0;34m)\u001b[0m\u001b[0;34m)\u001b[0m\u001b[0;34m\u001b[0m\u001b[0;34m\u001b[0m\u001b[0m\n\u001b[1;32m    779\u001b[0m                 \u001b[0mn_attempts\u001b[0m \u001b[0;34m+=\u001b[0m \u001b[0;36m1\u001b[0m\u001b[0;34m\u001b[0m\u001b[0;34m\u001b[0m\u001b[0m\n\u001b[0;32m--> 780\u001b[0;31m                 \u001b[0mself\u001b[0m\u001b[0;34m.\u001b[0m\u001b[0m_fit_one_init\u001b[0m\u001b[0;34m(\u001b[0m\u001b[0mX_\u001b[0m\u001b[0;34m,\u001b[0m \u001b[0mx_squared_norms\u001b[0m\u001b[0;34m,\u001b[0m \u001b[0mrs\u001b[0m\u001b[0;34m)\u001b[0m\u001b[0;34m\u001b[0m\u001b[0;34m\u001b[0m\u001b[0m\n\u001b[0m\u001b[1;32m    781\u001b[0m                 \u001b[0;32mif\u001b[0m \u001b[0mself\u001b[0m\u001b[0;34m.\u001b[0m\u001b[0minertia_\u001b[0m \u001b[0;34m<\u001b[0m \u001b[0mmin_inertia\u001b[0m\u001b[0;34m:\u001b[0m\u001b[0;34m\u001b[0m\u001b[0;34m\u001b[0m\u001b[0m\n\u001b[1;32m    782\u001b[0m                     \u001b[0mbest_correct_centroids\u001b[0m \u001b[0;34m=\u001b[0m \u001b[0mself\u001b[0m\u001b[0;34m.\u001b[0m\u001b[0mcluster_centers_\u001b[0m\u001b[0;34m.\u001b[0m\u001b[0mcopy\u001b[0m\u001b[0;34m(\u001b[0m\u001b[0;34m)\u001b[0m\u001b[0;34m\u001b[0m\u001b[0;34m\u001b[0m\u001b[0m\n",
      "\u001b[0;32m/usr/local/lib/python3.7/dist-packages/tslearn/clustering/kmeans.py\u001b[0m in \u001b[0;36m_fit_one_init\u001b[0;34m(self, X, x_squared_norms, rs)\u001b[0m\n\u001b[1;32m    663\u001b[0m             \u001b[0;32mif\u001b[0m \u001b[0mself\u001b[0m\u001b[0;34m.\u001b[0m\u001b[0mverbose\u001b[0m\u001b[0;34m:\u001b[0m\u001b[0;34m\u001b[0m\u001b[0;34m\u001b[0m\u001b[0m\n\u001b[1;32m    664\u001b[0m                 \u001b[0mprint\u001b[0m\u001b[0;34m(\u001b[0m\u001b[0;34m\"%.3f\"\u001b[0m \u001b[0;34m%\u001b[0m \u001b[0mself\u001b[0m\u001b[0;34m.\u001b[0m\u001b[0minertia_\u001b[0m\u001b[0;34m,\u001b[0m \u001b[0mend\u001b[0m\u001b[0;34m=\u001b[0m\u001b[0;34m\" --> \"\u001b[0m\u001b[0;34m)\u001b[0m\u001b[0;34m\u001b[0m\u001b[0;34m\u001b[0m\u001b[0m\n\u001b[0;32m--> 665\u001b[0;31m             \u001b[0mself\u001b[0m\u001b[0;34m.\u001b[0m\u001b[0m_update_centroids\u001b[0m\u001b[0;34m(\u001b[0m\u001b[0mX\u001b[0m\u001b[0;34m)\u001b[0m\u001b[0;34m\u001b[0m\u001b[0;34m\u001b[0m\u001b[0m\n\u001b[0m\u001b[1;32m    666\u001b[0m \u001b[0;34m\u001b[0m\u001b[0m\n\u001b[1;32m    667\u001b[0m             \u001b[0;32mif\u001b[0m \u001b[0mnumpy\u001b[0m\u001b[0;34m.\u001b[0m\u001b[0mabs\u001b[0m\u001b[0;34m(\u001b[0m\u001b[0mold_inertia\u001b[0m \u001b[0;34m-\u001b[0m \u001b[0mself\u001b[0m\u001b[0;34m.\u001b[0m\u001b[0minertia_\u001b[0m\u001b[0;34m)\u001b[0m \u001b[0;34m<\u001b[0m \u001b[0mself\u001b[0m\u001b[0;34m.\u001b[0m\u001b[0mtol\u001b[0m\u001b[0;34m:\u001b[0m\u001b[0;34m\u001b[0m\u001b[0;34m\u001b[0m\u001b[0m\n",
      "\u001b[0;32m/usr/local/lib/python3.7/dist-packages/tslearn/clustering/kmeans.py\u001b[0m in \u001b[0;36m_update_centroids\u001b[0;34m(self, X)\u001b[0m\n\u001b[1;32m    716\u001b[0m                     \u001b[0minit_barycenter\u001b[0m\u001b[0;34m=\u001b[0m\u001b[0mself\u001b[0m\u001b[0;34m.\u001b[0m\u001b[0mcluster_centers_\u001b[0m\u001b[0;34m[\u001b[0m\u001b[0mk\u001b[0m\u001b[0;34m]\u001b[0m\u001b[0;34m,\u001b[0m\u001b[0;34m\u001b[0m\u001b[0;34m\u001b[0m\u001b[0m\n\u001b[1;32m    717\u001b[0m                     \u001b[0mmetric_params\u001b[0m\u001b[0;34m=\u001b[0m\u001b[0mmetric_params\u001b[0m\u001b[0;34m,\u001b[0m\u001b[0;34m\u001b[0m\u001b[0;34m\u001b[0m\u001b[0m\n\u001b[0;32m--> 718\u001b[0;31m                     verbose=False)\n\u001b[0m\u001b[1;32m    719\u001b[0m             \u001b[0;32melif\u001b[0m \u001b[0mself\u001b[0m\u001b[0;34m.\u001b[0m\u001b[0mmetric\u001b[0m \u001b[0;34m==\u001b[0m \u001b[0;34m\"softdtw\"\u001b[0m\u001b[0;34m:\u001b[0m\u001b[0;34m\u001b[0m\u001b[0;34m\u001b[0m\u001b[0m\n\u001b[1;32m    720\u001b[0m                 self.cluster_centers_[k] = softdtw_barycenter(\n",
      "\u001b[0;32m/usr/local/lib/python3.7/dist-packages/tslearn/barycenters/dba.py\u001b[0m in \u001b[0;36mdtw_barycenter_averaging\u001b[0;34m(X, barycenter_size, init_barycenter, max_iter, tol, weights, metric_params, verbose, n_init)\u001b[0m\n\u001b[1;32m    504\u001b[0m             \u001b[0mweights\u001b[0m\u001b[0;34m=\u001b[0m\u001b[0mweights\u001b[0m\u001b[0;34m,\u001b[0m\u001b[0;34m\u001b[0m\u001b[0;34m\u001b[0m\u001b[0m\n\u001b[1;32m    505\u001b[0m             \u001b[0mmetric_params\u001b[0m\u001b[0;34m=\u001b[0m\u001b[0mmetric_params\u001b[0m\u001b[0;34m,\u001b[0m\u001b[0;34m\u001b[0m\u001b[0;34m\u001b[0m\u001b[0m\n\u001b[0;32m--> 506\u001b[0;31m             \u001b[0mverbose\u001b[0m\u001b[0;34m=\u001b[0m\u001b[0mverbose\u001b[0m\u001b[0;34m\u001b[0m\u001b[0;34m\u001b[0m\u001b[0m\n\u001b[0m\u001b[1;32m    507\u001b[0m         )\n\u001b[1;32m    508\u001b[0m         \u001b[0;32mif\u001b[0m \u001b[0mloss\u001b[0m \u001b[0;34m<\u001b[0m \u001b[0mbest_cost\u001b[0m\u001b[0;34m:\u001b[0m\u001b[0;34m\u001b[0m\u001b[0;34m\u001b[0m\u001b[0m\n",
      "\u001b[0;32m/usr/local/lib/python3.7/dist-packages/tslearn/barycenters/dba.py\u001b[0m in \u001b[0;36mdtw_barycenter_averaging_one_init\u001b[0;34m(X, barycenter_size, init_barycenter, max_iter, tol, weights, metric_params, verbose)\u001b[0m\n\u001b[1;32m    593\u001b[0m         \u001b[0;32mif\u001b[0m \u001b[0mverbose\u001b[0m\u001b[0;34m:\u001b[0m\u001b[0;34m\u001b[0m\u001b[0;34m\u001b[0m\u001b[0m\n\u001b[1;32m    594\u001b[0m             \u001b[0mprint\u001b[0m\u001b[0;34m(\u001b[0m\u001b[0;34m\"[DBA] epoch %d, cost: %.3f\"\u001b[0m \u001b[0;34m%\u001b[0m \u001b[0;34m(\u001b[0m\u001b[0mit\u001b[0m \u001b[0;34m+\u001b[0m \u001b[0;36m1\u001b[0m\u001b[0;34m,\u001b[0m \u001b[0mcost\u001b[0m\u001b[0;34m)\u001b[0m\u001b[0;34m)\u001b[0m\u001b[0;34m\u001b[0m\u001b[0;34m\u001b[0m\u001b[0m\n\u001b[0;32m--> 595\u001b[0;31m         \u001b[0mbarycenter\u001b[0m \u001b[0;34m=\u001b[0m \u001b[0m_mm_update_barycenter\u001b[0m\u001b[0;34m(\u001b[0m\u001b[0mX_\u001b[0m\u001b[0;34m,\u001b[0m \u001b[0mdiag_sum_v_k\u001b[0m\u001b[0;34m,\u001b[0m \u001b[0mlist_w_k\u001b[0m\u001b[0;34m)\u001b[0m\u001b[0;34m\u001b[0m\u001b[0;34m\u001b[0m\u001b[0m\n\u001b[0m\u001b[1;32m    596\u001b[0m         \u001b[0;32mif\u001b[0m \u001b[0mabs\u001b[0m\u001b[0;34m(\u001b[0m\u001b[0mcost_prev\u001b[0m \u001b[0;34m-\u001b[0m \u001b[0mcost\u001b[0m\u001b[0;34m)\u001b[0m \u001b[0;34m<\u001b[0m \u001b[0mtol\u001b[0m\u001b[0;34m:\u001b[0m\u001b[0;34m\u001b[0m\u001b[0;34m\u001b[0m\u001b[0m\n\u001b[1;32m    597\u001b[0m             \u001b[0;32mbreak\u001b[0m\u001b[0;34m\u001b[0m\u001b[0;34m\u001b[0m\u001b[0m\n",
      "\u001b[0;32m/usr/local/lib/python3.7/dist-packages/tslearn/barycenters/dba.py\u001b[0m in \u001b[0;36m_mm_update_barycenter\u001b[0;34m(X, diag_sum_v_k, list_w_k)\u001b[0m\n\u001b[1;32m    341\u001b[0m     \u001b[0msum_w_x\u001b[0m \u001b[0;34m=\u001b[0m \u001b[0mnumpy\u001b[0m\u001b[0;34m.\u001b[0m\u001b[0mzeros\u001b[0m\u001b[0;34m(\u001b[0m\u001b[0;34m(\u001b[0m\u001b[0mbarycenter_size\u001b[0m\u001b[0;34m,\u001b[0m \u001b[0md\u001b[0m\u001b[0;34m)\u001b[0m\u001b[0;34m)\u001b[0m\u001b[0;34m\u001b[0m\u001b[0;34m\u001b[0m\u001b[0m\n\u001b[1;32m    342\u001b[0m     \u001b[0;32mfor\u001b[0m \u001b[0mk\u001b[0m\u001b[0;34m,\u001b[0m \u001b[0;34m(\u001b[0m\u001b[0mw_k\u001b[0m\u001b[0;34m,\u001b[0m \u001b[0mx_k\u001b[0m\u001b[0;34m)\u001b[0m \u001b[0;32min\u001b[0m \u001b[0menumerate\u001b[0m\u001b[0;34m(\u001b[0m\u001b[0mzip\u001b[0m\u001b[0;34m(\u001b[0m\u001b[0mlist_w_k\u001b[0m\u001b[0;34m,\u001b[0m \u001b[0mX\u001b[0m\u001b[0;34m)\u001b[0m\u001b[0;34m)\u001b[0m\u001b[0;34m:\u001b[0m\u001b[0;34m\u001b[0m\u001b[0;34m\u001b[0m\u001b[0m\n\u001b[0;32m--> 343\u001b[0;31m         \u001b[0msum_w_x\u001b[0m \u001b[0;34m+=\u001b[0m \u001b[0mw_k\u001b[0m\u001b[0;34m.\u001b[0m\u001b[0mdot\u001b[0m\u001b[0;34m(\u001b[0m\u001b[0mx_k\u001b[0m\u001b[0;34m[\u001b[0m\u001b[0;34m:\u001b[0m\u001b[0mts_size\u001b[0m\u001b[0;34m(\u001b[0m\u001b[0mx_k\u001b[0m\u001b[0;34m)\u001b[0m\u001b[0;34m]\u001b[0m\u001b[0;34m)\u001b[0m\u001b[0;34m\u001b[0m\u001b[0;34m\u001b[0m\u001b[0m\n\u001b[0m\u001b[1;32m    344\u001b[0m     \u001b[0mbarycenter\u001b[0m \u001b[0;34m=\u001b[0m \u001b[0mnumpy\u001b[0m\u001b[0;34m.\u001b[0m\u001b[0mdiag\u001b[0m\u001b[0;34m(\u001b[0m\u001b[0;36m1.\u001b[0m \u001b[0;34m/\u001b[0m \u001b[0mdiag_sum_v_k\u001b[0m\u001b[0;34m)\u001b[0m\u001b[0;34m.\u001b[0m\u001b[0mdot\u001b[0m\u001b[0;34m(\u001b[0m\u001b[0msum_w_x\u001b[0m\u001b[0;34m)\u001b[0m\u001b[0;34m\u001b[0m\u001b[0;34m\u001b[0m\u001b[0m\n\u001b[1;32m    345\u001b[0m     \u001b[0;32mreturn\u001b[0m \u001b[0mbarycenter\u001b[0m\u001b[0;34m\u001b[0m\u001b[0;34m\u001b[0m\u001b[0m\n",
      "\u001b[0;32m/usr/local/lib/python3.7/dist-packages/tslearn/utils/utils.py\u001b[0m in \u001b[0;36mts_size\u001b[0;34m(ts)\u001b[0m\n\u001b[1;32m    420\u001b[0m     \u001b[0mts_\u001b[0m \u001b[0;34m=\u001b[0m \u001b[0mto_time_series\u001b[0m\u001b[0;34m(\u001b[0m\u001b[0mts\u001b[0m\u001b[0;34m)\u001b[0m\u001b[0;34m\u001b[0m\u001b[0;34m\u001b[0m\u001b[0m\n\u001b[1;32m    421\u001b[0m     \u001b[0msz\u001b[0m \u001b[0;34m=\u001b[0m \u001b[0mts_\u001b[0m\u001b[0;34m.\u001b[0m\u001b[0mshape\u001b[0m\u001b[0;34m[\u001b[0m\u001b[0;36m0\u001b[0m\u001b[0;34m]\u001b[0m\u001b[0;34m\u001b[0m\u001b[0;34m\u001b[0m\u001b[0m\n\u001b[0;32m--> 422\u001b[0;31m     \u001b[0;32mwhile\u001b[0m \u001b[0msz\u001b[0m \u001b[0;34m>\u001b[0m \u001b[0;36m0\u001b[0m \u001b[0;32mand\u001b[0m \u001b[0mnumpy\u001b[0m\u001b[0;34m.\u001b[0m\u001b[0mall\u001b[0m\u001b[0;34m(\u001b[0m\u001b[0mnumpy\u001b[0m\u001b[0;34m.\u001b[0m\u001b[0misnan\u001b[0m\u001b[0;34m(\u001b[0m\u001b[0mts_\u001b[0m\u001b[0;34m[\u001b[0m\u001b[0msz\u001b[0m \u001b[0;34m-\u001b[0m \u001b[0;36m1\u001b[0m\u001b[0;34m]\u001b[0m\u001b[0;34m)\u001b[0m\u001b[0;34m)\u001b[0m\u001b[0;34m:\u001b[0m\u001b[0;34m\u001b[0m\u001b[0;34m\u001b[0m\u001b[0m\n\u001b[0m\u001b[1;32m    423\u001b[0m         \u001b[0msz\u001b[0m \u001b[0;34m-=\u001b[0m \u001b[0;36m1\u001b[0m\u001b[0;34m\u001b[0m\u001b[0;34m\u001b[0m\u001b[0m\n\u001b[1;32m    424\u001b[0m     \u001b[0;32mreturn\u001b[0m \u001b[0msz\u001b[0m\u001b[0;34m\u001b[0m\u001b[0;34m\u001b[0m\u001b[0m\n",
      "\u001b[0;32m<__array_function__ internals>\u001b[0m in \u001b[0;36mall\u001b[0;34m(*args, **kwargs)\u001b[0m\n",
      "\u001b[0;31mKeyboardInterrupt\u001b[0m: "
     ]
    }
   ],
   "source": [
    "#for n in range_clusters:\n",
    "#  km = TimeSeriesKMeans(n_clusters=n, max_iter=100, n_init=5, metric=\"dtw\")\n",
    "#  labels = km.fit_predict(X_train)\n",
    "#  print(silhouette_score(X_train, labels, metric=\"euclidean\"))"
   ]
  },
  {
   "cell_type": "markdown",
   "metadata": {
    "id": "8e4-kj4IbcP1"
   },
   "source": [
    "![image.png](data:image/png;base64,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)"
   ]
  },
  {
   "cell_type": "markdown",
   "metadata": {
    "id": "oOTeHDUbT_DR"
   },
   "source": [
    "O [`DTW`](https://en.wikipedia.org/wiki/Dynamic_time_warping) leva muito tempo para calcular o `silhouette_score`."
   ]
  },
  {
   "cell_type": "markdown",
   "metadata": {
    "id": "BoWYdSOKYCrG"
   },
   "source": [
    "## Agrupando os dados brutos"
   ]
  },
  {
   "cell_type": "markdown",
   "metadata": {
    "id": "kK1X4-nGZXZj"
   },
   "source": [
    "Agrupando os dados brutos com KMenas tradicional sem redução nos dados."
   ]
  },
  {
   "cell_type": "code",
   "execution_count": 43,
   "metadata": {
    "colab": {
     "base_uri": "https://localhost:8080/"
    },
    "id": "KW64tdOAMdwe",
    "outputId": "5d36d4b0-37d6-455f-c8a7-f23883682c81"
   },
   "outputs": [
    {
     "name": "stdout",
     "output_type": "stream",
     "text": [
      "(2, 0.4861528872227653)\n",
      "(3, 0.4271421626237035)\n",
      "(4, 0.4109942945974519)\n",
      "(5, 0.3707055215097429)\n",
      "(6, 0.33690763679260655)\n",
      "(7, 0.3434444996017783)\n",
      "(8, 0.3369499135434381)\n",
      "(9, 0.3346340301879795)\n",
      "(10, 0.33207876745571036)\n"
     ]
    }
   ],
   "source": [
    "for n in range_clusters:\n",
    "  km = KMeans(n_clusters=n)\n",
    "  labels = km.fit_predict(X)\n",
    "  print((n, skmetrics.silhouette_score(X, labels)))"
   ]
  },
  {
   "cell_type": "code",
   "execution_count": 47,
   "metadata": {
    "colab": {
     "base_uri": "https://localhost:8080/",
     "height": 127
    },
    "id": "Onv1MTL9YtaJ",
    "outputId": "25ebe82b-9c0c-4bc8-8f52-f3ed613b3524"
   },
   "outputs": [
    {
     "name": "stdout",
     "output_type": "stream",
     "text": [
      "(array([0, 1], dtype=int32), array([1665, 1255]))\n"
     ]
    },
    {
     "data": {
      "text/html": [
       "<div>\n",
       "<style scoped>\n",
       "    .dataframe tbody tr th:only-of-type {\n",
       "        vertical-align: middle;\n",
       "    }\n",
       "\n",
       "    .dataframe tbody tr th {\n",
       "        vertical-align: top;\n",
       "    }\n",
       "\n",
       "    .dataframe thead th {\n",
       "        text-align: right;\n",
       "    }\n",
       "</style>\n",
       "<table border=\"1\" class=\"dataframe\">\n",
       "  <thead>\n",
       "    <tr style=\"text-align: right;\">\n",
       "      <th></th>\n",
       "      <th>irradiance_direct</th>\n",
       "      <th>irradiance_diffuse</th>\n",
       "      <th>temperature</th>\n",
       "      <th>wind_speed</th>\n",
       "    </tr>\n",
       "  </thead>\n",
       "  <tbody>\n",
       "    <tr>\n",
       "      <th>0</th>\n",
       "      <td>0.204357</td>\n",
       "      <td>0.096517</td>\n",
       "      <td>23.034102</td>\n",
       "      <td>2.968263</td>\n",
       "    </tr>\n",
       "    <tr>\n",
       "      <th>1</th>\n",
       "      <td>0.079639</td>\n",
       "      <td>0.035710</td>\n",
       "      <td>15.457484</td>\n",
       "      <td>2.943264</td>\n",
       "    </tr>\n",
       "  </tbody>\n",
       "</table>\n",
       "</div>"
      ],
      "text/plain": [
       "   irradiance_direct  irradiance_diffuse  temperature  wind_speed\n",
       "0           0.204357            0.096517    23.034102    2.968263\n",
       "1           0.079639            0.035710    15.457484    2.943264"
      ]
     },
     "execution_count": 47,
     "metadata": {
      "tags": []
     },
     "output_type": "execute_result"
    }
   ],
   "source": [
    "km = KMeans(n_clusters=2)\n",
    "labels = km.fit_predict(X_train)\n",
    "print(np.unique(labels, return_counts=True))\n",
    "pd.DataFrame(data=km.cluster_centers_, columns=X.columns)"
   ]
  },
  {
   "cell_type": "markdown",
   "metadata": {
    "id": "OxfhWpr2abP9"
   },
   "source": [
    "Os dois clusters criados estão, provavelmente, dividindo dia e noite."
   ]
  },
  {
   "cell_type": "markdown",
   "metadata": {
    "id": "5MHkrcZja_Ei"
   },
   "source": [
    "### Removendo o `wind_speed` do modelo"
   ]
  },
  {
   "cell_type": "code",
   "execution_count": 48,
   "metadata": {
    "colab": {
     "base_uri": "https://localhost:8080/",
     "height": 203
    },
    "id": "7IOV4OJoZ0CO",
    "outputId": "619348f6-aacf-4f4c-c3e0-e0cacf361b90",
    "scrolled": true
   },
   "outputs": [
    {
     "data": {
      "text/html": [
       "<div>\n",
       "<style scoped>\n",
       "    .dataframe tbody tr th:only-of-type {\n",
       "        vertical-align: middle;\n",
       "    }\n",
       "\n",
       "    .dataframe tbody tr th {\n",
       "        vertical-align: top;\n",
       "    }\n",
       "\n",
       "    .dataframe thead th {\n",
       "        text-align: right;\n",
       "    }\n",
       "</style>\n",
       "<table border=\"1\" class=\"dataframe\">\n",
       "  <thead>\n",
       "    <tr style=\"text-align: right;\">\n",
       "      <th></th>\n",
       "      <th>irradiance_direct</th>\n",
       "      <th>irradiance_diffuse</th>\n",
       "      <th>temperature</th>\n",
       "    </tr>\n",
       "  </thead>\n",
       "  <tbody>\n",
       "    <tr>\n",
       "      <th>2481</th>\n",
       "      <td>0.001</td>\n",
       "      <td>0.003</td>\n",
       "      <td>21.428</td>\n",
       "    </tr>\n",
       "    <tr>\n",
       "      <th>3569</th>\n",
       "      <td>0.272</td>\n",
       "      <td>0.172</td>\n",
       "      <td>19.130</td>\n",
       "    </tr>\n",
       "    <tr>\n",
       "      <th>177</th>\n",
       "      <td>0.000</td>\n",
       "      <td>0.096</td>\n",
       "      <td>24.438</td>\n",
       "    </tr>\n",
       "    <tr>\n",
       "      <th>6959</th>\n",
       "      <td>0.000</td>\n",
       "      <td>0.000</td>\n",
       "      <td>20.531</td>\n",
       "    </tr>\n",
       "    <tr>\n",
       "      <th>5068</th>\n",
       "      <td>0.000</td>\n",
       "      <td>0.000</td>\n",
       "      <td>12.678</td>\n",
       "    </tr>\n",
       "  </tbody>\n",
       "</table>\n",
       "</div>"
      ],
      "text/plain": [
       "      irradiance_direct  irradiance_diffuse  temperature\n",
       "2481              0.001               0.003       21.428\n",
       "3569              0.272               0.172       19.130\n",
       "177               0.000               0.096       24.438\n",
       "6959              0.000               0.000       20.531\n",
       "5068              0.000               0.000       12.678"
      ]
     },
     "execution_count": 48,
     "metadata": {
      "tags": []
     },
     "output_type": "execute_result"
    }
   ],
   "source": [
    "X = osorio.drop(columns=['local_time', 'wind_speed'])\n",
    "X.sample(5)"
   ]
  },
  {
   "cell_type": "markdown",
   "metadata": {
    "id": "3b0wwv5obK68"
   },
   "source": [
    "Rodando o `TimeSeriesKMeans` com os dados reduzidos (1 a cada 3 horas obtidas). E utilizando uma distância diferente para o coeficiente de silhueta."
   ]
  },
  {
   "cell_type": "code",
   "execution_count": 50,
   "metadata": {
    "id": "CrJzJ5HUboQe"
   },
   "outputs": [],
   "source": [
    "X_train = X[0::3]"
   ]
  },
  {
   "cell_type": "code",
   "execution_count": 51,
   "metadata": {
    "colab": {
     "base_uri": "https://localhost:8080/",
     "height": 438
    },
    "id": "435EL32zbF_1",
    "outputId": "3506d93b-8072-48de-8d29-f0e9bec4d36c"
   },
   "outputs": [
    {
     "name": "stdout",
     "output_type": "stream",
     "text": [
      "(2, 0.5483925464593212)\n",
      "(3, 0.5118649073465417)\n",
      "(4, 0.5233409760027495)\n",
      "(5, 0.5154717137671124)\n",
      "(6, 0.5046977688260261)\n"
     ]
    },
    {
     "ename": "KeyboardInterrupt",
     "evalue": "ignored",
     "output_type": "error",
     "traceback": [
      "\u001b[0;31m---------------------------------------------------------------------------\u001b[0m",
      "\u001b[0;31mKeyboardInterrupt\u001b[0m                         Traceback (most recent call last)",
      "\u001b[0;32m<ipython-input-51-405de0cdcbc4>\u001b[0m in \u001b[0;36m<module>\u001b[0;34m()\u001b[0m\n\u001b[1;32m      1\u001b[0m \u001b[0;32mfor\u001b[0m \u001b[0mn\u001b[0m \u001b[0;32min\u001b[0m \u001b[0mrange_clusters\u001b[0m\u001b[0;34m:\u001b[0m\u001b[0;34m\u001b[0m\u001b[0;34m\u001b[0m\u001b[0m\n\u001b[1;32m      2\u001b[0m   \u001b[0mkm\u001b[0m \u001b[0;34m=\u001b[0m \u001b[0mTimeSeriesKMeans\u001b[0m\u001b[0;34m(\u001b[0m\u001b[0mn_clusters\u001b[0m\u001b[0;34m=\u001b[0m\u001b[0mn\u001b[0m\u001b[0;34m,\u001b[0m \u001b[0mmax_iter\u001b[0m\u001b[0;34m=\u001b[0m\u001b[0;36m100\u001b[0m\u001b[0;34m,\u001b[0m \u001b[0mn_init\u001b[0m\u001b[0;34m=\u001b[0m\u001b[0;36m5\u001b[0m\u001b[0;34m,\u001b[0m \u001b[0mmetric\u001b[0m\u001b[0;34m=\u001b[0m\u001b[0;34m\"dtw\"\u001b[0m\u001b[0;34m)\u001b[0m\u001b[0;34m\u001b[0m\u001b[0;34m\u001b[0m\u001b[0m\n\u001b[0;32m----> 3\u001b[0;31m   \u001b[0mlabels\u001b[0m \u001b[0;34m=\u001b[0m \u001b[0mkm\u001b[0m\u001b[0;34m.\u001b[0m\u001b[0mfit_predict\u001b[0m\u001b[0;34m(\u001b[0m\u001b[0mX_train\u001b[0m\u001b[0;34m)\u001b[0m\u001b[0;34m\u001b[0m\u001b[0;34m\u001b[0m\u001b[0m\n\u001b[0m\u001b[1;32m      4\u001b[0m   \u001b[0mprint\u001b[0m\u001b[0;34m(\u001b[0m\u001b[0;34m(\u001b[0m\u001b[0mn\u001b[0m\u001b[0;34m,\u001b[0m \u001b[0msilhouette_score\u001b[0m\u001b[0;34m(\u001b[0m\u001b[0mX_train\u001b[0m\u001b[0;34m,\u001b[0m \u001b[0mlabels\u001b[0m\u001b[0;34m,\u001b[0m \u001b[0mmetric\u001b[0m\u001b[0;34m=\u001b[0m\u001b[0;34m\"euclidean\"\u001b[0m\u001b[0;34m)\u001b[0m\u001b[0;34m)\u001b[0m\u001b[0;34m)\u001b[0m\u001b[0;34m\u001b[0m\u001b[0;34m\u001b[0m\u001b[0m\n",
      "\u001b[0;32m/usr/local/lib/python3.7/dist-packages/tslearn/clustering/kmeans.py\u001b[0m in \u001b[0;36mfit_predict\u001b[0;34m(self, X, y)\u001b[0m\n\u001b[1;32m    811\u001b[0m         \"\"\"\n\u001b[1;32m    812\u001b[0m         \u001b[0mX\u001b[0m \u001b[0;34m=\u001b[0m \u001b[0mcheck_array\u001b[0m\u001b[0;34m(\u001b[0m\u001b[0mX\u001b[0m\u001b[0;34m,\u001b[0m \u001b[0mallow_nd\u001b[0m\u001b[0;34m=\u001b[0m\u001b[0;32mTrue\u001b[0m\u001b[0;34m,\u001b[0m \u001b[0mforce_all_finite\u001b[0m\u001b[0;34m=\u001b[0m\u001b[0;34m'allow-nan'\u001b[0m\u001b[0;34m)\u001b[0m\u001b[0;34m\u001b[0m\u001b[0;34m\u001b[0m\u001b[0m\n\u001b[0;32m--> 813\u001b[0;31m         \u001b[0;32mreturn\u001b[0m \u001b[0mself\u001b[0m\u001b[0;34m.\u001b[0m\u001b[0mfit\u001b[0m\u001b[0;34m(\u001b[0m\u001b[0mX\u001b[0m\u001b[0;34m,\u001b[0m \u001b[0my\u001b[0m\u001b[0;34m)\u001b[0m\u001b[0;34m.\u001b[0m\u001b[0mlabels_\u001b[0m\u001b[0;34m\u001b[0m\u001b[0;34m\u001b[0m\u001b[0m\n\u001b[0m\u001b[1;32m    814\u001b[0m \u001b[0;34m\u001b[0m\u001b[0m\n\u001b[1;32m    815\u001b[0m     \u001b[0;32mdef\u001b[0m \u001b[0mpredict\u001b[0m\u001b[0;34m(\u001b[0m\u001b[0mself\u001b[0m\u001b[0;34m,\u001b[0m \u001b[0mX\u001b[0m\u001b[0;34m)\u001b[0m\u001b[0;34m:\u001b[0m\u001b[0;34m\u001b[0m\u001b[0;34m\u001b[0m\u001b[0m\n",
      "\u001b[0;32m/usr/local/lib/python3.7/dist-packages/tslearn/clustering/kmeans.py\u001b[0m in \u001b[0;36mfit\u001b[0;34m(self, X, y)\u001b[0m\n\u001b[1;32m    778\u001b[0m                     \u001b[0mprint\u001b[0m\u001b[0;34m(\u001b[0m\u001b[0;34m\"Init %d\"\u001b[0m \u001b[0;34m%\u001b[0m \u001b[0;34m(\u001b[0m\u001b[0mn_successful\u001b[0m \u001b[0;34m+\u001b[0m \u001b[0;36m1\u001b[0m\u001b[0;34m)\u001b[0m\u001b[0;34m)\u001b[0m\u001b[0;34m\u001b[0m\u001b[0;34m\u001b[0m\u001b[0m\n\u001b[1;32m    779\u001b[0m                 \u001b[0mn_attempts\u001b[0m \u001b[0;34m+=\u001b[0m \u001b[0;36m1\u001b[0m\u001b[0;34m\u001b[0m\u001b[0;34m\u001b[0m\u001b[0m\n\u001b[0;32m--> 780\u001b[0;31m                 \u001b[0mself\u001b[0m\u001b[0;34m.\u001b[0m\u001b[0m_fit_one_init\u001b[0m\u001b[0;34m(\u001b[0m\u001b[0mX_\u001b[0m\u001b[0;34m,\u001b[0m \u001b[0mx_squared_norms\u001b[0m\u001b[0;34m,\u001b[0m \u001b[0mrs\u001b[0m\u001b[0;34m)\u001b[0m\u001b[0;34m\u001b[0m\u001b[0;34m\u001b[0m\u001b[0m\n\u001b[0m\u001b[1;32m    781\u001b[0m                 \u001b[0;32mif\u001b[0m \u001b[0mself\u001b[0m\u001b[0;34m.\u001b[0m\u001b[0minertia_\u001b[0m \u001b[0;34m<\u001b[0m \u001b[0mmin_inertia\u001b[0m\u001b[0;34m:\u001b[0m\u001b[0;34m\u001b[0m\u001b[0;34m\u001b[0m\u001b[0m\n\u001b[1;32m    782\u001b[0m                     \u001b[0mbest_correct_centroids\u001b[0m \u001b[0;34m=\u001b[0m \u001b[0mself\u001b[0m\u001b[0;34m.\u001b[0m\u001b[0mcluster_centers_\u001b[0m\u001b[0;34m.\u001b[0m\u001b[0mcopy\u001b[0m\u001b[0;34m(\u001b[0m\u001b[0;34m)\u001b[0m\u001b[0;34m\u001b[0m\u001b[0;34m\u001b[0m\u001b[0m\n",
      "\u001b[0;32m/usr/local/lib/python3.7/dist-packages/tslearn/clustering/kmeans.py\u001b[0m in \u001b[0;36m_fit_one_init\u001b[0;34m(self, X, x_squared_norms, rs)\u001b[0m\n\u001b[1;32m    660\u001b[0m \u001b[0;34m\u001b[0m\u001b[0m\n\u001b[1;32m    661\u001b[0m         \u001b[0;32mfor\u001b[0m \u001b[0mit\u001b[0m \u001b[0;32min\u001b[0m \u001b[0mrange\u001b[0m\u001b[0;34m(\u001b[0m\u001b[0mself\u001b[0m\u001b[0;34m.\u001b[0m\u001b[0mmax_iter\u001b[0m\u001b[0;34m)\u001b[0m\u001b[0;34m:\u001b[0m\u001b[0;34m\u001b[0m\u001b[0;34m\u001b[0m\u001b[0m\n\u001b[0;32m--> 662\u001b[0;31m             \u001b[0mself\u001b[0m\u001b[0;34m.\u001b[0m\u001b[0m_assign\u001b[0m\u001b[0;34m(\u001b[0m\u001b[0mX\u001b[0m\u001b[0;34m)\u001b[0m\u001b[0;34m\u001b[0m\u001b[0;34m\u001b[0m\u001b[0m\n\u001b[0m\u001b[1;32m    663\u001b[0m             \u001b[0;32mif\u001b[0m \u001b[0mself\u001b[0m\u001b[0;34m.\u001b[0m\u001b[0mverbose\u001b[0m\u001b[0;34m:\u001b[0m\u001b[0;34m\u001b[0m\u001b[0;34m\u001b[0m\u001b[0m\n\u001b[1;32m    664\u001b[0m                 \u001b[0mprint\u001b[0m\u001b[0;34m(\u001b[0m\u001b[0;34m\"%.3f\"\u001b[0m \u001b[0;34m%\u001b[0m \u001b[0mself\u001b[0m\u001b[0;34m.\u001b[0m\u001b[0minertia_\u001b[0m\u001b[0;34m,\u001b[0m \u001b[0mend\u001b[0m\u001b[0;34m=\u001b[0m\u001b[0;34m\" --> \"\u001b[0m\u001b[0;34m)\u001b[0m\u001b[0;34m\u001b[0m\u001b[0;34m\u001b[0m\u001b[0m\n",
      "\u001b[0;32m/usr/local/lib/python3.7/dist-packages/tslearn/clustering/kmeans.py\u001b[0m in \u001b[0;36m_assign\u001b[0;34m(self, X, update_class_attributes)\u001b[0m\n\u001b[1;32m    691\u001b[0m \u001b[0;34m\u001b[0m\u001b[0m\n\u001b[1;32m    692\u001b[0m     \u001b[0;32mdef\u001b[0m \u001b[0m_assign\u001b[0m\u001b[0;34m(\u001b[0m\u001b[0mself\u001b[0m\u001b[0;34m,\u001b[0m \u001b[0mX\u001b[0m\u001b[0;34m,\u001b[0m \u001b[0mupdate_class_attributes\u001b[0m\u001b[0;34m=\u001b[0m\u001b[0;32mTrue\u001b[0m\u001b[0;34m)\u001b[0m\u001b[0;34m:\u001b[0m\u001b[0;34m\u001b[0m\u001b[0;34m\u001b[0m\u001b[0m\n\u001b[0;32m--> 693\u001b[0;31m         \u001b[0mdists\u001b[0m \u001b[0;34m=\u001b[0m \u001b[0mself\u001b[0m\u001b[0;34m.\u001b[0m\u001b[0m_transform\u001b[0m\u001b[0;34m(\u001b[0m\u001b[0mX\u001b[0m\u001b[0;34m)\u001b[0m\u001b[0;34m\u001b[0m\u001b[0;34m\u001b[0m\u001b[0m\n\u001b[0m\u001b[1;32m    694\u001b[0m         \u001b[0mmatched_labels\u001b[0m \u001b[0;34m=\u001b[0m \u001b[0mdists\u001b[0m\u001b[0;34m.\u001b[0m\u001b[0margmin\u001b[0m\u001b[0;34m(\u001b[0m\u001b[0maxis\u001b[0m\u001b[0;34m=\u001b[0m\u001b[0;36m1\u001b[0m\u001b[0;34m)\u001b[0m\u001b[0;34m\u001b[0m\u001b[0;34m\u001b[0m\u001b[0m\n\u001b[1;32m    695\u001b[0m         \u001b[0;32mif\u001b[0m \u001b[0mupdate_class_attributes\u001b[0m\u001b[0;34m:\u001b[0m\u001b[0;34m\u001b[0m\u001b[0;34m\u001b[0m\u001b[0m\n",
      "\u001b[0;32m/usr/local/lib/python3.7/dist-packages/tslearn/clustering/kmeans.py\u001b[0m in \u001b[0;36m_transform\u001b[0;34m(self, X)\u001b[0m\n\u001b[1;32m    683\u001b[0m         \u001b[0;32melif\u001b[0m \u001b[0mself\u001b[0m\u001b[0;34m.\u001b[0m\u001b[0mmetric\u001b[0m \u001b[0;34m==\u001b[0m \u001b[0;34m\"dtw\"\u001b[0m\u001b[0;34m:\u001b[0m\u001b[0;34m\u001b[0m\u001b[0;34m\u001b[0m\u001b[0m\n\u001b[1;32m    684\u001b[0m             return cdist_dtw(X, self.cluster_centers_, n_jobs=self.n_jobs,\n\u001b[0;32m--> 685\u001b[0;31m                              verbose=self.verbose, **metric_params)\n\u001b[0m\u001b[1;32m    686\u001b[0m         \u001b[0;32melif\u001b[0m \u001b[0mself\u001b[0m\u001b[0;34m.\u001b[0m\u001b[0mmetric\u001b[0m \u001b[0;34m==\u001b[0m \u001b[0;34m\"softdtw\"\u001b[0m\u001b[0;34m:\u001b[0m\u001b[0;34m\u001b[0m\u001b[0;34m\u001b[0m\u001b[0m\n\u001b[1;32m    687\u001b[0m             \u001b[0;32mreturn\u001b[0m \u001b[0mcdist_soft_dtw\u001b[0m\u001b[0;34m(\u001b[0m\u001b[0mX\u001b[0m\u001b[0;34m,\u001b[0m \u001b[0mself\u001b[0m\u001b[0;34m.\u001b[0m\u001b[0mcluster_centers_\u001b[0m\u001b[0;34m,\u001b[0m \u001b[0;34m**\u001b[0m\u001b[0mmetric_params\u001b[0m\u001b[0;34m)\u001b[0m\u001b[0;34m\u001b[0m\u001b[0;34m\u001b[0m\u001b[0m\n",
      "\u001b[0;32m/usr/local/lib/python3.7/dist-packages/tslearn/metrics/dtw_variants.py\u001b[0m in \u001b[0;36mcdist_dtw\u001b[0;34m(dataset1, dataset2, global_constraint, sakoe_chiba_radius, itakura_max_slope, n_jobs, verbose)\u001b[0m\n\u001b[1;32m   1223\u001b[0m                           \u001b[0mglobal_constraint\u001b[0m\u001b[0;34m=\u001b[0m\u001b[0mglobal_constraint\u001b[0m\u001b[0;34m,\u001b[0m\u001b[0;34m\u001b[0m\u001b[0;34m\u001b[0m\u001b[0m\n\u001b[1;32m   1224\u001b[0m                           \u001b[0msakoe_chiba_radius\u001b[0m\u001b[0;34m=\u001b[0m\u001b[0msakoe_chiba_radius\u001b[0m\u001b[0;34m,\u001b[0m\u001b[0;34m\u001b[0m\u001b[0;34m\u001b[0m\u001b[0m\n\u001b[0;32m-> 1225\u001b[0;31m                           itakura_max_slope=itakura_max_slope)\n\u001b[0m\u001b[1;32m   1226\u001b[0m \u001b[0;34m\u001b[0m\u001b[0m\n\u001b[1;32m   1227\u001b[0m \u001b[0;32mdef\u001b[0m \u001b[0mlb_keogh\u001b[0m\u001b[0;34m(\u001b[0m\u001b[0mts_query\u001b[0m\u001b[0;34m,\u001b[0m \u001b[0mts_candidate\u001b[0m\u001b[0;34m=\u001b[0m\u001b[0;32mNone\u001b[0m\u001b[0;34m,\u001b[0m \u001b[0mradius\u001b[0m\u001b[0;34m=\u001b[0m\u001b[0;36m1\u001b[0m\u001b[0;34m,\u001b[0m \u001b[0menvelope_candidate\u001b[0m\u001b[0;34m=\u001b[0m\u001b[0;32mNone\u001b[0m\u001b[0;34m)\u001b[0m\u001b[0;34m:\u001b[0m\u001b[0;34m\u001b[0m\u001b[0;34m\u001b[0m\u001b[0m\n",
      "\u001b[0;32m/usr/local/lib/python3.7/dist-packages/tslearn/metrics/utils.py\u001b[0m in \u001b[0;36m_cdist_generic\u001b[0;34m(dist_fun, dataset1, dataset2, n_jobs, verbose, compute_diagonal, dtype, *args, **kwargs)\u001b[0m\n\u001b[1;32m     81\u001b[0m                 \u001b[0;34m*\u001b[0m\u001b[0margs\u001b[0m\u001b[0;34m,\u001b[0m \u001b[0;34m**\u001b[0m\u001b[0mkwargs\u001b[0m\u001b[0;34m\u001b[0m\u001b[0;34m\u001b[0m\u001b[0m\n\u001b[1;32m     82\u001b[0m             )\n\u001b[0;32m---> 83\u001b[0;31m             \u001b[0;32mfor\u001b[0m \u001b[0mi\u001b[0m \u001b[0;32min\u001b[0m \u001b[0mrange\u001b[0m\u001b[0;34m(\u001b[0m\u001b[0mlen\u001b[0m\u001b[0;34m(\u001b[0m\u001b[0mdataset1\u001b[0m\u001b[0;34m)\u001b[0m\u001b[0;34m)\u001b[0m \u001b[0;32mfor\u001b[0m \u001b[0mj\u001b[0m \u001b[0;32min\u001b[0m \u001b[0mrange\u001b[0m\u001b[0;34m(\u001b[0m\u001b[0mlen\u001b[0m\u001b[0;34m(\u001b[0m\u001b[0mdataset2\u001b[0m\u001b[0;34m)\u001b[0m\u001b[0;34m)\u001b[0m\u001b[0;34m\u001b[0m\u001b[0;34m\u001b[0m\u001b[0m\n\u001b[0m\u001b[1;32m     84\u001b[0m         )\n\u001b[1;32m     85\u001b[0m         \u001b[0;32mreturn\u001b[0m \u001b[0mnumpy\u001b[0m\u001b[0;34m.\u001b[0m\u001b[0marray\u001b[0m\u001b[0;34m(\u001b[0m\u001b[0mmatrix\u001b[0m\u001b[0;34m)\u001b[0m\u001b[0;34m.\u001b[0m\u001b[0mreshape\u001b[0m\u001b[0;34m(\u001b[0m\u001b[0;34m(\u001b[0m\u001b[0mlen\u001b[0m\u001b[0;34m(\u001b[0m\u001b[0mdataset1\u001b[0m\u001b[0;34m)\u001b[0m\u001b[0;34m,\u001b[0m \u001b[0;34m-\u001b[0m\u001b[0;36m1\u001b[0m\u001b[0;34m)\u001b[0m\u001b[0;34m)\u001b[0m\u001b[0;34m\u001b[0m\u001b[0;34m\u001b[0m\u001b[0m\n",
      "\u001b[0;32m/usr/local/lib/python3.7/dist-packages/joblib/parallel.py\u001b[0m in \u001b[0;36m__call__\u001b[0;34m(self, iterable)\u001b[0m\n\u001b[1;32m   1052\u001b[0m \u001b[0;34m\u001b[0m\u001b[0m\n\u001b[1;32m   1053\u001b[0m             \u001b[0;32mwith\u001b[0m \u001b[0mself\u001b[0m\u001b[0;34m.\u001b[0m\u001b[0m_backend\u001b[0m\u001b[0;34m.\u001b[0m\u001b[0mretrieval_context\u001b[0m\u001b[0;34m(\u001b[0m\u001b[0;34m)\u001b[0m\u001b[0;34m:\u001b[0m\u001b[0;34m\u001b[0m\u001b[0;34m\u001b[0m\u001b[0m\n\u001b[0;32m-> 1054\u001b[0;31m                 \u001b[0mself\u001b[0m\u001b[0;34m.\u001b[0m\u001b[0mretrieve\u001b[0m\u001b[0;34m(\u001b[0m\u001b[0;34m)\u001b[0m\u001b[0;34m\u001b[0m\u001b[0;34m\u001b[0m\u001b[0m\n\u001b[0m\u001b[1;32m   1055\u001b[0m             \u001b[0;31m# Make sure that we get a last message telling us we are done\u001b[0m\u001b[0;34m\u001b[0m\u001b[0;34m\u001b[0m\u001b[0;34m\u001b[0m\u001b[0m\n\u001b[1;32m   1056\u001b[0m             \u001b[0melapsed_time\u001b[0m \u001b[0;34m=\u001b[0m \u001b[0mtime\u001b[0m\u001b[0;34m.\u001b[0m\u001b[0mtime\u001b[0m\u001b[0;34m(\u001b[0m\u001b[0;34m)\u001b[0m \u001b[0;34m-\u001b[0m \u001b[0mself\u001b[0m\u001b[0;34m.\u001b[0m\u001b[0m_start_time\u001b[0m\u001b[0;34m\u001b[0m\u001b[0;34m\u001b[0m\u001b[0m\n",
      "\u001b[0;32m/usr/local/lib/python3.7/dist-packages/joblib/parallel.py\u001b[0m in \u001b[0;36mretrieve\u001b[0;34m(self)\u001b[0m\n\u001b[1;32m    927\u001b[0m             \u001b[0;31m# the use of the lock\u001b[0m\u001b[0;34m\u001b[0m\u001b[0;34m\u001b[0m\u001b[0;34m\u001b[0m\u001b[0m\n\u001b[1;32m    928\u001b[0m             \u001b[0;32mwith\u001b[0m \u001b[0mself\u001b[0m\u001b[0;34m.\u001b[0m\u001b[0m_lock\u001b[0m\u001b[0;34m:\u001b[0m\u001b[0;34m\u001b[0m\u001b[0;34m\u001b[0m\u001b[0m\n\u001b[0;32m--> 929\u001b[0;31m                 \u001b[0mjob\u001b[0m \u001b[0;34m=\u001b[0m \u001b[0mself\u001b[0m\u001b[0;34m.\u001b[0m\u001b[0m_jobs\u001b[0m\u001b[0;34m.\u001b[0m\u001b[0mpop\u001b[0m\u001b[0;34m(\u001b[0m\u001b[0;36m0\u001b[0m\u001b[0;34m)\u001b[0m\u001b[0;34m\u001b[0m\u001b[0;34m\u001b[0m\u001b[0m\n\u001b[0m\u001b[1;32m    930\u001b[0m \u001b[0;34m\u001b[0m\u001b[0m\n\u001b[1;32m    931\u001b[0m             \u001b[0;32mtry\u001b[0m\u001b[0;34m:\u001b[0m\u001b[0;34m\u001b[0m\u001b[0;34m\u001b[0m\u001b[0m\n",
      "\u001b[0;31mKeyboardInterrupt\u001b[0m: "
     ]
    }
   ],
   "source": [
    "#for n in range_clusters:\n",
    "#  km = TimeSeriesKMeans(n_clusters=n, max_iter=100, n_init=5, metric=\"dtw\")\n",
    "#  labels = km.fit_predict(X_train)\n",
    "#  print((n, silhouette_score(X_train, labels, metric=\"euclidean\")))"
   ]
  },
  {
   "cell_type": "markdown",
   "metadata": {
    "id": "5uVAszzGgnRz"
   },
   "source": [
    "![image.png](data:image/png;base64,iVBORw0KGgoAAAANSUhEUgAAAPwAAAB2CAYAAADsgP7ZAAAdpElEQVR4Ae1dbZLbOg7cY+VWqb1I3i02R8gZXuX3nMdbJNEgAAIkJEvjTMwfKXkkCh+NbpCSJec/3759e+x/G4PNgffgwH92od+j0LvOu86FA1vwe4WzV3hvxIEt+Dcq9p7l9yy/Bb8Fv2f4N+LAFvwbFXvP8HuG34Lfgt8z/BtxYAv+jYq9Z/g9w2/Bb8HvGf6NOLAF/0bF3jP8nuEPC/77/34/Pv79+fi+hbJnxs2Bwxz48evj8fHrx+HzrmrWxwT/z6/Hx8fH49c/u1NeVYBt58249N+fj98fH4/f//v+EtHnBb8ItHauj4/aEEpT+JQuRjFVf9X3r8ePM7MONbJuB3nE9upKJ/T5/fHzX9igrVkV9fPFuKDzW2y9hjvYM/5KYxnGoF7OWDQi9h2O+fH4BTshHk3U3b/F1dromAy52loNmDnYB5NUj8evETCoW/ZrY6eGNXDx9+Pnf4Nm9sKJMy34Wvig6PWYBB7Jy31nhDg7h0DrnRKFDgqytDUpkD0X+bkEJ/Kq3GlfgF8lFGyq8ygneR6N63mTkOWYb76/RvAD+DDJP9zLOAhmEKXFq/yN/CaYyZyU2Mhe8yfr5ODj+PbirPsSmH0Dlr9+PFrzc/Crucm4vtFYvU/mFNpy4pfnPfs5J3gqVqqwFPC9CVGhlThKN21EXxFnAK0SOy6OHV9z+/fn40e5n/FhCBDYaqQzY01xYRf3R6JzMti2c3VOkT2bX/u7Y2zjqscPcgI2XMwydYv8UVOaczPHixGzhgFsZ3BnLCnekIur44YbbPfJ/SnBHyNKW8YcAudoEkHxW5z+bDQFLBCpe44Y6+ISEBCEh5g923aM/ZvPETHwPoPhSF4s6edNB/Zkbl4c3j6cO2xFvNJuH5cQpLDRz8s2+YR9vuTRTVL6qjnbBm9w5/FLQedWJ2wv8nNwf0LwvdPnnd+cjFN8ENCfQYJrKYBV7fXrxnYt7wlDE8cnL5Zz/cZMI0pMpIorxYDZpOyL7H9zxtraeORs9kyeallLOJmGCmx7s+qcaH66zXFGy2DWxth7KBILXBKofbV+dO6w2us197CweJW/V+NWx5XNRI3C+oKXN2wTgtcFU0kFAYFYY/F7ETJ2wjEVTAhIx3cNiEToD/hocVvb9m8VLxU8bh7fHhAuiD7gRcLTN0C7OEbyE77wPRFBixW2dHOrxBaNwP6NS6cSt4qB/Mo8LEb2b4WZ4FMb15vmt2+oiRNruS9gcm3iRCPSdXR9JjDLC97HdfBbfSZiE7gMNg4eu1zwKJQtwLOBqvMB1D/tKw5JuiyhlD0PNLskM7NeOT/yBbK1uEBUSV6v8WGcJjRmNjSFes8A+Xt3gUFcIdhprjSeMXRsh4I3Iit+1NgDmI0xEh4qD2AEIZeGoxv+aEfcMHTireOTmOUED7EnhOxg7cbv8fPkvmsFnwTu6aQw85kZuNhVhDsJSouPCldJQkQzhPEEj4bHAqIYGlkWJHAE4mHl+a3jGBfTNGY40DltVvbFM2Lq46Hx98eEsTsxpgT2iZit4+kNydbfq2Nb4S044eDi2kqOSwjeL9zg9IDYG3CrGc+bBbEvisknbF8OmiXoDCTKpxaOhdRnlj7jYl8TWcttLGLUCBSOKfK23OWyudrgGA+InVcpFC9qWL86Q15mSzNuzVPNvqU2oi4cjzlf2Z7FKhsu6j5uK65DHME4e8ONY5zF0W3NBU+528ucCceOND/Fk4nN1biE4OOlKxsHURLAMync72M7uGw7Sk4Kso4hwL0YuLDjtZ7rB+PNjG7HugUDFupcIq8lnMqNxnjxY1wUF/ZP7TvYUqxD84A/2rriJp/y3IbH2Owkbi5mxl/nyEyIENhsDOXs5XkCs1jwiOXAhILmOKv3gItTw4NjUoLHdaS/TOnJjrNeIDCI4ihBbXJsh2aRELweo5dDI6Geibxxkrjlc0heG1dpbia2Rp6VTzQKjPPF5NniWgi/4zjfns2znifs8HEWDeJbi8/FbLDj88bGL5sNx4QHZRYrCWuL8TK1mo5DU/fqzf4DjCnnDM96bp8leFwbPytQFmxiNuOxzyd5JWDb1q7HFRwIm+jNvM/N8CUIdGF0tScCa10z6HxP2L2iENvGFvTtHKAVwWfP7iWvvOCLEClQfymVIAovfdZLv9tB343lJW9rvX1daeI8raEneXtM8Lhu9a7nngzk7Ymw8XuLBlRXtxesks/q5bDgzzra5yVWQFv0byH6V2phC36LbIvsjTiwBf9GxX7lzLJ9/xkrvC34Lfg9w78RBw4Lvj44sW/abZG8kUiuXJ18rZt2L/z+8ErQt60/Y3n5lnX4Ml/LTQL1Hk299fVYzC54GIgfYzz5/T4/H4BHRLH17bUHh/zHPzuJ++O84Xeujt/oYQyLcWhTPFrqjrE+g6+IOEfCVtuyj/wCL9ryCrBjIB9djXIEduyb7ZgGZeuuxvk+i3+dg7TZ8wnHMG4jJzhe5qHEw3nAjGytcAAeV27TS/qalAJWAmY+oyABmS5JgEDrBUKhx4Is/VVbTmHQWLDlQhFBgvyaOH8/ftL7+j3GjhOPEe+0Q9SaCMceQ5bks35Hn4SZqquD44B1z0Nj22K1fuUYP0dhj3zVBqHiamNafrNaUfxBbWQs+DzDjH/sY/YjluCH2c4003ye4KrxgRyy25zgScCaiKJIThCzZLPBxeOioq4J59rMCL5igAJNBF9sgaiE2yiAfPyHcOQ6OTjwMVM3EhjXNsCiCRX5GxtU/7GheOOc2Jg/HRc37yA2XdNuQ+/3YumPjPs/pNFsAZtDIg1rT3GsjjMmQdwnj6cEnym2Bdct2MkgrW08149C4DhmDxZc1l+KSBL4ieClz7CoREo0BpxjRWn/xjh3K4nuiCrMUY/160b5Tt/1TmIy+YVaybMxDpmfrIX9nB1XzpNjNQ7glNweEfx6LPm2HHBra3M8/3dC8BKUpKNKriPvBiftAgyHvCDIvT9iiTiT5A4F32cW/plrGqvufSBPujTo18HjTCvFgmWoWlmEzUPm4tSaz5sLovmfLbUbdqEQ2I8Yp8QA/z+G/+RDN37KwVxPKyyIR0vMwDfahrGbcZiQPJ+ygWj/4Na924TgAfTiv8YhkYOUq2Rl4oc/Qwj1+lfHdw2IIE1E4OZTidMWvfxNJI6xgJ92k8eOa7nYd+lxjhS9xsAVPGYz84pzIzFuQJJtuv7VWFofkphzPNhHFaGPaR0jBG7/BpYf5mfNgJEWvYytv/Sl62XzsX8bGwdeEW/5yvqMtirnFY+DMR6vnth3neBVEB4pL0wIQH3mj1iq/OYE5wY2Ezwd48sPbpidKI3MjkDSs6Ft0qhLv4usr1274AfBLZfiTpwKM6o/8pY31VBPcQNz8B9i2WNm3B2/VoSD/Ul+sGttYL/ahnE6/HfyVracPJ49fpPg++w27bxnEwJpTLcvYIyFdIBO+Z2JenZM+AuLT+eLGa0WEnlBDBEhaFzF1h3T7NsVg0sWaQv4lZkYMQArM67bSmIBO3jjklcafqxjHf1x+jpcYC/8lVhV8zyJWUbwmTGMnRtHnAOfZ3I7sj8h+FwHHZyGBMEP/s++F10lHcW0IMX0ppPxWYsR3YdIkpwwGIRH+wdR4Tt0NIIIQ0GURrA+Y+OSSm4H/4IwVQjwV/YL27KmTTB99YFjSkjCLo57W2WLcJbxDp9rfEdrLutJ51KeZzFbijmqd4CLwiEY4+H3zL6E4NEdx2LHjkkQkkicEIFfr+eO2JQFBDGlIHVRVWwQmDdzcVzCPsbbWY7HPil4vp7Wy+BGAN0IR5JlfLcxM6HzzMgzLfJ3cAybXyYW2KUt2ZrHFqzUnDhGfIw/XrVorBU/al3XmK18rY5rnw7OzK8xB33u+eMpweOGSbQ8b4nqWSYaWwPnrv6E4As4bId8uw2mgNObjBcXhCZnlnEckbs2Kp1rOY/Ho1m44yTpekxzv31FhHErsfg37Y7YGWPj/AQpgZt3rBHUwyxX88opr57Lmjs+PTsiDxmrxdbjNuqgVmioezhJGJHS+Bg7M36I99zxnOC5S+aKte5GVJRUIc4lto5h290YvY4DYUO7SNhRbdOCxyyvutrJ4FrXlLPd64CPgNn7d01u44BzaXKbL6PRvODLiRSoXfakg+Xl2FUrhU3KNPam8Pu8F3GHlvKnNfRkHY8JHl9v7KX4fh/+SeK9a8Opq9vsdf4NGB8W/LsWauf9ohnxBtK/cy234Deh9mrljTiwBf9GxX7nmW3n3lZoW/Bb8HuGfyMOHBZ8fdhi37TbInkjkVy5OvhaN+1e+P3hlaBvW/sG3Ms48GW+lssGSuPU46Z3zQbCV3vc8eT3+/x8gH1k1tobH9scH40cx9h3uAvZ8FgqP6aZeM6/n2PjKgK2foMHm2yu5iui9lCUxQF/ezat3zG2HjfZMT4hPuvb+67ajrEPgg2+zCPOY700dp5PPH/CtRritxgAL/HItdTACyfO9JK+Ar1cyutnsH1wL5pdCLReIPgeCQdChdtqyyOzjLUVVeYEcsl9no9G0oV9NK+BTBQDjlcCmxxxTJzr+WzxyjgIs2Vd/ZdZMvkPcTix9ncdRF5DfSkGkeORpz9brMK+EGCLsYm086nhnsOsccOe63EB+5pPPx6MuWObEzwVaUVsfrXS+WGKa4Mnosri1wIeB77GlRK8FD8+U2cf4sBx2ibxqyQIxIdj3k944dh3QWIWEWKLYiBhTWtL5ypCR/ZkDNEYi7f9m2zMRAo+5YQzqRPH6HCHj5l6Dpg550ocvM9kW2Hqjbt4X0rwGeCxpKwJREBdFXxgv8VpfxLKFMuLISAcSBVvJ0SSfoJ4rV1fuHikuc3MYy0CshEp+TfzwhyD80X8nqjCWMV5Y6ylFliJ9deAfVuErXwTUdgGdl5sOIZti0OubMAJOXE4OKQxc851YkU8bZtfXenzEPu5bULwEpTYiSpakuCnE3EKAf/eDLj0w+Lo114slFnhKM95l04WlmIYZ1pNpkFEDtY8RuLkjGu4kLCwErD5ujl2TjTBddwkFqhJX3kgF/ohyuqz2+I6cawYb3+qCzzMYBvnxzjVnB1fHAf8YWtt0t+p+wWwgfs4n7usTwjeASIgBZM1BKony8W1tjJ/SyKb3yLTRTzrj4jk/IRWj3s2BscghKCoptFIscCPzcf+jevYhj35hXgVTohJx8KCxTkG/3Zcn4PV3HBjlvJBHkrwXiyO4HV+c+61sX2lAMzkto3xZndr2/5duHMOs+I/ExtfAovf8pOx3/H5AsEbkhXCfJbgnXsFmjBnBd9zAHk1+CBCcBfWiAZ3eX1biBE2hbgcHIf8eIxDWCUySWA0ohK/cx7iJ9tj3O0ce4e8YCRFjs/jqktypn/G+HFFMM7wEJQXQ69VLs42PsIBdUliBuzQLIJ7MtXnUB9w4b7t04IfCPgZgiciel93jaQ5C96CLNP/q2z0mYqLxVvO70LoBMbMIZqC+DqOV1hEOrc2TEiKUfnUcdeYh5/AimMrcco8WZQD6bW4mp8DP5xJKwn+xV+bk8rfmd1doemYJObD5wlmcmyMH+HsxqFrIO1d8TkheJ94zfnY/fi7SnE9Y4mIAo8zRzbZKKaoaD1OG0sIIpHKjj8bez1vIL7JVxKJPnt49n1N+L7tCCPts4rSi4v8RzVK+ZT5SFFaotu/lWBlc8MNzMyN2XXD7jj22Rv7orwLX0LMZI5oxMGlEttxG6quUchR5S93TkLw3qyyMB4VugbYxZe6MRYlNQiS7E7IW4s5KQADC7GZsWfFjpnONg/2V3MkgnrxCwyaLSMCR5wtVjNO2OEVREC45fmOzxabnlEHO855HIvMfajvEbGDszoWjbflcDRZyHHg7gzXMj4zbsJXVSfp//nPKcEfvianooYEp2I+JfgCCtuhDi0Jo0BDAfxrbggS3b1sh9gpJzlGfubx3jgnLjQP14aKXRfZFXwZP/gdSWl9hrMYbJmGNwgG43g1N/os5+T89hoBE8a04jEex7i6VbHmmqfOxxd8KvYBB+fyxNaUztE56lrr+K45lhM8F80v6PHAzhTkmoSPx7r9bsyu50BtJM5EcDfWacHzDKI66TkgWtc8stw65+du8Lb9XZdTHPAuV+wK4Ka/84IvAVCg4VJwFSQvwa9aKWzCnSLcqk77+H2vP9NS/rSGnqzNMcGn71BuIW4hbg54HKir2wtWyZ7tzL7Dgs8Y3WM22TcH/kwObME/uUTaxP4zib3r4tdlC34L/r7r1Y3tH4ftFvwm5R9Hyj07+7PzFbgcFnx98OMF3x9ekey2cR+RNrY5bL/WTbsXfn+4CZUj1MbpD8fpy3wtNwnUezS1Pu5490qAYuqPWJ78fp+fD7AvUfj22oND0eOT9BQhP27abYaPUYo85JgQV7Itx1ahsx3noSY+1uPpuHm59EdZ3e+MPcxMvQ/Hz0909hg5x8Pxi0d6Z1+DsV0HM7rc43qjpjN7MgeDBzfjF06c6SV9TTpIoBXWFwcnefW1MoHWyQiCnoij2ooLzjlwoUjUbuH9Z7LZxoAD4m4kZ4IP4/rMNeJNNv79+WjvnidygX0ivPTb7P9+/KTfG+gY9xjGfPKPS4/xi3cBXEwnfp348YAY3vX335nPYTYswdEgojiJI6sJrzWRE1xF3U5uc4L3QBUO3QKK4yM5JgVMnUfFGkA/KjaKIyP4igEKdKHg4dv5MQ8ft9F3IQ9EyWJN/orKQLwSDxo71R22/Xh6LXM8GOPnt8uGenbbke8h/mSdLsWMOdt5WeMCjnxc5HMQ2yj/o/tTgl8VcnX8aFDL8QSWnJXKOS2OzLvSAvhSDIguKRL+iSeXoEeajhgb5GSxaDnGM/jquLK3It3quCFyhgdufIfxp/ot4/Oai6k98ybGVGHGS3Y0/25P5r8UPF6hnTUFg6+N48zfCcH3rhU5aIn2667Vciayk97vEAQAjz+n1AsS2q/2TPzBe+LNxoxIdAzXe9H1NoiDgqcEP/Pb8nQFFRCnYjbLcykogW1qrB8/C8XWAdicjT/xIxSlnkcw49WIjc3UD3zsP9clsKJ8OO8gv5CvT4xPCL4VKbusU4KYkemJoPWMrOO7BkRqcuGPWPrEjQrUYurL7jrOEARvI9pVi7SZIWZmjPQ/retKxHScb/65K55O9Ci21njsjUPC2AoLvFnFVsfl6hTFJbHH5zbW1NI2b+dvnK+2zsSljiPXC7c3CR7LZOeHJK4IHkA5172tIONy6zCQU0LliNR9UgNh8jqrJvIXCz7nM0ve5exe6jTFoAsZeTab0dI4jj+MBXV2LrXCcxS/Yp+IuWyzmEHsw01AJ84aH9d7xKr6d86Tcd3x+T7BHyTLoeTI9qt+xHJ+De8XVxLUbUoLwR8jZSQ6ii1bm+w4FlkTmLdqmMXv4lFsRoJIx3Wh4Gss3v0hP+cvLHhnNuIC++Qu4p0VuJF/XBblRR/F5IPP113eT1dFuVCB/Rk3R6SejxxPsZtrfF4Wu9f88vwY8xXuiEc2H+xzt2lhIaYI/0X8gbCjRpCO/6pr+FDsaEr2/o/5O5jpo/zcWkQ8Pbg/McNDvAeWyQSQ1+ml+J76TbtBkCQkD1wibhXV4jqzgo3x4dgFgVURIPAFfuTTazCz5mnJsRx7RMRHxuKus3PfZhkTzpW1i3xH+xXmugENS3AzdhrfTOzGjqzFeoaf8HViV/o48zkleFzLeWQsTjFj91lqsaQEiA45DiXBdqijSsIo0CA6/55CK7juymOuJPJgZubxRMiOhb0ZBTKaLZ3Hdjh+8hvmhoas42f/5rxWq0l9vPg5536eh5nf4Nfxt5r3GiH2EQtwrccx8iVXJy9++OXnENCIOH+DcTghUJwGexVrWG/DC+bBNftzgmdRL2apdHBZElyTpAI6HeP2vXG7jwPrFcA9vtOCxyy/Wh5lSLKcZbYo9yurfzMHhsvRe8TtaTEv+FIACtRfuiWC5iX4VSuFhM+/mTg7t6/XGGkpf1pDT9b8mOBx9312bfJkQF5X2vt2Y/tbOFBXt5Nr/7vzPCz4uwPa9re4Nwfu48AW/F6RfL1l8a7Z6ZptwW/ynCbPnonvm4nvwnYLfgt+C/6NOHBY8PWBhX3TbovkjURy5Wz7tW7avfD7wytB37a+3lL0r6nZl/laLhMojRkfUbyJYNbf2Ud1+fkA8+ikY294JHPxFUt7yMh7y4owsTk4qye2MXuxJnr8E/asHzveyWPut78+y/X+8F+IsnbcdyiG+CaPz9qxyFGsOjJ1GsY4drjRJHzK90Sm37O/cOJML+lr0SaAtKJOiiSKwSA+s49A68DiWewTD/VUW+vYhxxBAkcsNUfZSBzsBnsDHs4LFuSz5x010/b48nIc2VPPra/yKnF6pI1qonJ36lT9afwjbKL9klPDGCef8dI0ftx7sDfUCe8z5H/4s9k8wVXHt8x99TkneI8U0nFSMKtg8seJNIPQkiSXsZfPmfgjDMJze4y1uIr0OZ9tBhpJkSFLO1eLyMN3tNXj9sZjn5sTXjZBXQ5jJpoXnasaVoj1eJ5qYMkau5hlfJYxqK8Xt+Vb+Ts7zjv3iX0pwUfEa8XPEQREuWQbEKnFOVk+R0AliupjQLk7S1k5fhRHDrPxPCL2Ml6arSC8KG+PdEvbLYaxUZT9puF69vG0pnO5pLgxnJvDTOLe7cV16mPELM2/sJPzKW3khUy20SiiGl28PyH4VdIo8o/Hz3/1NfDQZa8K3iElxHHXj1jCfv9RQpO3FJdpSMtzxfW0xMwnL1YH/qu+hXztvDOzO8799fhRMRb1HIhJTYV/94/+NuNaLP0VYfwt81SCAUfIfx9n8A4wW2It6wRftK3nqkaU86niHxqVWH0Yf2F9zThl/8ljCcEj6e/+V1GUoP25qXRhzySgBK/juwZEzAhdNIpIyv/YENVYvFoshZDFDOMUSVu+5UZZF4MkFR1X58jj9DkgZiN9F2gjG9mUOVDdeHwRYOQTeVSRdkxjIiNHcTnDNvT5lmcK+0WdlH9qMCqHpE9lJ8BVjQHnVXxOjTDuwu1lglfXWjXAUQhu0meSAVCf+COWINK4gjB5IjZeFjo/hhCSwtgq2DDpMNti9tXEB7ZNAP4xjCnbJlQhKKpDtH+8z2FEyXFq3xAk+NHsT5oDfpaKVw7zBsV3xqnZpOskeQex24Z2pE6wF57jCNrhiqzRHZ+fF7y9bkPi9gYO73cSP3osIBcT2RbuqP06Xs+UIC7fnGGbbVwjtPzc8wQJx8sBu2pyBM9+ur0WyyhWXEOrWco5H00EIpTECm0rclKcavlb4iPMgD8JyfoBluMKBXa91YuPrRU8bM/r1LEEFu5XhWe4/fUFvyJhdDwqEGYX/ztbSb7481GfMyKJ4ktxEFmZlFRI/htjpRDoHPm99PC5iuFo/DLGdq4VUcGqkV3PsB6G4SxecpL5IEe2jSZjhM3jgHMbB/H5mNn641xP7CX/JGaZOiFenjiQl8T5gE/YK9sDgm/4RL5tLNf8nZjhQaRJYFYckyUjF65ez01sShC9z4NPIgRmF3kOF3a2lBSAYry5Jh2EkizuOMNDWJrcg32ZQ/kcxNVETSI0MQ+CX8bs4Oic02LV8eO7eV5hIF5VEwhbNibsM/Zs/kPNMXloHg04OvEzlsMqRfCg+E/6ZJw9XzaP+reDszvOxPPkmJTgAc7QqaVzAoZnNFVkEzSP1YVi0KTd2We2Q9e3oc85oTATcezhDTEQDNfTdpYyeVLsruDLsWX8JGK+Iy1Fon0hh2mNuBHHdloNOl7AxLML0WNM2Q4rD4iecyjYmbpbHNRYE6sdG9TcxmbjssdlDsPlwMqnmyM4YuIHn+kcD9fDOoDNxDYneCaKKVTCgR98tCTUJPbP3WM2Ll+fA+EkcFpTOUzSgscsz8u1JwJr3TXofE/Y3ULIFX3j9GKcaMXw2bN7qXte8EWIFKhdHqUJxEujq1YKLy7cbk7+sxkblxiX9DX+Pdw+JnjcrQ2um9LC34SICbGx+auxqavb1Y3VGzlwWPBb1Pd03o3rxvUzOLAFf2M3/YwCbh+7URzhwBb8FvxfvYQ+IoZ3GLsFvwW/Bf9GHNiCf6Niv8MMtnOcX+JswW/B7xn+jTiwBf9Gxd6z33z2ewd8/g87ZvhywnxjowAAAABJRU5ErkJggg==)"
   ]
  },
  {
   "cell_type": "code",
   "execution_count": 52,
   "metadata": {
    "colab": {
     "base_uri": "https://localhost:8080/"
    },
    "id": "MBGD8BOQbUGo",
    "outputId": "08953e9d-d576-4f92-eebc-9cb1836ecc44"
   },
   "outputs": [
    {
     "name": "stdout",
     "output_type": "stream",
     "text": [
      "(2, 0.5478814047851956)\n",
      "(3, 0.5144804166741466)\n",
      "(4, 0.5242419319137951)\n",
      "(5, 0.5111672063986994)\n",
      "(6, 0.5020389667010345)\n",
      "(7, 0.5030848079955922)\n",
      "(8, 0.48998264779925277)\n",
      "(9, 0.48441922134003773)\n",
      "(10, 0.48416181903972066)\n"
     ]
    }
   ],
   "source": [
    "for n in range_clusters:\n",
    "  km = KMeans(n_clusters=n)\n",
    "  labels = km.fit_predict(X)\n",
    "  print((n, skmetrics.silhouette_score(X, labels)))"
   ]
  },
  {
   "cell_type": "markdown",
   "metadata": {
    "id": "Jc62QTwqgzaB"
   },
   "source": [
    "## Agrupando pelo período do dia (6 às 18)"
   ]
  },
  {
   "cell_type": "code",
   "execution_count": 54,
   "metadata": {
    "colab": {
     "base_uri": "https://localhost:8080/",
     "height": 203
    },
    "id": "5t8FPSzrgqbZ",
    "outputId": "7a1d48cc-527e-4a1c-cda9-47fd679383b7"
   },
   "outputs": [
    {
     "data": {
      "text/html": [
       "<div>\n",
       "<style scoped>\n",
       "    .dataframe tbody tr th:only-of-type {\n",
       "        vertical-align: middle;\n",
       "    }\n",
       "\n",
       "    .dataframe tbody tr th {\n",
       "        vertical-align: top;\n",
       "    }\n",
       "\n",
       "    .dataframe thead th {\n",
       "        text-align: right;\n",
       "    }\n",
       "</style>\n",
       "<table border=\"1\" class=\"dataframe\">\n",
       "  <thead>\n",
       "    <tr style=\"text-align: right;\">\n",
       "      <th></th>\n",
       "      <th>local_time</th>\n",
       "      <th>irradiance_direct</th>\n",
       "      <th>irradiance_diffuse</th>\n",
       "      <th>temperature</th>\n",
       "      <th>wind_speed</th>\n",
       "    </tr>\n",
       "  </thead>\n",
       "  <tbody>\n",
       "    <tr>\n",
       "      <th>8584</th>\n",
       "      <td>2019-12-24 14:00:00</td>\n",
       "      <td>0.865</td>\n",
       "      <td>0.107</td>\n",
       "      <td>26.766</td>\n",
       "      <td>2.660</td>\n",
       "    </tr>\n",
       "    <tr>\n",
       "      <th>6668</th>\n",
       "      <td>2019-10-05 17:00:00</td>\n",
       "      <td>0.015</td>\n",
       "      <td>0.094</td>\n",
       "      <td>18.742</td>\n",
       "      <td>4.304</td>\n",
       "    </tr>\n",
       "    <tr>\n",
       "      <th>1407</th>\n",
       "      <td>2019-02-28 12:00:00</td>\n",
       "      <td>0.849</td>\n",
       "      <td>0.152</td>\n",
       "      <td>24.354</td>\n",
       "      <td>1.929</td>\n",
       "    </tr>\n",
       "    <tr>\n",
       "      <th>736</th>\n",
       "      <td>2019-01-31 14:00:00</td>\n",
       "      <td>0.317</td>\n",
       "      <td>0.371</td>\n",
       "      <td>31.059</td>\n",
       "      <td>2.057</td>\n",
       "    </tr>\n",
       "    <tr>\n",
       "      <th>861</th>\n",
       "      <td>2019-02-05 19:00:00</td>\n",
       "      <td>0.000</td>\n",
       "      <td>0.042</td>\n",
       "      <td>22.079</td>\n",
       "      <td>1.845</td>\n",
       "    </tr>\n",
       "  </tbody>\n",
       "</table>\n",
       "</div>"
      ],
      "text/plain": [
       "               local_time  irradiance_direct  ...  temperature  wind_speed\n",
       "8584  2019-12-24 14:00:00              0.865  ...       26.766       2.660\n",
       "6668  2019-10-05 17:00:00              0.015  ...       18.742       4.304\n",
       "1407  2019-02-28 12:00:00              0.849  ...       24.354       1.929\n",
       "736   2019-01-31 14:00:00              0.317  ...       31.059       2.057\n",
       "861   2019-02-05 19:00:00              0.000  ...       22.079       1.845\n",
       "\n",
       "[5 rows x 5 columns]"
      ]
     },
     "execution_count": 54,
     "metadata": {
      "tags": []
     },
     "output_type": "execute_result"
    }
   ],
   "source": [
    "osorio.sample(5)"
   ]
  },
  {
   "cell_type": "code",
   "execution_count": 58,
   "metadata": {
    "id": "8H2-ViWfg4N2"
   },
   "outputs": [],
   "source": [
    "osorio['local_time'] = pd.to_datetime(osorio['local_time'])"
   ]
  },
  {
   "cell_type": "code",
   "execution_count": 77,
   "metadata": {
    "colab": {
     "base_uri": "https://localhost:8080/",
     "height": 234
    },
    "id": "SvmGugcmg-tg",
    "outputId": "c35b01e2-254a-414a-d415-23b0786e6afe"
   },
   "outputs": [
    {
     "data": {
      "text/html": [
       "<div>\n",
       "<style scoped>\n",
       "    .dataframe tbody tr th:only-of-type {\n",
       "        vertical-align: middle;\n",
       "    }\n",
       "\n",
       "    .dataframe tbody tr th {\n",
       "        vertical-align: top;\n",
       "    }\n",
       "\n",
       "    .dataframe thead th {\n",
       "        text-align: right;\n",
       "    }\n",
       "</style>\n",
       "<table border=\"1\" class=\"dataframe\">\n",
       "  <thead>\n",
       "    <tr style=\"text-align: right;\">\n",
       "      <th></th>\n",
       "      <th>irradiance_direct</th>\n",
       "      <th>irradiance_diffuse</th>\n",
       "      <th>temperature</th>\n",
       "    </tr>\n",
       "    <tr>\n",
       "      <th>local_time</th>\n",
       "      <th></th>\n",
       "      <th></th>\n",
       "      <th></th>\n",
       "    </tr>\n",
       "  </thead>\n",
       "  <tbody>\n",
       "    <tr>\n",
       "      <th>2018-12-31 22:00:00</th>\n",
       "      <td>0.0</td>\n",
       "      <td>0.0</td>\n",
       "      <td>24.202</td>\n",
       "    </tr>\n",
       "    <tr>\n",
       "      <th>2018-12-31 23:00:00</th>\n",
       "      <td>0.0</td>\n",
       "      <td>0.0</td>\n",
       "      <td>23.979</td>\n",
       "    </tr>\n",
       "    <tr>\n",
       "      <th>2019-01-01 00:00:00</th>\n",
       "      <td>0.0</td>\n",
       "      <td>0.0</td>\n",
       "      <td>23.806</td>\n",
       "    </tr>\n",
       "    <tr>\n",
       "      <th>2019-01-01 01:00:00</th>\n",
       "      <td>0.0</td>\n",
       "      <td>0.0</td>\n",
       "      <td>23.679</td>\n",
       "    </tr>\n",
       "    <tr>\n",
       "      <th>2019-01-01 02:00:00</th>\n",
       "      <td>0.0</td>\n",
       "      <td>0.0</td>\n",
       "      <td>23.633</td>\n",
       "    </tr>\n",
       "  </tbody>\n",
       "</table>\n",
       "</div>"
      ],
      "text/plain": [
       "                     irradiance_direct  irradiance_diffuse  temperature\n",
       "local_time                                                             \n",
       "2018-12-31 22:00:00                0.0                 0.0       24.202\n",
       "2018-12-31 23:00:00                0.0                 0.0       23.979\n",
       "2019-01-01 00:00:00                0.0                 0.0       23.806\n",
       "2019-01-01 01:00:00                0.0                 0.0       23.679\n",
       "2019-01-01 02:00:00                0.0                 0.0       23.633"
      ]
     },
     "execution_count": 77,
     "metadata": {
      "tags": []
     },
     "output_type": "execute_result"
    }
   ],
   "source": [
    "data={\n",
    "    'irradiance_direct': X['irradiance_direct'].values,\n",
    "    'irradiance_diffuse': X['irradiance_diffuse'].values,\n",
    "    'temperature': X['temperature'].values,\n",
    "}\n",
    "df = pd.DataFrame(data=data,index = osorio['local_time'])\n",
    "df.head(5)"
   ]
  },
  {
   "cell_type": "code",
   "execution_count": 82,
   "metadata": {
    "colab": {
     "base_uri": "https://localhost:8080/"
    },
    "id": "lkvN_hLwhNrL",
    "outputId": "43154b0a-401d-4877-a260-6b02ae97cb90"
   },
   "outputs": [
    {
     "data": {
      "text/plain": [
       "(4745, 3)"
      ]
     },
     "execution_count": 82,
     "metadata": {
      "tags": []
     },
     "output_type": "execute_result"
    }
   ],
   "source": [
    "X = df.between_time('06:00:00', '18:00:00')\n",
    "X.shape"
   ]
  },
  {
   "cell_type": "markdown",
   "metadata": {
    "id": "pihVMAWEkWS7"
   },
   "source": [
    "Testando com o `TimeSeriesKMeans`"
   ]
  },
  {
   "cell_type": "code",
   "execution_count": 84,
   "metadata": {
    "colab": {
     "base_uri": "https://localhost:8080/",
     "height": 471
    },
    "id": "f5k-aHh9jNWe",
    "outputId": "521545a7-aa2a-4ea3-bed5-0125f56b1c58"
   },
   "outputs": [
    {
     "name": "stdout",
     "output_type": "stream",
     "text": [
      "(2, 0.5524690901810466)\n",
      "(3, 0.5142839539341076)\n",
      "(4, 0.5285594967715744)\n"
     ]
    },
    {
     "ename": "KeyboardInterrupt",
     "evalue": "ignored",
     "output_type": "error",
     "traceback": [
      "\u001b[0;31m---------------------------------------------------------------------------\u001b[0m",
      "\u001b[0;31mEmpty\u001b[0m                                     Traceback (most recent call last)",
      "\u001b[0;32m/usr/local/lib/python3.7/dist-packages/joblib/parallel.py\u001b[0m in \u001b[0;36mdispatch_one_batch\u001b[0;34m(self, iterator)\u001b[0m\n\u001b[1;32m    819\u001b[0m             \u001b[0;32mtry\u001b[0m\u001b[0;34m:\u001b[0m\u001b[0;34m\u001b[0m\u001b[0;34m\u001b[0m\u001b[0m\n\u001b[0;32m--> 820\u001b[0;31m                 \u001b[0mtasks\u001b[0m \u001b[0;34m=\u001b[0m \u001b[0mself\u001b[0m\u001b[0;34m.\u001b[0m\u001b[0m_ready_batches\u001b[0m\u001b[0;34m.\u001b[0m\u001b[0mget\u001b[0m\u001b[0;34m(\u001b[0m\u001b[0mblock\u001b[0m\u001b[0;34m=\u001b[0m\u001b[0;32mFalse\u001b[0m\u001b[0;34m)\u001b[0m\u001b[0;34m\u001b[0m\u001b[0;34m\u001b[0m\u001b[0m\n\u001b[0m\u001b[1;32m    821\u001b[0m             \u001b[0;32mexcept\u001b[0m \u001b[0mqueue\u001b[0m\u001b[0;34m.\u001b[0m\u001b[0mEmpty\u001b[0m\u001b[0;34m:\u001b[0m\u001b[0;34m\u001b[0m\u001b[0;34m\u001b[0m\u001b[0m\n",
      "\u001b[0;32m/usr/lib/python3.7/queue.py\u001b[0m in \u001b[0;36mget\u001b[0;34m(self, block, timeout)\u001b[0m\n\u001b[1;32m    166\u001b[0m                 \u001b[0;32mif\u001b[0m \u001b[0;32mnot\u001b[0m \u001b[0mself\u001b[0m\u001b[0;34m.\u001b[0m\u001b[0m_qsize\u001b[0m\u001b[0;34m(\u001b[0m\u001b[0;34m)\u001b[0m\u001b[0;34m:\u001b[0m\u001b[0;34m\u001b[0m\u001b[0;34m\u001b[0m\u001b[0m\n\u001b[0;32m--> 167\u001b[0;31m                     \u001b[0;32mraise\u001b[0m \u001b[0mEmpty\u001b[0m\u001b[0;34m\u001b[0m\u001b[0;34m\u001b[0m\u001b[0m\n\u001b[0m\u001b[1;32m    168\u001b[0m             \u001b[0;32melif\u001b[0m \u001b[0mtimeout\u001b[0m \u001b[0;32mis\u001b[0m \u001b[0;32mNone\u001b[0m\u001b[0;34m:\u001b[0m\u001b[0;34m\u001b[0m\u001b[0;34m\u001b[0m\u001b[0m\n",
      "\u001b[0;31mEmpty\u001b[0m: ",
      "\nDuring handling of the above exception, another exception occurred:\n",
      "\u001b[0;31mKeyboardInterrupt\u001b[0m                         Traceback (most recent call last)",
      "\u001b[0;32m<ipython-input-84-c89f04f8727c>\u001b[0m in \u001b[0;36m<module>\u001b[0;34m()\u001b[0m\n\u001b[1;32m      2\u001b[0m \u001b[0;32mfor\u001b[0m \u001b[0mn\u001b[0m \u001b[0;32min\u001b[0m \u001b[0mrange_clusters\u001b[0m\u001b[0;34m:\u001b[0m\u001b[0;34m\u001b[0m\u001b[0;34m\u001b[0m\u001b[0m\n\u001b[1;32m      3\u001b[0m   \u001b[0mkm\u001b[0m \u001b[0;34m=\u001b[0m \u001b[0mTimeSeriesKMeans\u001b[0m\u001b[0;34m(\u001b[0m\u001b[0mn_clusters\u001b[0m\u001b[0;34m=\u001b[0m\u001b[0mn\u001b[0m\u001b[0;34m,\u001b[0m \u001b[0mmax_iter\u001b[0m\u001b[0;34m=\u001b[0m\u001b[0;36m100\u001b[0m\u001b[0;34m,\u001b[0m \u001b[0mn_init\u001b[0m\u001b[0;34m=\u001b[0m\u001b[0;36m5\u001b[0m\u001b[0;34m,\u001b[0m \u001b[0mmetric\u001b[0m\u001b[0;34m=\u001b[0m\u001b[0;34m\"dtw\"\u001b[0m\u001b[0;34m)\u001b[0m\u001b[0;34m\u001b[0m\u001b[0;34m\u001b[0m\u001b[0m\n\u001b[0;32m----> 4\u001b[0;31m   \u001b[0mlabels\u001b[0m \u001b[0;34m=\u001b[0m \u001b[0mkm\u001b[0m\u001b[0;34m.\u001b[0m\u001b[0mfit_predict\u001b[0m\u001b[0;34m(\u001b[0m\u001b[0mX_train\u001b[0m\u001b[0;34m)\u001b[0m\u001b[0;34m\u001b[0m\u001b[0;34m\u001b[0m\u001b[0m\n\u001b[0m\u001b[1;32m      5\u001b[0m   \u001b[0mprint\u001b[0m\u001b[0;34m(\u001b[0m\u001b[0;34m(\u001b[0m\u001b[0mn\u001b[0m\u001b[0;34m,\u001b[0m \u001b[0msilhouette_score\u001b[0m\u001b[0;34m(\u001b[0m\u001b[0mX_train\u001b[0m\u001b[0;34m,\u001b[0m \u001b[0mlabels\u001b[0m\u001b[0;34m,\u001b[0m \u001b[0mmetric\u001b[0m\u001b[0;34m=\u001b[0m\u001b[0;34m\"euclidean\"\u001b[0m\u001b[0;34m)\u001b[0m\u001b[0;34m)\u001b[0m\u001b[0;34m)\u001b[0m\u001b[0;34m\u001b[0m\u001b[0;34m\u001b[0m\u001b[0m\n",
      "\u001b[0;32m/usr/local/lib/python3.7/dist-packages/tslearn/clustering/kmeans.py\u001b[0m in \u001b[0;36mfit_predict\u001b[0;34m(self, X, y)\u001b[0m\n\u001b[1;32m    811\u001b[0m         \"\"\"\n\u001b[1;32m    812\u001b[0m         \u001b[0mX\u001b[0m \u001b[0;34m=\u001b[0m \u001b[0mcheck_array\u001b[0m\u001b[0;34m(\u001b[0m\u001b[0mX\u001b[0m\u001b[0;34m,\u001b[0m \u001b[0mallow_nd\u001b[0m\u001b[0;34m=\u001b[0m\u001b[0;32mTrue\u001b[0m\u001b[0;34m,\u001b[0m \u001b[0mforce_all_finite\u001b[0m\u001b[0;34m=\u001b[0m\u001b[0;34m'allow-nan'\u001b[0m\u001b[0;34m)\u001b[0m\u001b[0;34m\u001b[0m\u001b[0;34m\u001b[0m\u001b[0m\n\u001b[0;32m--> 813\u001b[0;31m         \u001b[0;32mreturn\u001b[0m \u001b[0mself\u001b[0m\u001b[0;34m.\u001b[0m\u001b[0mfit\u001b[0m\u001b[0;34m(\u001b[0m\u001b[0mX\u001b[0m\u001b[0;34m,\u001b[0m \u001b[0my\u001b[0m\u001b[0;34m)\u001b[0m\u001b[0;34m.\u001b[0m\u001b[0mlabels_\u001b[0m\u001b[0;34m\u001b[0m\u001b[0;34m\u001b[0m\u001b[0m\n\u001b[0m\u001b[1;32m    814\u001b[0m \u001b[0;34m\u001b[0m\u001b[0m\n\u001b[1;32m    815\u001b[0m     \u001b[0;32mdef\u001b[0m \u001b[0mpredict\u001b[0m\u001b[0;34m(\u001b[0m\u001b[0mself\u001b[0m\u001b[0;34m,\u001b[0m \u001b[0mX\u001b[0m\u001b[0;34m)\u001b[0m\u001b[0;34m:\u001b[0m\u001b[0;34m\u001b[0m\u001b[0;34m\u001b[0m\u001b[0m\n",
      "\u001b[0;32m/usr/local/lib/python3.7/dist-packages/tslearn/clustering/kmeans.py\u001b[0m in \u001b[0;36mfit\u001b[0;34m(self, X, y)\u001b[0m\n\u001b[1;32m    778\u001b[0m                     \u001b[0mprint\u001b[0m\u001b[0;34m(\u001b[0m\u001b[0;34m\"Init %d\"\u001b[0m \u001b[0;34m%\u001b[0m \u001b[0;34m(\u001b[0m\u001b[0mn_successful\u001b[0m \u001b[0;34m+\u001b[0m \u001b[0;36m1\u001b[0m\u001b[0;34m)\u001b[0m\u001b[0;34m)\u001b[0m\u001b[0;34m\u001b[0m\u001b[0;34m\u001b[0m\u001b[0m\n\u001b[1;32m    779\u001b[0m                 \u001b[0mn_attempts\u001b[0m \u001b[0;34m+=\u001b[0m \u001b[0;36m1\u001b[0m\u001b[0;34m\u001b[0m\u001b[0;34m\u001b[0m\u001b[0m\n\u001b[0;32m--> 780\u001b[0;31m                 \u001b[0mself\u001b[0m\u001b[0;34m.\u001b[0m\u001b[0m_fit_one_init\u001b[0m\u001b[0;34m(\u001b[0m\u001b[0mX_\u001b[0m\u001b[0;34m,\u001b[0m \u001b[0mx_squared_norms\u001b[0m\u001b[0;34m,\u001b[0m \u001b[0mrs\u001b[0m\u001b[0;34m)\u001b[0m\u001b[0;34m\u001b[0m\u001b[0;34m\u001b[0m\u001b[0m\n\u001b[0m\u001b[1;32m    781\u001b[0m                 \u001b[0;32mif\u001b[0m \u001b[0mself\u001b[0m\u001b[0;34m.\u001b[0m\u001b[0minertia_\u001b[0m \u001b[0;34m<\u001b[0m \u001b[0mmin_inertia\u001b[0m\u001b[0;34m:\u001b[0m\u001b[0;34m\u001b[0m\u001b[0;34m\u001b[0m\u001b[0m\n\u001b[1;32m    782\u001b[0m                     \u001b[0mbest_correct_centroids\u001b[0m \u001b[0;34m=\u001b[0m \u001b[0mself\u001b[0m\u001b[0;34m.\u001b[0m\u001b[0mcluster_centers_\u001b[0m\u001b[0;34m.\u001b[0m\u001b[0mcopy\u001b[0m\u001b[0;34m(\u001b[0m\u001b[0;34m)\u001b[0m\u001b[0;34m\u001b[0m\u001b[0;34m\u001b[0m\u001b[0m\n",
      "\u001b[0;32m/usr/local/lib/python3.7/dist-packages/tslearn/clustering/kmeans.py\u001b[0m in \u001b[0;36m_fit_one_init\u001b[0;34m(self, X, x_squared_norms, rs)\u001b[0m\n\u001b[1;32m    660\u001b[0m \u001b[0;34m\u001b[0m\u001b[0m\n\u001b[1;32m    661\u001b[0m         \u001b[0;32mfor\u001b[0m \u001b[0mit\u001b[0m \u001b[0;32min\u001b[0m \u001b[0mrange\u001b[0m\u001b[0;34m(\u001b[0m\u001b[0mself\u001b[0m\u001b[0;34m.\u001b[0m\u001b[0mmax_iter\u001b[0m\u001b[0;34m)\u001b[0m\u001b[0;34m:\u001b[0m\u001b[0;34m\u001b[0m\u001b[0;34m\u001b[0m\u001b[0m\n\u001b[0;32m--> 662\u001b[0;31m             \u001b[0mself\u001b[0m\u001b[0;34m.\u001b[0m\u001b[0m_assign\u001b[0m\u001b[0;34m(\u001b[0m\u001b[0mX\u001b[0m\u001b[0;34m)\u001b[0m\u001b[0;34m\u001b[0m\u001b[0;34m\u001b[0m\u001b[0m\n\u001b[0m\u001b[1;32m    663\u001b[0m             \u001b[0;32mif\u001b[0m \u001b[0mself\u001b[0m\u001b[0;34m.\u001b[0m\u001b[0mverbose\u001b[0m\u001b[0;34m:\u001b[0m\u001b[0;34m\u001b[0m\u001b[0;34m\u001b[0m\u001b[0m\n\u001b[1;32m    664\u001b[0m                 \u001b[0mprint\u001b[0m\u001b[0;34m(\u001b[0m\u001b[0;34m\"%.3f\"\u001b[0m \u001b[0;34m%\u001b[0m \u001b[0mself\u001b[0m\u001b[0;34m.\u001b[0m\u001b[0minertia_\u001b[0m\u001b[0;34m,\u001b[0m \u001b[0mend\u001b[0m\u001b[0;34m=\u001b[0m\u001b[0;34m\" --> \"\u001b[0m\u001b[0;34m)\u001b[0m\u001b[0;34m\u001b[0m\u001b[0;34m\u001b[0m\u001b[0m\n",
      "\u001b[0;32m/usr/local/lib/python3.7/dist-packages/tslearn/clustering/kmeans.py\u001b[0m in \u001b[0;36m_assign\u001b[0;34m(self, X, update_class_attributes)\u001b[0m\n\u001b[1;32m    691\u001b[0m \u001b[0;34m\u001b[0m\u001b[0m\n\u001b[1;32m    692\u001b[0m     \u001b[0;32mdef\u001b[0m \u001b[0m_assign\u001b[0m\u001b[0;34m(\u001b[0m\u001b[0mself\u001b[0m\u001b[0;34m,\u001b[0m \u001b[0mX\u001b[0m\u001b[0;34m,\u001b[0m \u001b[0mupdate_class_attributes\u001b[0m\u001b[0;34m=\u001b[0m\u001b[0;32mTrue\u001b[0m\u001b[0;34m)\u001b[0m\u001b[0;34m:\u001b[0m\u001b[0;34m\u001b[0m\u001b[0;34m\u001b[0m\u001b[0m\n\u001b[0;32m--> 693\u001b[0;31m         \u001b[0mdists\u001b[0m \u001b[0;34m=\u001b[0m \u001b[0mself\u001b[0m\u001b[0;34m.\u001b[0m\u001b[0m_transform\u001b[0m\u001b[0;34m(\u001b[0m\u001b[0mX\u001b[0m\u001b[0;34m)\u001b[0m\u001b[0;34m\u001b[0m\u001b[0;34m\u001b[0m\u001b[0m\n\u001b[0m\u001b[1;32m    694\u001b[0m         \u001b[0mmatched_labels\u001b[0m \u001b[0;34m=\u001b[0m \u001b[0mdists\u001b[0m\u001b[0;34m.\u001b[0m\u001b[0margmin\u001b[0m\u001b[0;34m(\u001b[0m\u001b[0maxis\u001b[0m\u001b[0;34m=\u001b[0m\u001b[0;36m1\u001b[0m\u001b[0;34m)\u001b[0m\u001b[0;34m\u001b[0m\u001b[0;34m\u001b[0m\u001b[0m\n\u001b[1;32m    695\u001b[0m         \u001b[0;32mif\u001b[0m \u001b[0mupdate_class_attributes\u001b[0m\u001b[0;34m:\u001b[0m\u001b[0;34m\u001b[0m\u001b[0;34m\u001b[0m\u001b[0m\n",
      "\u001b[0;32m/usr/local/lib/python3.7/dist-packages/tslearn/clustering/kmeans.py\u001b[0m in \u001b[0;36m_transform\u001b[0;34m(self, X)\u001b[0m\n\u001b[1;32m    683\u001b[0m         \u001b[0;32melif\u001b[0m \u001b[0mself\u001b[0m\u001b[0;34m.\u001b[0m\u001b[0mmetric\u001b[0m \u001b[0;34m==\u001b[0m \u001b[0;34m\"dtw\"\u001b[0m\u001b[0;34m:\u001b[0m\u001b[0;34m\u001b[0m\u001b[0;34m\u001b[0m\u001b[0m\n\u001b[1;32m    684\u001b[0m             return cdist_dtw(X, self.cluster_centers_, n_jobs=self.n_jobs,\n\u001b[0;32m--> 685\u001b[0;31m                              verbose=self.verbose, **metric_params)\n\u001b[0m\u001b[1;32m    686\u001b[0m         \u001b[0;32melif\u001b[0m \u001b[0mself\u001b[0m\u001b[0;34m.\u001b[0m\u001b[0mmetric\u001b[0m \u001b[0;34m==\u001b[0m \u001b[0;34m\"softdtw\"\u001b[0m\u001b[0;34m:\u001b[0m\u001b[0;34m\u001b[0m\u001b[0;34m\u001b[0m\u001b[0m\n\u001b[1;32m    687\u001b[0m             \u001b[0;32mreturn\u001b[0m \u001b[0mcdist_soft_dtw\u001b[0m\u001b[0;34m(\u001b[0m\u001b[0mX\u001b[0m\u001b[0;34m,\u001b[0m \u001b[0mself\u001b[0m\u001b[0;34m.\u001b[0m\u001b[0mcluster_centers_\u001b[0m\u001b[0;34m,\u001b[0m \u001b[0;34m**\u001b[0m\u001b[0mmetric_params\u001b[0m\u001b[0;34m)\u001b[0m\u001b[0;34m\u001b[0m\u001b[0;34m\u001b[0m\u001b[0m\n",
      "\u001b[0;32m/usr/local/lib/python3.7/dist-packages/tslearn/metrics/dtw_variants.py\u001b[0m in \u001b[0;36mcdist_dtw\u001b[0;34m(dataset1, dataset2, global_constraint, sakoe_chiba_radius, itakura_max_slope, n_jobs, verbose)\u001b[0m\n\u001b[1;32m   1223\u001b[0m                           \u001b[0mglobal_constraint\u001b[0m\u001b[0;34m=\u001b[0m\u001b[0mglobal_constraint\u001b[0m\u001b[0;34m,\u001b[0m\u001b[0;34m\u001b[0m\u001b[0;34m\u001b[0m\u001b[0m\n\u001b[1;32m   1224\u001b[0m                           \u001b[0msakoe_chiba_radius\u001b[0m\u001b[0;34m=\u001b[0m\u001b[0msakoe_chiba_radius\u001b[0m\u001b[0;34m,\u001b[0m\u001b[0;34m\u001b[0m\u001b[0;34m\u001b[0m\u001b[0m\n\u001b[0;32m-> 1225\u001b[0;31m                           itakura_max_slope=itakura_max_slope)\n\u001b[0m\u001b[1;32m   1226\u001b[0m \u001b[0;34m\u001b[0m\u001b[0m\n\u001b[1;32m   1227\u001b[0m \u001b[0;32mdef\u001b[0m \u001b[0mlb_keogh\u001b[0m\u001b[0;34m(\u001b[0m\u001b[0mts_query\u001b[0m\u001b[0;34m,\u001b[0m \u001b[0mts_candidate\u001b[0m\u001b[0;34m=\u001b[0m\u001b[0;32mNone\u001b[0m\u001b[0;34m,\u001b[0m \u001b[0mradius\u001b[0m\u001b[0;34m=\u001b[0m\u001b[0;36m1\u001b[0m\u001b[0;34m,\u001b[0m \u001b[0menvelope_candidate\u001b[0m\u001b[0;34m=\u001b[0m\u001b[0;32mNone\u001b[0m\u001b[0;34m)\u001b[0m\u001b[0;34m:\u001b[0m\u001b[0;34m\u001b[0m\u001b[0;34m\u001b[0m\u001b[0m\n",
      "\u001b[0;32m/usr/local/lib/python3.7/dist-packages/tslearn/metrics/utils.py\u001b[0m in \u001b[0;36m_cdist_generic\u001b[0;34m(dist_fun, dataset1, dataset2, n_jobs, verbose, compute_diagonal, dtype, *args, **kwargs)\u001b[0m\n\u001b[1;32m     81\u001b[0m                 \u001b[0;34m*\u001b[0m\u001b[0margs\u001b[0m\u001b[0;34m,\u001b[0m \u001b[0;34m**\u001b[0m\u001b[0mkwargs\u001b[0m\u001b[0;34m\u001b[0m\u001b[0;34m\u001b[0m\u001b[0m\n\u001b[1;32m     82\u001b[0m             )\n\u001b[0;32m---> 83\u001b[0;31m             \u001b[0;32mfor\u001b[0m \u001b[0mi\u001b[0m \u001b[0;32min\u001b[0m \u001b[0mrange\u001b[0m\u001b[0;34m(\u001b[0m\u001b[0mlen\u001b[0m\u001b[0;34m(\u001b[0m\u001b[0mdataset1\u001b[0m\u001b[0;34m)\u001b[0m\u001b[0;34m)\u001b[0m \u001b[0;32mfor\u001b[0m \u001b[0mj\u001b[0m \u001b[0;32min\u001b[0m \u001b[0mrange\u001b[0m\u001b[0;34m(\u001b[0m\u001b[0mlen\u001b[0m\u001b[0;34m(\u001b[0m\u001b[0mdataset2\u001b[0m\u001b[0;34m)\u001b[0m\u001b[0;34m)\u001b[0m\u001b[0;34m\u001b[0m\u001b[0;34m\u001b[0m\u001b[0m\n\u001b[0m\u001b[1;32m     84\u001b[0m         )\n\u001b[1;32m     85\u001b[0m         \u001b[0;32mreturn\u001b[0m \u001b[0mnumpy\u001b[0m\u001b[0;34m.\u001b[0m\u001b[0marray\u001b[0m\u001b[0;34m(\u001b[0m\u001b[0mmatrix\u001b[0m\u001b[0;34m)\u001b[0m\u001b[0;34m.\u001b[0m\u001b[0mreshape\u001b[0m\u001b[0;34m(\u001b[0m\u001b[0;34m(\u001b[0m\u001b[0mlen\u001b[0m\u001b[0;34m(\u001b[0m\u001b[0mdataset1\u001b[0m\u001b[0;34m)\u001b[0m\u001b[0;34m,\u001b[0m \u001b[0;34m-\u001b[0m\u001b[0;36m1\u001b[0m\u001b[0;34m)\u001b[0m\u001b[0;34m)\u001b[0m\u001b[0;34m\u001b[0m\u001b[0;34m\u001b[0m\u001b[0m\n",
      "\u001b[0;32m/usr/local/lib/python3.7/dist-packages/joblib/parallel.py\u001b[0m in \u001b[0;36m__call__\u001b[0;34m(self, iterable)\u001b[0m\n\u001b[1;32m   1042\u001b[0m                 \u001b[0mself\u001b[0m\u001b[0;34m.\u001b[0m\u001b[0m_iterating\u001b[0m \u001b[0;34m=\u001b[0m \u001b[0mself\u001b[0m\u001b[0;34m.\u001b[0m\u001b[0m_original_iterator\u001b[0m \u001b[0;32mis\u001b[0m \u001b[0;32mnot\u001b[0m \u001b[0;32mNone\u001b[0m\u001b[0;34m\u001b[0m\u001b[0;34m\u001b[0m\u001b[0m\n\u001b[1;32m   1043\u001b[0m \u001b[0;34m\u001b[0m\u001b[0m\n\u001b[0;32m-> 1044\u001b[0;31m             \u001b[0;32mwhile\u001b[0m \u001b[0mself\u001b[0m\u001b[0;34m.\u001b[0m\u001b[0mdispatch_one_batch\u001b[0m\u001b[0;34m(\u001b[0m\u001b[0miterator\u001b[0m\u001b[0;34m)\u001b[0m\u001b[0;34m:\u001b[0m\u001b[0;34m\u001b[0m\u001b[0;34m\u001b[0m\u001b[0m\n\u001b[0m\u001b[1;32m   1045\u001b[0m                 \u001b[0;32mpass\u001b[0m\u001b[0;34m\u001b[0m\u001b[0;34m\u001b[0m\u001b[0m\n\u001b[1;32m   1046\u001b[0m \u001b[0;34m\u001b[0m\u001b[0m\n",
      "\u001b[0;32m/usr/local/lib/python3.7/dist-packages/joblib/parallel.py\u001b[0m in \u001b[0;36mdispatch_one_batch\u001b[0;34m(self, iterator)\u001b[0m\n\u001b[1;32m    829\u001b[0m                 \u001b[0mbig_batch_size\u001b[0m \u001b[0;34m=\u001b[0m \u001b[0mbatch_size\u001b[0m \u001b[0;34m*\u001b[0m \u001b[0mn_jobs\u001b[0m\u001b[0;34m\u001b[0m\u001b[0;34m\u001b[0m\u001b[0m\n\u001b[1;32m    830\u001b[0m \u001b[0;34m\u001b[0m\u001b[0m\n\u001b[0;32m--> 831\u001b[0;31m                 \u001b[0mislice\u001b[0m \u001b[0;34m=\u001b[0m \u001b[0mlist\u001b[0m\u001b[0;34m(\u001b[0m\u001b[0mitertools\u001b[0m\u001b[0;34m.\u001b[0m\u001b[0mislice\u001b[0m\u001b[0;34m(\u001b[0m\u001b[0miterator\u001b[0m\u001b[0;34m,\u001b[0m \u001b[0mbig_batch_size\u001b[0m\u001b[0;34m)\u001b[0m\u001b[0;34m)\u001b[0m\u001b[0;34m\u001b[0m\u001b[0;34m\u001b[0m\u001b[0m\n\u001b[0m\u001b[1;32m    832\u001b[0m                 \u001b[0;32mif\u001b[0m \u001b[0mlen\u001b[0m\u001b[0;34m(\u001b[0m\u001b[0mislice\u001b[0m\u001b[0;34m)\u001b[0m \u001b[0;34m==\u001b[0m \u001b[0;36m0\u001b[0m\u001b[0;34m:\u001b[0m\u001b[0;34m\u001b[0m\u001b[0;34m\u001b[0m\u001b[0m\n\u001b[1;32m    833\u001b[0m                     \u001b[0;32mreturn\u001b[0m \u001b[0;32mFalse\u001b[0m\u001b[0;34m\u001b[0m\u001b[0;34m\u001b[0m\u001b[0m\n",
      "\u001b[0;32m/usr/local/lib/python3.7/dist-packages/tslearn/metrics/utils.py\u001b[0m in \u001b[0;36m<genexpr>\u001b[0;34m(.0)\u001b[0m\n\u001b[1;32m     81\u001b[0m                 \u001b[0;34m*\u001b[0m\u001b[0margs\u001b[0m\u001b[0;34m,\u001b[0m \u001b[0;34m**\u001b[0m\u001b[0mkwargs\u001b[0m\u001b[0;34m\u001b[0m\u001b[0;34m\u001b[0m\u001b[0m\n\u001b[1;32m     82\u001b[0m             )\n\u001b[0;32m---> 83\u001b[0;31m             \u001b[0;32mfor\u001b[0m \u001b[0mi\u001b[0m \u001b[0;32min\u001b[0m \u001b[0mrange\u001b[0m\u001b[0;34m(\u001b[0m\u001b[0mlen\u001b[0m\u001b[0;34m(\u001b[0m\u001b[0mdataset1\u001b[0m\u001b[0;34m)\u001b[0m\u001b[0;34m)\u001b[0m \u001b[0;32mfor\u001b[0m \u001b[0mj\u001b[0m \u001b[0;32min\u001b[0m \u001b[0mrange\u001b[0m\u001b[0;34m(\u001b[0m\u001b[0mlen\u001b[0m\u001b[0;34m(\u001b[0m\u001b[0mdataset2\u001b[0m\u001b[0;34m)\u001b[0m\u001b[0;34m)\u001b[0m\u001b[0;34m\u001b[0m\u001b[0;34m\u001b[0m\u001b[0m\n\u001b[0m\u001b[1;32m     84\u001b[0m         )\n\u001b[1;32m     85\u001b[0m         \u001b[0;32mreturn\u001b[0m \u001b[0mnumpy\u001b[0m\u001b[0;34m.\u001b[0m\u001b[0marray\u001b[0m\u001b[0;34m(\u001b[0m\u001b[0mmatrix\u001b[0m\u001b[0;34m)\u001b[0m\u001b[0;34m.\u001b[0m\u001b[0mreshape\u001b[0m\u001b[0;34m(\u001b[0m\u001b[0;34m(\u001b[0m\u001b[0mlen\u001b[0m\u001b[0;34m(\u001b[0m\u001b[0mdataset1\u001b[0m\u001b[0;34m)\u001b[0m\u001b[0;34m,\u001b[0m \u001b[0;34m-\u001b[0m\u001b[0;36m1\u001b[0m\u001b[0;34m)\u001b[0m\u001b[0;34m)\u001b[0m\u001b[0;34m\u001b[0m\u001b[0;34m\u001b[0m\u001b[0m\n",
      "\u001b[0;32m/usr/local/lib/python3.7/dist-packages/joblib/parallel.py\u001b[0m in \u001b[0;36mdelayed\u001b[0;34m(function)\u001b[0m\n\u001b[1;32m    325\u001b[0m         \u001b[0;32mreturn\u001b[0m \u001b[0mfunction\u001b[0m\u001b[0;34m,\u001b[0m \u001b[0margs\u001b[0m\u001b[0;34m,\u001b[0m \u001b[0mkwargs\u001b[0m\u001b[0;34m\u001b[0m\u001b[0;34m\u001b[0m\u001b[0m\n\u001b[1;32m    326\u001b[0m     \u001b[0;32mtry\u001b[0m\u001b[0;34m:\u001b[0m\u001b[0;34m\u001b[0m\u001b[0;34m\u001b[0m\u001b[0m\n\u001b[0;32m--> 327\u001b[0;31m         \u001b[0mdelayed_function\u001b[0m \u001b[0;34m=\u001b[0m \u001b[0mfunctools\u001b[0m\u001b[0;34m.\u001b[0m\u001b[0mwraps\u001b[0m\u001b[0;34m(\u001b[0m\u001b[0mfunction\u001b[0m\u001b[0;34m)\u001b[0m\u001b[0;34m(\u001b[0m\u001b[0mdelayed_function\u001b[0m\u001b[0;34m)\u001b[0m\u001b[0;34m\u001b[0m\u001b[0;34m\u001b[0m\u001b[0m\n\u001b[0m\u001b[1;32m    328\u001b[0m     \u001b[0;32mexcept\u001b[0m \u001b[0mAttributeError\u001b[0m\u001b[0;34m:\u001b[0m\u001b[0;34m\u001b[0m\u001b[0;34m\u001b[0m\u001b[0m\n\u001b[1;32m    329\u001b[0m         \u001b[0;34m\" functools.wraps fails on some callable objects \"\u001b[0m\u001b[0;34m\u001b[0m\u001b[0;34m\u001b[0m\u001b[0m\n",
      "\u001b[0;32m/usr/lib/python3.7/functools.py\u001b[0m in \u001b[0;36mupdate_wrapper\u001b[0;34m(wrapper, wrapped, assigned, updated)\u001b[0m\n\u001b[1;32m     58\u001b[0m             \u001b[0msetattr\u001b[0m\u001b[0;34m(\u001b[0m\u001b[0mwrapper\u001b[0m\u001b[0;34m,\u001b[0m \u001b[0mattr\u001b[0m\u001b[0;34m,\u001b[0m \u001b[0mvalue\u001b[0m\u001b[0;34m)\u001b[0m\u001b[0;34m\u001b[0m\u001b[0;34m\u001b[0m\u001b[0m\n\u001b[1;32m     59\u001b[0m     \u001b[0;32mfor\u001b[0m \u001b[0mattr\u001b[0m \u001b[0;32min\u001b[0m \u001b[0mupdated\u001b[0m\u001b[0;34m:\u001b[0m\u001b[0;34m\u001b[0m\u001b[0;34m\u001b[0m\u001b[0m\n\u001b[0;32m---> 60\u001b[0;31m         \u001b[0mgetattr\u001b[0m\u001b[0;34m(\u001b[0m\u001b[0mwrapper\u001b[0m\u001b[0;34m,\u001b[0m \u001b[0mattr\u001b[0m\u001b[0;34m)\u001b[0m\u001b[0;34m.\u001b[0m\u001b[0mupdate\u001b[0m\u001b[0;34m(\u001b[0m\u001b[0mgetattr\u001b[0m\u001b[0;34m(\u001b[0m\u001b[0mwrapped\u001b[0m\u001b[0;34m,\u001b[0m \u001b[0mattr\u001b[0m\u001b[0;34m,\u001b[0m \u001b[0;34m{\u001b[0m\u001b[0;34m}\u001b[0m\u001b[0;34m)\u001b[0m\u001b[0;34m)\u001b[0m\u001b[0;34m\u001b[0m\u001b[0;34m\u001b[0m\u001b[0m\n\u001b[0m\u001b[1;32m     61\u001b[0m     \u001b[0;31m# Issue #17482: set __wrapped__ last so we don't inadvertently copy it\u001b[0m\u001b[0;34m\u001b[0m\u001b[0;34m\u001b[0m\u001b[0;34m\u001b[0m\u001b[0m\n\u001b[1;32m     62\u001b[0m     \u001b[0;31m# from the wrapped function when updating __dict__\u001b[0m\u001b[0;34m\u001b[0m\u001b[0;34m\u001b[0m\u001b[0;34m\u001b[0m\u001b[0m\n",
      "\u001b[0;31mKeyboardInterrupt\u001b[0m: "
     ]
    }
   ],
   "source": [
    "#X_train = X[0::2]\n",
    "#for n in range_clusters:\n",
    "#  km = TimeSeriesKMeans(n_clusters=n, max_iter=100, n_init=5, metric=\"dtw\")\n",
    "#  labels = km.fit_predict(X_train)\n",
    "#  print((n, silhouette_score(X_train, labels, metric=\"euclidean\")))"
   ]
  },
  {
   "cell_type": "markdown",
   "metadata": {
    "id": "_5J23Oy3ldOz"
   },
   "source": [
    "![image.png](data:image/png;base64,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)"
   ]
  },
  {
   "cell_type": "markdown",
   "metadata": {
    "id": "mYX-CE7PkYJS"
   },
   "source": [
    "Testando com o `KMeans`"
   ]
  },
  {
   "cell_type": "code",
   "execution_count": 87,
   "metadata": {
    "colab": {
     "base_uri": "https://localhost:8080/"
    },
    "id": "Tz3GDNqpjeRi",
    "outputId": "12136986-7b9a-48a9-93a8-66b9f9f59d0b"
   },
   "outputs": [
    {
     "name": "stdout",
     "output_type": "stream",
     "text": [
      "(2, 0.5532250144239729, (array([0, 1], dtype=int32), array([2841, 1904])))\n",
      "(3, 0.5144060566896724, (array([0, 1, 2], dtype=int32), array([1292, 2273, 1180])))\n",
      "(4, 0.5303949573646346, (array([0, 1, 2, 3], dtype=int32), array([1387, 1890,  488,  980])))\n",
      "(5, 0.5010075764021049, (array([0, 1, 2, 3, 4], dtype=int32), array([1366, 1058,  662,  402, 1257])))\n",
      "(6, 0.4944210958237017, (array([0, 1, 2, 3, 4, 5], dtype=int32), array([ 867,  779, 1003,  324,  451, 1321])))\n",
      "(7, 0.4898262397190064, (array([0, 1, 2, 3, 4, 5, 6], dtype=int32), array([ 235, 1120,  821,  407,  769,  943,  450])))\n",
      "(8, 0.4785361673551315, (array([0, 1, 2, 3, 4, 5, 6, 7], dtype=int32), array([967, 643, 320, 352, 888, 744, 172, 659])))\n",
      "(9, 0.4654600087974682, (array([0, 1, 2, 3, 4, 5, 6, 7, 8], dtype=int32), array([159, 812, 639, 502, 941, 285, 671, 292, 444])))\n",
      "(10, 0.4564038140280599, (array([0, 1, 2, 3, 4, 5, 6, 7, 8, 9], dtype=int32), array([779, 246, 281, 575, 583, 424, 142, 742, 390, 583])))\n",
      "(11, 0.44726607565035537, (array([ 0,  1,  2,  3,  4,  5,  6,  7,  8,  9, 10], dtype=int32), array([553, 154, 235, 496, 721, 544, 138, 364, 591, 321, 628])))\n",
      "(12, 0.44520698752599625, (array([ 0,  1,  2,  3,  4,  5,  6,  7,  8,  9, 10, 11], dtype=int32), array([507, 639, 134, 267, 572, 302, 695, 501, 473, 194, 376,  85])))\n",
      "(13, 0.4429964466829269, (array([ 0,  1,  2,  3,  4,  5,  6,  7,  8,  9, 10, 11, 12], dtype=int32), array([356, 487, 171, 576, 465,  85, 347, 517, 559, 265,  54, 230, 633])))\n",
      "(14, 0.4412421761718442, (array([ 0,  1,  2,  3,  4,  5,  6,  7,  8,  9, 10, 11, 12, 13],\n",
      "      dtype=int32), array([ 85, 564, 154, 560, 381, 494, 627, 258,  31, 221, 111, 336, 496,\n",
      "       427])))\n",
      "(15, 0.43474946759565014, (array([ 0,  1,  2,  3,  4,  5,  6,  7,  8,  9, 10, 11, 12, 13, 14],\n",
      "      dtype=int32), array([410, 265, 147, 527, 394,  31, 293,  85, 354, 445, 502, 391, 199,\n",
      "       111, 591])))\n",
      "(16, 0.42163349012072576, (array([ 0,  1,  2,  3,  4,  5,  6,  7,  8,  9, 10, 11, 12, 13, 14, 15],\n",
      "      dtype=int32), array([111, 527, 394,  80, 293, 337, 480, 280, 197, 362, 384, 147, 484,\n",
      "       250, 388,  31])))\n",
      "(17, 0.41702115706266335, (array([ 0,  1,  2,  3,  4,  5,  6,  7,  8,  9, 10, 11, 12, 13, 14, 15, 16],\n",
      "      dtype=int32), array([405, 335, 199, 199, 393, 111, 508, 267,  64, 144, 470, 312, 147,\n",
      "        31, 393, 296, 471])))\n",
      "(18, 0.4028178770388519, (array([ 0,  1,  2,  3,  4,  5,  6,  7,  8,  9, 10, 11, 12, 13, 14, 15, 16,\n",
      "       17], dtype=int32), array([444, 183, 201, 341, 421,  31, 111, 341, 307, 259, 138, 143, 375,\n",
      "        64, 474, 259, 323, 330])))\n",
      "(19, 0.3890238201201832, (array([ 0,  1,  2,  3,  4,  5,  6,  7,  8,  9, 10, 11, 12, 13, 14, 15, 16,\n",
      "       17, 18], dtype=int32), array([407, 139, 250, 327,  68, 297, 174, 274, 333, 353, 195, 332, 290,\n",
      "       107, 166,  31, 414, 224, 364])))\n",
      "(20, 0.3827188559944513, (array([ 0,  1,  2,  3,  4,  5,  6,  7,  8,  9, 10, 11, 12, 13, 14, 15, 16,\n",
      "       17, 18, 19], dtype=int32), array([305, 186, 153, 353, 103, 282, 407,  67, 300, 103,  31, 393, 156,\n",
      "       284, 319, 132, 339, 322, 253, 257])))\n",
      "(21, 0.3775037768680563, (array([ 0,  1,  2,  3,  4,  5,  6,  7,  8,  9, 10, 11, 12, 13, 14, 15, 16,\n",
      "       17, 18, 19, 20], dtype=int32), array([377, 212, 194, 101, 305, 291, 119, 361, 257, 135,  66,  31, 319,\n",
      "       257, 103, 356, 273, 260, 143, 193, 392])))\n",
      "(22, 0.3840865755459775, (array([ 0,  1,  2,  3,  4,  5,  6,  7,  8,  9, 10, 11, 12, 13, 14, 15, 16,\n",
      "       17, 18, 19, 20, 21], dtype=int32), array([420, 198, 127, 103, 304, 274, 375, 287, 166,  93, 104, 224,  62,\n",
      "       180,  31, 315, 348, 335, 278, 146, 153, 222])))\n",
      "(23, 0.3675454084677453, (array([ 0,  1,  2,  3,  4,  5,  6,  7,  8,  9, 10, 11, 12, 13, 14, 15, 16,\n",
      "       17, 18, 19, 20, 21, 22], dtype=int32), array([284, 357,  95, 163, 291, 187,  58, 352, 101, 268, 167, 274, 100,\n",
      "       224, 345, 116, 221, 294, 141,  31, 348, 220, 108])))\n",
      "(24, 0.37112703708880884, (array([ 0,  1,  2,  3,  4,  5,  6,  7,  8,  9, 10, 11, 12, 13, 14, 15, 16,\n",
      "       17, 18, 19, 20, 21, 22, 23], dtype=int32), array([318, 263,  87, 158, 192, 350, 113, 288, 224, 118, 217, 293,  38,\n",
      "       345, 267,  58, 301,  13, 168,  98, 273, 137, 274, 152])))\n",
      "(25, 0.3774226457825481, (array([ 0,  1,  2,  3,  4,  5,  6,  7,  8,  9, 10, 11, 12, 13, 14, 15, 16,\n",
      "       17, 18, 19, 20, 21, 22, 23, 24], dtype=int32), array([224, 268, 118, 331, 226, 153,  37, 294, 272,  62,  86, 195, 157,\n",
      "       127, 356, 264, 253, 163, 258, 127, 267, 256,  98,  15, 138])))\n",
      "(26, 0.36101588937240275, (array([ 0,  1,  2,  3,  4,  5,  6,  7,  8,  9, 10, 11, 12, 13, 14, 15, 16,\n",
      "       17, 18, 19, 20, 21, 22, 23, 24, 25], dtype=int32), array([159, 197, 287,  93, 296, 116, 129, 219,  31, 305, 272, 312, 126,\n",
      "       145, 224,  97,  30, 170, 267, 103, 151, 265, 216, 222, 262,  51])))\n",
      "(27, 0.3600106027710477, (array([ 0,  1,  2,  3,  4,  5,  6,  7,  8,  9, 10, 11, 12, 13, 14, 15, 16,\n",
      "       17, 18, 19, 20, 21, 22, 23, 24, 25, 26], dtype=int32), array([139, 186, 202,  86, 213, 249,  58, 118, 173, 149, 237, 304, 239,\n",
      "        15, 245,  98, 244, 168, 311, 135, 217, 148,  99, 234, 250, 191,\n",
      "        37])))\n",
      "(28, 0.35491981212685575, (array([ 0,  1,  2,  3,  4,  5,  6,  7,  8,  9, 10, 11, 12, 13, 14, 15, 16,\n",
      "       17, 18, 19, 20, 21, 22, 23, 24, 25, 26, 27], dtype=int32), array([263, 211,  71, 284, 136, 121, 267, 155,  36, 291, 111, 238, 279,\n",
      "        30,  85, 278,  99, 169, 178, 124, 153, 231,  50,  84, 310,  13,\n",
      "       223, 255])))\n",
      "(29, 0.3755385766625078, (array([ 0,  1,  2,  3,  4,  5,  6,  7,  8,  9, 10, 11, 12, 13, 14, 15, 16,\n",
      "       17, 18, 19, 20, 21, 22, 23, 24, 25, 26, 27, 28], dtype=int32), array([239, 132,  68, 152, 228, 191,  15, 153,  62, 133,  94, 214, 248,\n",
      "       256, 258,  35, 190, 231, 114, 127,  84, 166, 155, 157, 229, 214,\n",
      "       254,  82, 264])))\n"
     ]
    }
   ],
   "source": [
    "range_clusters = range(2, 30)\n",
    "for n in range_clusters:\n",
    "  km = KMeans(n_clusters=n)\n",
    "  labels = km.fit_predict(X)\n",
    "  print((n, skmetrics.silhouette_score(X, labels), np.unique(labels, return_counts=True)))"
   ]
  },
  {
   "cell_type": "markdown",
   "metadata": {
    "id": "RxZryLeeniAG"
   },
   "source": [
    "### Exibindo os melhores grupos encontrados"
   ]
  },
  {
   "cell_type": "code",
   "execution_count": 86,
   "metadata": {
    "colab": {
     "base_uri": "https://localhost:8080/",
     "height": 127
    },
    "id": "EKMb1liHlpEE",
    "outputId": "f9cc2c69-0f05-4a49-f6f6-4a66f96e1e53"
   },
   "outputs": [
    {
     "name": "stdout",
     "output_type": "stream",
     "text": [
      "(array([0, 1], dtype=int32), array([1433,  940]))\n"
     ]
    },
    {
     "data": {
      "text/html": [
       "<div>\n",
       "<style scoped>\n",
       "    .dataframe tbody tr th:only-of-type {\n",
       "        vertical-align: middle;\n",
       "    }\n",
       "\n",
       "    .dataframe tbody tr th {\n",
       "        vertical-align: top;\n",
       "    }\n",
       "\n",
       "    .dataframe thead th {\n",
       "        text-align: right;\n",
       "    }\n",
       "</style>\n",
       "<table border=\"1\" class=\"dataframe\">\n",
       "  <thead>\n",
       "    <tr style=\"text-align: right;\">\n",
       "      <th></th>\n",
       "      <th>irradiance_direct</th>\n",
       "      <th>irradiance_diffuse</th>\n",
       "      <th>temperature</th>\n",
       "    </tr>\n",
       "  </thead>\n",
       "  <tbody>\n",
       "    <tr>\n",
       "      <th>0</th>\n",
       "      <td>0.336456</td>\n",
       "      <td>0.156853</td>\n",
       "      <td>24.026788</td>\n",
       "    </tr>\n",
       "    <tr>\n",
       "      <th>1</th>\n",
       "      <td>0.193038</td>\n",
       "      <td>0.089210</td>\n",
       "      <td>16.293569</td>\n",
       "    </tr>\n",
       "  </tbody>\n",
       "</table>\n",
       "</div>"
      ],
      "text/plain": [
       "   irradiance_direct  irradiance_diffuse  temperature\n",
       "0           0.336456            0.156853    24.026788\n",
       "1           0.193038            0.089210    16.293569"
      ]
     },
     "execution_count": 86,
     "metadata": {
      "tags": []
     },
     "output_type": "execute_result"
    }
   ],
   "source": [
    "km = KMeans(n_clusters=2)\n",
    "labels = km.fit_predict(X_train)\n",
    "print(np.unique(labels, return_counts=True))\n",
    "pd.DataFrame(data=km.cluster_centers_, columns=X.columns)"
   ]
  },
  {
   "cell_type": "code",
   "execution_count": 88,
   "metadata": {
    "colab": {
     "base_uri": "https://localhost:8080/",
     "height": 189
    },
    "id": "IFM3ykPZmAB2",
    "outputId": "001f9d37-68d3-4853-9623-94241650896b"
   },
   "outputs": [
    {
     "name": "stdout",
     "output_type": "stream",
     "text": [
      "(array([0, 1, 2, 3], dtype=int32), array([955, 687, 492, 239]))\n"
     ]
    },
    {
     "data": {
      "text/html": [
       "<div>\n",
       "<style scoped>\n",
       "    .dataframe tbody tr th:only-of-type {\n",
       "        vertical-align: middle;\n",
       "    }\n",
       "\n",
       "    .dataframe tbody tr th {\n",
       "        vertical-align: top;\n",
       "    }\n",
       "\n",
       "    .dataframe thead th {\n",
       "        text-align: right;\n",
       "    }\n",
       "</style>\n",
       "<table border=\"1\" class=\"dataframe\">\n",
       "  <thead>\n",
       "    <tr style=\"text-align: right;\">\n",
       "      <th></th>\n",
       "      <th>irradiance_direct</th>\n",
       "      <th>irradiance_diffuse</th>\n",
       "      <th>temperature</th>\n",
       "    </tr>\n",
       "  </thead>\n",
       "  <tbody>\n",
       "    <tr>\n",
       "      <th>0</th>\n",
       "      <td>0.299391</td>\n",
       "      <td>0.140228</td>\n",
       "      <td>22.334135</td>\n",
       "    </tr>\n",
       "    <tr>\n",
       "      <th>1</th>\n",
       "      <td>0.185115</td>\n",
       "      <td>0.096616</td>\n",
       "      <td>17.742239</td>\n",
       "    </tr>\n",
       "    <tr>\n",
       "      <th>2</th>\n",
       "      <td>0.401871</td>\n",
       "      <td>0.187604</td>\n",
       "      <td>27.220594</td>\n",
       "    </tr>\n",
       "    <tr>\n",
       "      <th>3</th>\n",
       "      <td>0.221711</td>\n",
       "      <td>0.067485</td>\n",
       "      <td>11.906134</td>\n",
       "    </tr>\n",
       "  </tbody>\n",
       "</table>\n",
       "</div>"
      ],
      "text/plain": [
       "   irradiance_direct  irradiance_diffuse  temperature\n",
       "0           0.299391            0.140228    22.334135\n",
       "1           0.185115            0.096616    17.742239\n",
       "2           0.401871            0.187604    27.220594\n",
       "3           0.221711            0.067485    11.906134"
      ]
     },
     "execution_count": 88,
     "metadata": {
      "tags": []
     },
     "output_type": "execute_result"
    }
   ],
   "source": [
    "km = KMeans(n_clusters=4)\n",
    "labels = km.fit_predict(X_train)\n",
    "print(np.unique(labels, return_counts=True))\n",
    "pd.DataFrame(data=km.cluster_centers_, columns=X.columns)"
   ]
  },
  {
   "cell_type": "markdown",
   "metadata": {
    "id": "rjxxGWUqnwu-"
   },
   "source": [
    "## Salvando o dataset"
   ]
  },
  {
   "cell_type": "code",
   "execution_count": 90,
   "metadata": {
    "colab": {
     "base_uri": "https://localhost:8080/"
    },
    "id": "KnpnyH7YoOO4",
    "outputId": "684ca6a3-f4c8-486b-c557-0929f0af9b5e"
   },
   "outputs": [
    {
     "data": {
      "text/plain": [
       "(4745, 3)"
      ]
     },
     "execution_count": 90,
     "metadata": {
      "tags": []
     },
     "output_type": "execute_result"
    }
   ],
   "source": [
    "X.shape"
   ]
  },
  {
   "cell_type": "code",
   "execution_count": 91,
   "metadata": {
    "id": "dgjh42oMnnZ9"
   },
   "outputs": [],
   "source": [
    "X.to_csv('pv_dia_osorio_2019.csv')"
   ]
  },
  {
   "cell_type": "code",
   "execution_count": null,
   "metadata": {
    "id": "bfsxRQH_oV1E"
   },
   "outputs": [],
   "source": []
  }
 ],
 "metadata": {
  "colab": {
   "name": "5 - KMeans Time Series.ipynb",
   "provenance": []
  },
  "kernelspec": {
   "display_name": "Python 3",
   "language": "python",
   "name": "python3"
  },
  "language_info": {
   "codemirror_mode": {
    "name": "ipython",
    "version": 3
   },
   "file_extension": ".py",
   "mimetype": "text/x-python",
   "name": "python",
   "nbconvert_exporter": "python",
   "pygments_lexer": "ipython3",
   "version": "3.8.8"
  }
 },
 "nbformat": 4,
 "nbformat_minor": 1
}
