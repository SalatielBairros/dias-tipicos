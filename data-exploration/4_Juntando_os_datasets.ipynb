{
 "cells": [
  {
   "cell_type": "markdown",
   "metadata": {
    "id": "mFavowRyGREA"
   },
   "source": [
    "# Análise dados Osório 2019: Juntando os datasets"
   ]
  },
  {
   "cell_type": "markdown",
   "metadata": {
    "id": "IsjRXkeKGVWJ"
   },
   "source": [
    "## Preparando o ambiente"
   ]
  },
  {
   "cell_type": "code",
   "execution_count": 1,
   "metadata": {
    "id": "vbfoAMtDGX79"
   },
   "outputs": [],
   "source": [
    "import pandas as pd"
   ]
  },
  {
   "cell_type": "markdown",
   "metadata": {
    "id": "V4bmCMIuGWbv"
   },
   "source": [
    "## Carregando os dados"
   ]
  },
  {
   "cell_type": "code",
   "execution_count": 2,
   "metadata": {
    "id": "YZ7uUzACF8_C"
   },
   "outputs": [],
   "source": [
    "pv = pd.read_csv('https://raw.githubusercontent.com/SalatielBairros/dias-tipicos/main/data/pv_osorio_2019.csv', header=3)\n",
    "wind = pd.read_csv('https://raw.githubusercontent.com/SalatielBairros/dias-tipicos/main/data/wind_osorio_2019.csv', header=3)"
   ]
  },
  {
   "cell_type": "code",
   "execution_count": 3,
   "metadata": {
    "colab": {
     "base_uri": "https://localhost:8080/",
     "height": 270
    },
    "id": "-2doGzXnGjK0",
    "outputId": "f626dbd4-0ff8-41d2-cdda-d9830038c5f6"
   },
   "outputs": [
    {
     "name": "stdout",
     "output_type": "stream",
     "text": [
      "local_time     datetime64[ns]\n",
      "electricity           float64\n",
      "wind_speed            float64\n",
      "dtype: object\n"
     ]
    },
    {
     "data": {
      "text/html": [
       "<div>\n",
       "<style scoped>\n",
       "    .dataframe tbody tr th:only-of-type {\n",
       "        vertical-align: middle;\n",
       "    }\n",
       "\n",
       "    .dataframe tbody tr th {\n",
       "        vertical-align: top;\n",
       "    }\n",
       "\n",
       "    .dataframe thead th {\n",
       "        text-align: right;\n",
       "    }\n",
       "</style>\n",
       "<table border=\"1\" class=\"dataframe\">\n",
       "  <thead>\n",
       "    <tr style=\"text-align: right;\">\n",
       "      <th></th>\n",
       "      <th>local_time</th>\n",
       "      <th>electricity</th>\n",
       "      <th>wind_speed</th>\n",
       "    </tr>\n",
       "  </thead>\n",
       "  <tbody>\n",
       "    <tr>\n",
       "      <th>870</th>\n",
       "      <td>2019-02-06 04:00:00</td>\n",
       "      <td>0.002</td>\n",
       "      <td>1.565</td>\n",
       "    </tr>\n",
       "    <tr>\n",
       "      <th>5628</th>\n",
       "      <td>2019-08-23 09:00:00</td>\n",
       "      <td>0.035</td>\n",
       "      <td>3.186</td>\n",
       "    </tr>\n",
       "    <tr>\n",
       "      <th>8275</th>\n",
       "      <td>2019-12-11 17:00:00</td>\n",
       "      <td>0.072</td>\n",
       "      <td>4.009</td>\n",
       "    </tr>\n",
       "    <tr>\n",
       "      <th>7790</th>\n",
       "      <td>2019-11-21 12:00:00</td>\n",
       "      <td>0.002</td>\n",
       "      <td>1.504</td>\n",
       "    </tr>\n",
       "    <tr>\n",
       "      <th>7220</th>\n",
       "      <td>2019-10-28 17:00:00</td>\n",
       "      <td>0.002</td>\n",
       "      <td>1.460</td>\n",
       "    </tr>\n",
       "  </tbody>\n",
       "</table>\n",
       "</div>"
      ],
      "text/plain": [
       "              local_time  electricity  wind_speed\n",
       "870  2019-02-06 04:00:00        0.002       1.565\n",
       "5628 2019-08-23 09:00:00        0.035       3.186\n",
       "8275 2019-12-11 17:00:00        0.072       4.009\n",
       "7790 2019-11-21 12:00:00        0.002       1.504\n",
       "7220 2019-10-28 17:00:00        0.002       1.460"
      ]
     },
     "execution_count": 3,
     "metadata": {
      "tags": []
     },
     "output_type": "execute_result"
    }
   ],
   "source": [
    "del wind['time']\n",
    "wind['local_time'] = pd.to_datetime(wind['local_time'])\n",
    "print(wind.dtypes)\n",
    "wind.sample(5)"
   ]
  },
  {
   "cell_type": "code",
   "execution_count": 4,
   "metadata": {
    "colab": {
     "base_uri": "https://localhost:8080/",
     "height": 304
    },
    "id": "ctSzl3FaGlfO",
    "outputId": "b71175b6-d82c-45fd-f1ae-d6414877d7bf"
   },
   "outputs": [
    {
     "name": "stdout",
     "output_type": "stream",
     "text": [
      "local_time            datetime64[ns]\n",
      "electricity                  float64\n",
      "irradiance_direct            float64\n",
      "irradiance_diffuse           float64\n",
      "temperature                  float64\n",
      "dtype: object\n"
     ]
    },
    {
     "data": {
      "text/html": [
       "<div>\n",
       "<style scoped>\n",
       "    .dataframe tbody tr th:only-of-type {\n",
       "        vertical-align: middle;\n",
       "    }\n",
       "\n",
       "    .dataframe tbody tr th {\n",
       "        vertical-align: top;\n",
       "    }\n",
       "\n",
       "    .dataframe thead th {\n",
       "        text-align: right;\n",
       "    }\n",
       "</style>\n",
       "<table border=\"1\" class=\"dataframe\">\n",
       "  <thead>\n",
       "    <tr style=\"text-align: right;\">\n",
       "      <th></th>\n",
       "      <th>local_time</th>\n",
       "      <th>electricity</th>\n",
       "      <th>irradiance_direct</th>\n",
       "      <th>irradiance_diffuse</th>\n",
       "      <th>temperature</th>\n",
       "    </tr>\n",
       "  </thead>\n",
       "  <tbody>\n",
       "    <tr>\n",
       "      <th>453</th>\n",
       "      <td>2019-01-19 19:00:00</td>\n",
       "      <td>0.031</td>\n",
       "      <td>0.000</td>\n",
       "      <td>0.050</td>\n",
       "      <td>20.204</td>\n",
       "    </tr>\n",
       "    <tr>\n",
       "      <th>7869</th>\n",
       "      <td>2019-11-24 19:00:00</td>\n",
       "      <td>0.032</td>\n",
       "      <td>0.000</td>\n",
       "      <td>0.050</td>\n",
       "      <td>18.818</td>\n",
       "    </tr>\n",
       "    <tr>\n",
       "      <th>4041</th>\n",
       "      <td>2019-06-18 06:00:00</td>\n",
       "      <td>0.000</td>\n",
       "      <td>0.000</td>\n",
       "      <td>0.000</td>\n",
       "      <td>17.944</td>\n",
       "    </tr>\n",
       "    <tr>\n",
       "      <th>207</th>\n",
       "      <td>2019-01-09 13:00:00</td>\n",
       "      <td>0.421</td>\n",
       "      <td>0.098</td>\n",
       "      <td>0.427</td>\n",
       "      <td>28.999</td>\n",
       "    </tr>\n",
       "    <tr>\n",
       "      <th>8354</th>\n",
       "      <td>2019-12-15 00:00:00</td>\n",
       "      <td>0.000</td>\n",
       "      <td>0.000</td>\n",
       "      <td>0.000</td>\n",
       "      <td>21.870</td>\n",
       "    </tr>\n",
       "  </tbody>\n",
       "</table>\n",
       "</div>"
      ],
      "text/plain": [
       "              local_time  electricity  ...  irradiance_diffuse  temperature\n",
       "453  2019-01-19 19:00:00        0.031  ...               0.050       20.204\n",
       "7869 2019-11-24 19:00:00        0.032  ...               0.050       18.818\n",
       "4041 2019-06-18 06:00:00        0.000  ...               0.000       17.944\n",
       "207  2019-01-09 13:00:00        0.421  ...               0.427       28.999\n",
       "8354 2019-12-15 00:00:00        0.000  ...               0.000       21.870\n",
       "\n",
       "[5 rows x 5 columns]"
      ]
     },
     "execution_count": 4,
     "metadata": {
      "tags": []
     },
     "output_type": "execute_result"
    }
   ],
   "source": [
    "del pv['time']\n",
    "pv['local_time'] = pd.to_datetime(pv['local_time'])\n",
    "print(pv.dtypes)\n",
    "pv.sample(5)"
   ]
  },
  {
   "cell_type": "code",
   "execution_count": 5,
   "metadata": {
    "colab": {
     "base_uri": "https://localhost:8080/"
    },
    "id": "ZP8ULC-4Go4g",
    "outputId": "cbff1a3e-efa9-4bde-888f-164188262ca1"
   },
   "outputs": [
    {
     "name": "stdout",
     "output_type": "stream",
     "text": [
      "(8760, 5)\n",
      "(8760, 3)\n"
     ]
    }
   ],
   "source": [
    "print(pv.shape)\n",
    "print(wind.shape)"
   ]
  },
  {
   "cell_type": "code",
   "execution_count": 6,
   "metadata": {
    "id": "fW3JuhbCGsl3"
   },
   "outputs": [],
   "source": [
    "osorio = pv.copy(deep=True)"
   ]
  },
  {
   "cell_type": "code",
   "execution_count": 7,
   "metadata": {
    "id": "-Ls45nkCHBL2"
   },
   "outputs": [],
   "source": [
    "del osorio['electricity']"
   ]
  },
  {
   "cell_type": "code",
   "execution_count": 9,
   "metadata": {
    "colab": {
     "base_uri": "https://localhost:8080/",
     "height": 203
    },
    "id": "CKBnRmjDHE71",
    "outputId": "a6b921df-b8aa-4e09-fd8f-2d401ec5d108"
   },
   "outputs": [
    {
     "data": {
      "text/html": [
       "<div>\n",
       "<style scoped>\n",
       "    .dataframe tbody tr th:only-of-type {\n",
       "        vertical-align: middle;\n",
       "    }\n",
       "\n",
       "    .dataframe tbody tr th {\n",
       "        vertical-align: top;\n",
       "    }\n",
       "\n",
       "    .dataframe thead th {\n",
       "        text-align: right;\n",
       "    }\n",
       "</style>\n",
       "<table border=\"1\" class=\"dataframe\">\n",
       "  <thead>\n",
       "    <tr style=\"text-align: right;\">\n",
       "      <th></th>\n",
       "      <th>local_time</th>\n",
       "      <th>irradiance_direct</th>\n",
       "      <th>irradiance_diffuse</th>\n",
       "      <th>temperature</th>\n",
       "      <th>wind_speed</th>\n",
       "    </tr>\n",
       "  </thead>\n",
       "  <tbody>\n",
       "    <tr>\n",
       "      <th>0</th>\n",
       "      <td>2018-12-31 22:00:00</td>\n",
       "      <td>0.0</td>\n",
       "      <td>0.0</td>\n",
       "      <td>24.202</td>\n",
       "      <td>2.675</td>\n",
       "    </tr>\n",
       "    <tr>\n",
       "      <th>1</th>\n",
       "      <td>2018-12-31 23:00:00</td>\n",
       "      <td>0.0</td>\n",
       "      <td>0.0</td>\n",
       "      <td>23.979</td>\n",
       "      <td>2.743</td>\n",
       "    </tr>\n",
       "    <tr>\n",
       "      <th>2</th>\n",
       "      <td>2019-01-01 00:00:00</td>\n",
       "      <td>0.0</td>\n",
       "      <td>0.0</td>\n",
       "      <td>23.806</td>\n",
       "      <td>2.834</td>\n",
       "    </tr>\n",
       "    <tr>\n",
       "      <th>3</th>\n",
       "      <td>2019-01-01 01:00:00</td>\n",
       "      <td>0.0</td>\n",
       "      <td>0.0</td>\n",
       "      <td>23.679</td>\n",
       "      <td>2.874</td>\n",
       "    </tr>\n",
       "    <tr>\n",
       "      <th>4</th>\n",
       "      <td>2019-01-01 02:00:00</td>\n",
       "      <td>0.0</td>\n",
       "      <td>0.0</td>\n",
       "      <td>23.633</td>\n",
       "      <td>2.931</td>\n",
       "    </tr>\n",
       "  </tbody>\n",
       "</table>\n",
       "</div>"
      ],
      "text/plain": [
       "           local_time  irradiance_direct  ...  temperature  wind_speed\n",
       "0 2018-12-31 22:00:00                0.0  ...       24.202       2.675\n",
       "1 2018-12-31 23:00:00                0.0  ...       23.979       2.743\n",
       "2 2019-01-01 00:00:00                0.0  ...       23.806       2.834\n",
       "3 2019-01-01 01:00:00                0.0  ...       23.679       2.874\n",
       "4 2019-01-01 02:00:00                0.0  ...       23.633       2.931\n",
       "\n",
       "[5 rows x 5 columns]"
      ]
     },
     "execution_count": 9,
     "metadata": {
      "tags": []
     },
     "output_type": "execute_result"
    }
   ],
   "source": [
    "osorio['wind_speed'] = wind['wind_speed']\n",
    "osorio.head(5)"
   ]
  },
  {
   "cell_type": "markdown",
   "metadata": {
    "id": "YsEuWtyPJJMM"
   },
   "source": [
    "## Salvando os dados"
   ]
  },
  {
   "cell_type": "code",
   "execution_count": 11,
   "metadata": {
    "id": "yB7Yn3hRHQu6"
   },
   "outputs": [],
   "source": [
    "osorio.to_csv('osorio_2019.csv')"
   ]
  },
  {
   "cell_type": "code",
   "execution_count": null,
   "metadata": {
    "id": "F6i0XdEQJOFu"
   },
   "outputs": [],
   "source": []
  }
 ],
 "metadata": {
  "colab": {
   "name": "4 - Juntando os datasets.ipynb",
   "provenance": []
  },
  "kernelspec": {
   "display_name": "Python 3",
   "language": "python",
   "name": "python3"
  },
  "language_info": {
   "codemirror_mode": {
    "name": "ipython",
    "version": 3
   },
   "file_extension": ".py",
   "mimetype": "text/x-python",
   "name": "python",
   "nbconvert_exporter": "python",
   "pygments_lexer": "ipython3",
   "version": "3.8.8"
  }
 },
 "nbformat": 4,
 "nbformat_minor": 1
}
