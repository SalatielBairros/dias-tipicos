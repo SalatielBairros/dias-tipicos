{
  "nbformat": 4,
  "nbformat_minor": 0,
  "metadata": {
    "colab": {
      "name": "6 - Transformando períodos em atributos.ipynb",
      "provenance": []
    },
    "kernelspec": {
      "name": "python3",
      "display_name": "Python 3"
    },
    "language_info": {
      "name": "python"
    }
  },
  "cells": [
    {
      "cell_type": "markdown",
      "metadata": {
        "id": "780MRIa3KAnt"
      },
      "source": [
        "# Preparando ambiente"
      ]
    },
    {
      "cell_type": "code",
      "metadata": {
        "id": "uFYdrkiuBmEv"
      },
      "source": [
        "import pandas as pd\n",
        "import numpy as np\n",
        "import seaborn as sns\n",
        "import matplotlib.pyplot as plt\n",
        "\n",
        "from sklearn.cluster import KMeans, DBSCAN\n",
        "from sklearn.metrics import silhouette_score\n",
        "from sklearn.preprocessing import MinMaxScaler, StandardScaler"
      ],
      "execution_count": 49,
      "outputs": []
    },
    {
      "cell_type": "markdown",
      "metadata": {
        "id": "0HqxvS8iKCYR"
      },
      "source": [
        "# Carregando dados"
      ]
    },
    {
      "cell_type": "code",
      "metadata": {
        "colab": {
          "base_uri": "https://localhost:8080/",
          "height": 417
        },
        "id": "5BW9qSLCCMqm",
        "outputId": "3fe18c0b-910d-4d67-b03a-aa9b10cfbf98"
      },
      "source": [
        "osorio = pd.read_csv('https://raw.githubusercontent.com/SalatielBairros/dias-tipicos/main/data/pv_dia_osorio_2019.csv')\n",
        "osorio"
      ],
      "execution_count": 2,
      "outputs": [
        {
          "output_type": "execute_result",
          "data": {
            "text/html": [
              "<div>\n",
              "<style scoped>\n",
              "    .dataframe tbody tr th:only-of-type {\n",
              "        vertical-align: middle;\n",
              "    }\n",
              "\n",
              "    .dataframe tbody tr th {\n",
              "        vertical-align: top;\n",
              "    }\n",
              "\n",
              "    .dataframe thead th {\n",
              "        text-align: right;\n",
              "    }\n",
              "</style>\n",
              "<table border=\"1\" class=\"dataframe\">\n",
              "  <thead>\n",
              "    <tr style=\"text-align: right;\">\n",
              "      <th></th>\n",
              "      <th>local_time</th>\n",
              "      <th>irradiance_direct</th>\n",
              "      <th>irradiance_diffuse</th>\n",
              "      <th>temperature</th>\n",
              "    </tr>\n",
              "  </thead>\n",
              "  <tbody>\n",
              "    <tr>\n",
              "      <th>0</th>\n",
              "      <td>2019-01-01 06:00:00</td>\n",
              "      <td>0.000</td>\n",
              "      <td>0.012</td>\n",
              "      <td>23.489</td>\n",
              "    </tr>\n",
              "    <tr>\n",
              "      <th>1</th>\n",
              "      <td>2019-01-01 07:00:00</td>\n",
              "      <td>0.000</td>\n",
              "      <td>0.091</td>\n",
              "      <td>24.256</td>\n",
              "    </tr>\n",
              "    <tr>\n",
              "      <th>2</th>\n",
              "      <td>2019-01-01 08:00:00</td>\n",
              "      <td>0.094</td>\n",
              "      <td>0.155</td>\n",
              "      <td>25.190</td>\n",
              "    </tr>\n",
              "    <tr>\n",
              "      <th>3</th>\n",
              "      <td>2019-01-01 09:00:00</td>\n",
              "      <td>0.235</td>\n",
              "      <td>0.195</td>\n",
              "      <td>26.237</td>\n",
              "    </tr>\n",
              "    <tr>\n",
              "      <th>4</th>\n",
              "      <td>2019-01-01 10:00:00</td>\n",
              "      <td>0.304</td>\n",
              "      <td>0.255</td>\n",
              "      <td>27.130</td>\n",
              "    </tr>\n",
              "    <tr>\n",
              "      <th>...</th>\n",
              "      <td>...</td>\n",
              "      <td>...</td>\n",
              "      <td>...</td>\n",
              "      <td>...</td>\n",
              "    </tr>\n",
              "    <tr>\n",
              "      <th>4740</th>\n",
              "      <td>2019-12-31 14:00:00</td>\n",
              "      <td>0.166</td>\n",
              "      <td>0.400</td>\n",
              "      <td>30.495</td>\n",
              "    </tr>\n",
              "    <tr>\n",
              "      <th>4741</th>\n",
              "      <td>2019-12-31 15:00:00</td>\n",
              "      <td>0.065</td>\n",
              "      <td>0.343</td>\n",
              "      <td>29.996</td>\n",
              "    </tr>\n",
              "    <tr>\n",
              "      <th>4742</th>\n",
              "      <td>2019-12-31 16:00:00</td>\n",
              "      <td>0.050</td>\n",
              "      <td>0.293</td>\n",
              "      <td>29.550</td>\n",
              "    </tr>\n",
              "    <tr>\n",
              "      <th>4743</th>\n",
              "      <td>2019-12-31 17:00:00</td>\n",
              "      <td>0.037</td>\n",
              "      <td>0.231</td>\n",
              "      <td>29.056</td>\n",
              "    </tr>\n",
              "    <tr>\n",
              "      <th>4744</th>\n",
              "      <td>2019-12-31 18:00:00</td>\n",
              "      <td>0.014</td>\n",
              "      <td>0.149</td>\n",
              "      <td>28.214</td>\n",
              "    </tr>\n",
              "  </tbody>\n",
              "</table>\n",
              "<p>4745 rows × 4 columns</p>\n",
              "</div>"
            ],
            "text/plain": [
              "               local_time  irradiance_direct  irradiance_diffuse  temperature\n",
              "0     2019-01-01 06:00:00              0.000               0.012       23.489\n",
              "1     2019-01-01 07:00:00              0.000               0.091       24.256\n",
              "2     2019-01-01 08:00:00              0.094               0.155       25.190\n",
              "3     2019-01-01 09:00:00              0.235               0.195       26.237\n",
              "4     2019-01-01 10:00:00              0.304               0.255       27.130\n",
              "...                   ...                ...                 ...          ...\n",
              "4740  2019-12-31 14:00:00              0.166               0.400       30.495\n",
              "4741  2019-12-31 15:00:00              0.065               0.343       29.996\n",
              "4742  2019-12-31 16:00:00              0.050               0.293       29.550\n",
              "4743  2019-12-31 17:00:00              0.037               0.231       29.056\n",
              "4744  2019-12-31 18:00:00              0.014               0.149       28.214\n",
              "\n",
              "[4745 rows x 4 columns]"
            ]
          },
          "metadata": {
            "tags": []
          },
          "execution_count": 2
        }
      ]
    },
    {
      "cell_type": "markdown",
      "metadata": {
        "id": "cxa4nqvgKEP4"
      },
      "source": [
        "# Preparando dados"
      ]
    },
    {
      "cell_type": "code",
      "metadata": {
        "colab": {
          "base_uri": "https://localhost:8080/"
        },
        "id": "jxJmW8HpCQBM",
        "outputId": "bb895b0e-bef7-4cb3-9448-6dd0c34a8b59"
      },
      "source": [
        "osorio.dtypes"
      ],
      "execution_count": 3,
      "outputs": [
        {
          "output_type": "execute_result",
          "data": {
            "text/plain": [
              "local_time             object\n",
              "irradiance_direct     float64\n",
              "irradiance_diffuse    float64\n",
              "temperature           float64\n",
              "dtype: object"
            ]
          },
          "metadata": {
            "tags": []
          },
          "execution_count": 3
        }
      ]
    },
    {
      "cell_type": "code",
      "metadata": {
        "colab": {
          "base_uri": "https://localhost:8080/",
          "height": 287
        },
        "id": "7lDbMDRsCp4k",
        "outputId": "7e79bbe3-c38a-4b61-ece3-ffde396d7009"
      },
      "source": [
        "osorio['local_time'] = pd.to_datetime(osorio['local_time'])\n",
        "print(osorio.dtypes)\n",
        "osorio.sample(5)"
      ],
      "execution_count": 4,
      "outputs": [
        {
          "output_type": "stream",
          "text": [
            "local_time            datetime64[ns]\n",
            "irradiance_direct            float64\n",
            "irradiance_diffuse           float64\n",
            "temperature                  float64\n",
            "dtype: object\n"
          ],
          "name": "stdout"
        },
        {
          "output_type": "execute_result",
          "data": {
            "text/html": [
              "<div>\n",
              "<style scoped>\n",
              "    .dataframe tbody tr th:only-of-type {\n",
              "        vertical-align: middle;\n",
              "    }\n",
              "\n",
              "    .dataframe tbody tr th {\n",
              "        vertical-align: top;\n",
              "    }\n",
              "\n",
              "    .dataframe thead th {\n",
              "        text-align: right;\n",
              "    }\n",
              "</style>\n",
              "<table border=\"1\" class=\"dataframe\">\n",
              "  <thead>\n",
              "    <tr style=\"text-align: right;\">\n",
              "      <th></th>\n",
              "      <th>local_time</th>\n",
              "      <th>irradiance_direct</th>\n",
              "      <th>irradiance_diffuse</th>\n",
              "      <th>temperature</th>\n",
              "    </tr>\n",
              "  </thead>\n",
              "  <tbody>\n",
              "    <tr>\n",
              "      <th>1904</th>\n",
              "      <td>2019-05-27 12:00:00</td>\n",
              "      <td>0.015</td>\n",
              "      <td>0.175</td>\n",
              "      <td>19.954</td>\n",
              "    </tr>\n",
              "    <tr>\n",
              "      <th>357</th>\n",
              "      <td>2019-01-28 12:00:00</td>\n",
              "      <td>0.827</td>\n",
              "      <td>0.144</td>\n",
              "      <td>30.969</td>\n",
              "    </tr>\n",
              "    <tr>\n",
              "      <th>911</th>\n",
              "      <td>2019-03-12 07:00:00</td>\n",
              "      <td>0.002</td>\n",
              "      <td>0.061</td>\n",
              "      <td>21.416</td>\n",
              "    </tr>\n",
              "    <tr>\n",
              "      <th>1997</th>\n",
              "      <td>2019-06-03 14:00:00</td>\n",
              "      <td>0.067</td>\n",
              "      <td>0.197</td>\n",
              "      <td>17.537</td>\n",
              "    </tr>\n",
              "    <tr>\n",
              "      <th>325</th>\n",
              "      <td>2019-01-26 06:00:00</td>\n",
              "      <td>0.000</td>\n",
              "      <td>0.006</td>\n",
              "      <td>22.700</td>\n",
              "    </tr>\n",
              "  </tbody>\n",
              "</table>\n",
              "</div>"
            ],
            "text/plain": [
              "              local_time  irradiance_direct  irradiance_diffuse  temperature\n",
              "1904 2019-05-27 12:00:00              0.015               0.175       19.954\n",
              "357  2019-01-28 12:00:00              0.827               0.144       30.969\n",
              "911  2019-03-12 07:00:00              0.002               0.061       21.416\n",
              "1997 2019-06-03 14:00:00              0.067               0.197       17.537\n",
              "325  2019-01-26 06:00:00              0.000               0.006       22.700"
            ]
          },
          "metadata": {
            "tags": []
          },
          "execution_count": 4
        }
      ]
    },
    {
      "cell_type": "markdown",
      "metadata": {
        "id": "kOMCojnFKH4U"
      },
      "source": [
        "# Separando a data e períodos"
      ]
    },
    {
      "cell_type": "code",
      "metadata": {
        "colab": {
          "base_uri": "https://localhost:8080/",
          "height": 203
        },
        "id": "RhnxlHldCxLT",
        "outputId": "71679d62-265b-4237-91d3-0d180b36e3e6"
      },
      "source": [
        "new_dates, new_times = zip(*[(d.date(), d.hour) for d in osorio['local_time']])\n",
        "osorio = osorio.assign(new_date=new_dates, new_time=new_times)\n",
        "del osorio['local_time']\n",
        "osorio.rename(columns={'new_date': 'date', 'new_time': 'time'}, inplace=True)\n",
        "osorio.sample(5)"
      ],
      "execution_count": 5,
      "outputs": [
        {
          "output_type": "execute_result",
          "data": {
            "text/html": [
              "<div>\n",
              "<style scoped>\n",
              "    .dataframe tbody tr th:only-of-type {\n",
              "        vertical-align: middle;\n",
              "    }\n",
              "\n",
              "    .dataframe tbody tr th {\n",
              "        vertical-align: top;\n",
              "    }\n",
              "\n",
              "    .dataframe thead th {\n",
              "        text-align: right;\n",
              "    }\n",
              "</style>\n",
              "<table border=\"1\" class=\"dataframe\">\n",
              "  <thead>\n",
              "    <tr style=\"text-align: right;\">\n",
              "      <th></th>\n",
              "      <th>irradiance_direct</th>\n",
              "      <th>irradiance_diffuse</th>\n",
              "      <th>temperature</th>\n",
              "      <th>date</th>\n",
              "      <th>time</th>\n",
              "    </tr>\n",
              "  </thead>\n",
              "  <tbody>\n",
              "    <tr>\n",
              "      <th>1364</th>\n",
              "      <td>0.000</td>\n",
              "      <td>0.000</td>\n",
              "      <td>21.497</td>\n",
              "      <td>2019-04-15</td>\n",
              "      <td>18</td>\n",
              "    </tr>\n",
              "    <tr>\n",
              "      <th>804</th>\n",
              "      <td>0.098</td>\n",
              "      <td>0.081</td>\n",
              "      <td>24.555</td>\n",
              "      <td>2019-03-03</td>\n",
              "      <td>17</td>\n",
              "    </tr>\n",
              "    <tr>\n",
              "      <th>3470</th>\n",
              "      <td>0.001</td>\n",
              "      <td>0.005</td>\n",
              "      <td>16.074</td>\n",
              "      <td>2019-09-24</td>\n",
              "      <td>18</td>\n",
              "    </tr>\n",
              "    <tr>\n",
              "      <th>2688</th>\n",
              "      <td>0.007</td>\n",
              "      <td>0.055</td>\n",
              "      <td>17.375</td>\n",
              "      <td>2019-07-26</td>\n",
              "      <td>16</td>\n",
              "    </tr>\n",
              "    <tr>\n",
              "      <th>2</th>\n",
              "      <td>0.094</td>\n",
              "      <td>0.155</td>\n",
              "      <td>25.190</td>\n",
              "      <td>2019-01-01</td>\n",
              "      <td>8</td>\n",
              "    </tr>\n",
              "  </tbody>\n",
              "</table>\n",
              "</div>"
            ],
            "text/plain": [
              "      irradiance_direct  irradiance_diffuse  temperature        date  time\n",
              "1364              0.000               0.000       21.497  2019-04-15    18\n",
              "804               0.098               0.081       24.555  2019-03-03    17\n",
              "3470              0.001               0.005       16.074  2019-09-24    18\n",
              "2688              0.007               0.055       17.375  2019-07-26    16\n",
              "2                 0.094               0.155       25.190  2019-01-01     8"
            ]
          },
          "metadata": {
            "tags": []
          },
          "execution_count": 5
        }
      ]
    },
    {
      "cell_type": "code",
      "metadata": {
        "id": "ESIWrOWxDIoH"
      },
      "source": [
        "def obter_periodo(hora):\n",
        "    if(0 <= hora < 6):\n",
        "        return 'madrugada'\n",
        "    if(6 <= hora < 12):\n",
        "        return 'manhã'\n",
        "    if(12 <= hora < 18):\n",
        "        return 'tarde'\n",
        "    if(18 <= hora < 24):\n",
        "        return 'noite'"
      ],
      "execution_count": 6,
      "outputs": []
    },
    {
      "cell_type": "code",
      "metadata": {
        "colab": {
          "base_uri": "https://localhost:8080/",
          "height": 447
        },
        "id": "PC-rtuWIDL9H",
        "outputId": "bd441fa9-7d5e-4735-eacf-68e02fc23efc"
      },
      "source": [
        "osorio['periodo'] = [obter_periodo(hora) for hora in osorio['time']]\n",
        "osorio.groupby(['date', 'periodo']).mean()"
      ],
      "execution_count": 7,
      "outputs": [
        {
          "output_type": "execute_result",
          "data": {
            "text/html": [
              "<div>\n",
              "<style scoped>\n",
              "    .dataframe tbody tr th:only-of-type {\n",
              "        vertical-align: middle;\n",
              "    }\n",
              "\n",
              "    .dataframe tbody tr th {\n",
              "        vertical-align: top;\n",
              "    }\n",
              "\n",
              "    .dataframe thead th {\n",
              "        text-align: right;\n",
              "    }\n",
              "</style>\n",
              "<table border=\"1\" class=\"dataframe\">\n",
              "  <thead>\n",
              "    <tr style=\"text-align: right;\">\n",
              "      <th></th>\n",
              "      <th></th>\n",
              "      <th>irradiance_direct</th>\n",
              "      <th>irradiance_diffuse</th>\n",
              "      <th>temperature</th>\n",
              "      <th>time</th>\n",
              "    </tr>\n",
              "    <tr>\n",
              "      <th>date</th>\n",
              "      <th>periodo</th>\n",
              "      <th></th>\n",
              "      <th></th>\n",
              "      <th></th>\n",
              "      <th></th>\n",
              "    </tr>\n",
              "  </thead>\n",
              "  <tbody>\n",
              "    <tr>\n",
              "      <th rowspan=\"3\" valign=\"top\">2019-01-01</th>\n",
              "      <th>manhã</th>\n",
              "      <td>0.172167</td>\n",
              "      <td>0.165000</td>\n",
              "      <td>25.703333</td>\n",
              "      <td>8.5</td>\n",
              "    </tr>\n",
              "    <tr>\n",
              "      <th>noite</th>\n",
              "      <td>0.030000</td>\n",
              "      <td>0.155000</td>\n",
              "      <td>27.642000</td>\n",
              "      <td>18.0</td>\n",
              "    </tr>\n",
              "    <tr>\n",
              "      <th>tarde</th>\n",
              "      <td>0.464000</td>\n",
              "      <td>0.228833</td>\n",
              "      <td>28.932833</td>\n",
              "      <td>14.5</td>\n",
              "    </tr>\n",
              "    <tr>\n",
              "      <th rowspan=\"2\" valign=\"top\">2019-01-02</th>\n",
              "      <th>manhã</th>\n",
              "      <td>0.277833</td>\n",
              "      <td>0.108667</td>\n",
              "      <td>26.207667</td>\n",
              "      <td>8.5</td>\n",
              "    </tr>\n",
              "    <tr>\n",
              "      <th>noite</th>\n",
              "      <td>0.045000</td>\n",
              "      <td>0.147000</td>\n",
              "      <td>29.690000</td>\n",
              "      <td>18.0</td>\n",
              "    </tr>\n",
              "    <tr>\n",
              "      <th>...</th>\n",
              "      <th>...</th>\n",
              "      <td>...</td>\n",
              "      <td>...</td>\n",
              "      <td>...</td>\n",
              "      <td>...</td>\n",
              "    </tr>\n",
              "    <tr>\n",
              "      <th rowspan=\"2\" valign=\"top\">2019-12-30</th>\n",
              "      <th>noite</th>\n",
              "      <td>0.080000</td>\n",
              "      <td>0.121000</td>\n",
              "      <td>28.272000</td>\n",
              "      <td>18.0</td>\n",
              "    </tr>\n",
              "    <tr>\n",
              "      <th>tarde</th>\n",
              "      <td>0.637167</td>\n",
              "      <td>0.137667</td>\n",
              "      <td>29.920167</td>\n",
              "      <td>14.5</td>\n",
              "    </tr>\n",
              "    <tr>\n",
              "      <th rowspan=\"3\" valign=\"top\">2019-12-31</th>\n",
              "      <th>manhã</th>\n",
              "      <td>0.284000</td>\n",
              "      <td>0.114167</td>\n",
              "      <td>26.177000</td>\n",
              "      <td>8.5</td>\n",
              "    </tr>\n",
              "    <tr>\n",
              "      <th>noite</th>\n",
              "      <td>0.014000</td>\n",
              "      <td>0.149000</td>\n",
              "      <td>28.214000</td>\n",
              "      <td>18.0</td>\n",
              "    </tr>\n",
              "    <tr>\n",
              "      <th>tarde</th>\n",
              "      <td>0.210667</td>\n",
              "      <td>0.314000</td>\n",
              "      <td>30.121500</td>\n",
              "      <td>14.5</td>\n",
              "    </tr>\n",
              "  </tbody>\n",
              "</table>\n",
              "<p>1095 rows × 4 columns</p>\n",
              "</div>"
            ],
            "text/plain": [
              "                    irradiance_direct  irradiance_diffuse  temperature  time\n",
              "date       periodo                                                          \n",
              "2019-01-01 manhã             0.172167            0.165000    25.703333   8.5\n",
              "           noite             0.030000            0.155000    27.642000  18.0\n",
              "           tarde             0.464000            0.228833    28.932833  14.5\n",
              "2019-01-02 manhã             0.277833            0.108667    26.207667   8.5\n",
              "           noite             0.045000            0.147000    29.690000  18.0\n",
              "...                               ...                 ...          ...   ...\n",
              "2019-12-30 noite             0.080000            0.121000    28.272000  18.0\n",
              "           tarde             0.637167            0.137667    29.920167  14.5\n",
              "2019-12-31 manhã             0.284000            0.114167    26.177000   8.5\n",
              "           noite             0.014000            0.149000    28.214000  18.0\n",
              "           tarde             0.210667            0.314000    30.121500  14.5\n",
              "\n",
              "[1095 rows x 4 columns]"
            ]
          },
          "metadata": {
            "tags": []
          },
          "execution_count": 7
        }
      ]
    },
    {
      "cell_type": "markdown",
      "metadata": {
        "id": "kZjIwXe_KLZo"
      },
      "source": [
        "# Transformando períodos em atributos"
      ]
    },
    {
      "cell_type": "code",
      "metadata": {
        "colab": {
          "base_uri": "https://localhost:8080/",
          "height": 434
        },
        "id": "Ja_rbm66DTsz",
        "outputId": "1c844be1-354b-4736-ab0b-06bde24c448d"
      },
      "source": [
        "dias = []\n",
        "for i in osorio.groupby('date'):\n",
        "    d = {\n",
        "        'data': i[0],\n",
        "        # 'idr_madrugada': i[1][i[1]['periodo'] == 'madrugada']['irradiance_direct'].mean(),\n",
        "        # 'idf_madrugada': i[1][i[1]['periodo'] == 'madrugada']['irradiance_diffuse'].mean(),\n",
        "        # 'tmp_madrugada': i[1][i[1]['periodo'] == 'madrugada']['temperature'].mean(),\n",
        "\n",
        "        'idr_manha': i[1][i[1]['periodo'] == 'manhã']['irradiance_direct'].mean(),\n",
        "        'idr_tarde': i[1][i[1]['periodo'] == 'tarde']['irradiance_direct'].mean(),\n",
        "        'idf_manha': i[1][i[1]['periodo'] == 'manhã']['irradiance_diffuse'].mean(),\n",
        "        'idf_tarde': i[1][i[1]['periodo'] == 'tarde']['irradiance_diffuse'].mean(),\n",
        "        'tmp_manha': i[1][i[1]['periodo'] == 'manhã']['temperature'].mean(),\n",
        "        'tmp_tarde': i[1][i[1]['periodo'] == 'tarde']['temperature'].mean(),\n",
        "        \n",
        "        # 'idr_noite': i[1][i[1]['periodo'] == 'noite']['irradiance_direct'].mean(),\n",
        "        # 'idf_noite': i[1][i[1]['periodo'] == 'noite']['irradiance_diffuse'].mean(),        \n",
        "        # 'tmp_noite': i[1][i[1]['periodo'] == 'noite']['temperature'].mean()        \n",
        "    }\n",
        "    dias.append(d)\n",
        "\n",
        "df_periodo = pd.DataFrame(dias)\n",
        "print(df_periodo.shape)\n",
        "df_periodo"
      ],
      "execution_count": 38,
      "outputs": [
        {
          "output_type": "stream",
          "text": [
            "(365, 7)\n"
          ],
          "name": "stdout"
        },
        {
          "output_type": "execute_result",
          "data": {
            "text/html": [
              "<div>\n",
              "<style scoped>\n",
              "    .dataframe tbody tr th:only-of-type {\n",
              "        vertical-align: middle;\n",
              "    }\n",
              "\n",
              "    .dataframe tbody tr th {\n",
              "        vertical-align: top;\n",
              "    }\n",
              "\n",
              "    .dataframe thead th {\n",
              "        text-align: right;\n",
              "    }\n",
              "</style>\n",
              "<table border=\"1\" class=\"dataframe\">\n",
              "  <thead>\n",
              "    <tr style=\"text-align: right;\">\n",
              "      <th></th>\n",
              "      <th>data</th>\n",
              "      <th>idr_manha</th>\n",
              "      <th>idr_tarde</th>\n",
              "      <th>idf_manha</th>\n",
              "      <th>idf_tarde</th>\n",
              "      <th>tmp_manha</th>\n",
              "      <th>tmp_tarde</th>\n",
              "    </tr>\n",
              "  </thead>\n",
              "  <tbody>\n",
              "    <tr>\n",
              "      <th>0</th>\n",
              "      <td>2019-01-01</td>\n",
              "      <td>0.172167</td>\n",
              "      <td>0.464000</td>\n",
              "      <td>0.165000</td>\n",
              "      <td>0.228833</td>\n",
              "      <td>25.703333</td>\n",
              "      <td>28.932833</td>\n",
              "    </tr>\n",
              "    <tr>\n",
              "      <th>1</th>\n",
              "      <td>2019-01-02</td>\n",
              "      <td>0.277833</td>\n",
              "      <td>0.568667</td>\n",
              "      <td>0.108667</td>\n",
              "      <td>0.176500</td>\n",
              "      <td>26.207667</td>\n",
              "      <td>31.356500</td>\n",
              "    </tr>\n",
              "    <tr>\n",
              "      <th>2</th>\n",
              "      <td>2019-01-03</td>\n",
              "      <td>0.004000</td>\n",
              "      <td>0.022833</td>\n",
              "      <td>0.131833</td>\n",
              "      <td>0.300333</td>\n",
              "      <td>26.989833</td>\n",
              "      <td>25.183833</td>\n",
              "    </tr>\n",
              "    <tr>\n",
              "      <th>3</th>\n",
              "      <td>2019-01-04</td>\n",
              "      <td>0.255500</td>\n",
              "      <td>0.547667</td>\n",
              "      <td>0.120333</td>\n",
              "      <td>0.187500</td>\n",
              "      <td>21.721000</td>\n",
              "      <td>24.702000</td>\n",
              "    </tr>\n",
              "    <tr>\n",
              "      <th>4</th>\n",
              "      <td>2019-01-05</td>\n",
              "      <td>0.223000</td>\n",
              "      <td>0.466500</td>\n",
              "      <td>0.134833</td>\n",
              "      <td>0.221167</td>\n",
              "      <td>21.689167</td>\n",
              "      <td>24.411333</td>\n",
              "    </tr>\n",
              "    <tr>\n",
              "      <th>...</th>\n",
              "      <td>...</td>\n",
              "      <td>...</td>\n",
              "      <td>...</td>\n",
              "      <td>...</td>\n",
              "      <td>...</td>\n",
              "      <td>...</td>\n",
              "      <td>...</td>\n",
              "    </tr>\n",
              "    <tr>\n",
              "      <th>360</th>\n",
              "      <td>2019-12-27</td>\n",
              "      <td>0.068000</td>\n",
              "      <td>0.493667</td>\n",
              "      <td>0.195833</td>\n",
              "      <td>0.213333</td>\n",
              "      <td>24.660833</td>\n",
              "      <td>28.247000</td>\n",
              "    </tr>\n",
              "    <tr>\n",
              "      <th>361</th>\n",
              "      <td>2019-12-28</td>\n",
              "      <td>0.317167</td>\n",
              "      <td>0.673500</td>\n",
              "      <td>0.082833</td>\n",
              "      <td>0.120667</td>\n",
              "      <td>25.077500</td>\n",
              "      <td>29.325167</td>\n",
              "    </tr>\n",
              "    <tr>\n",
              "      <th>362</th>\n",
              "      <td>2019-12-29</td>\n",
              "      <td>0.061667</td>\n",
              "      <td>0.387833</td>\n",
              "      <td>0.202333</td>\n",
              "      <td>0.258167</td>\n",
              "      <td>24.863333</td>\n",
              "      <td>30.292000</td>\n",
              "    </tr>\n",
              "    <tr>\n",
              "      <th>363</th>\n",
              "      <td>2019-12-30</td>\n",
              "      <td>0.312333</td>\n",
              "      <td>0.637167</td>\n",
              "      <td>0.086500</td>\n",
              "      <td>0.137667</td>\n",
              "      <td>25.555667</td>\n",
              "      <td>29.920167</td>\n",
              "    </tr>\n",
              "    <tr>\n",
              "      <th>364</th>\n",
              "      <td>2019-12-31</td>\n",
              "      <td>0.284000</td>\n",
              "      <td>0.210667</td>\n",
              "      <td>0.114167</td>\n",
              "      <td>0.314000</td>\n",
              "      <td>26.177000</td>\n",
              "      <td>30.121500</td>\n",
              "    </tr>\n",
              "  </tbody>\n",
              "</table>\n",
              "<p>365 rows × 7 columns</p>\n",
              "</div>"
            ],
            "text/plain": [
              "           data  idr_manha  idr_tarde  ...  idf_tarde  tmp_manha  tmp_tarde\n",
              "0    2019-01-01   0.172167   0.464000  ...   0.228833  25.703333  28.932833\n",
              "1    2019-01-02   0.277833   0.568667  ...   0.176500  26.207667  31.356500\n",
              "2    2019-01-03   0.004000   0.022833  ...   0.300333  26.989833  25.183833\n",
              "3    2019-01-04   0.255500   0.547667  ...   0.187500  21.721000  24.702000\n",
              "4    2019-01-05   0.223000   0.466500  ...   0.221167  21.689167  24.411333\n",
              "..          ...        ...        ...  ...        ...        ...        ...\n",
              "360  2019-12-27   0.068000   0.493667  ...   0.213333  24.660833  28.247000\n",
              "361  2019-12-28   0.317167   0.673500  ...   0.120667  25.077500  29.325167\n",
              "362  2019-12-29   0.061667   0.387833  ...   0.258167  24.863333  30.292000\n",
              "363  2019-12-30   0.312333   0.637167  ...   0.137667  25.555667  29.920167\n",
              "364  2019-12-31   0.284000   0.210667  ...   0.314000  26.177000  30.121500\n",
              "\n",
              "[365 rows x 7 columns]"
            ]
          },
          "metadata": {
            "tags": []
          },
          "execution_count": 38
        }
      ]
    },
    {
      "cell_type": "code",
      "metadata": {
        "colab": {
          "base_uri": "https://localhost:8080/"
        },
        "id": "DFWXZnKkD5VC",
        "outputId": "59ffb36d-7ec0-4c86-c25a-3e2f7b56c602"
      },
      "source": [
        "df_periodo.dropna(inplace=True)\n",
        "print(df_periodo.shape)"
      ],
      "execution_count": 39,
      "outputs": [
        {
          "output_type": "stream",
          "text": [
            "(365, 7)\n"
          ],
          "name": "stdout"
        }
      ]
    },
    {
      "cell_type": "code",
      "metadata": {
        "id": "rktI0baLEl1O"
      },
      "source": [
        "X = df_periodo.drop(columns=['data'])"
      ],
      "execution_count": 40,
      "outputs": []
    },
    {
      "cell_type": "markdown",
      "metadata": {
        "id": "XbbohEZyKPSa"
      },
      "source": [
        "# Treinando com KMeans"
      ]
    },
    {
      "cell_type": "code",
      "metadata": {
        "colab": {
          "base_uri": "https://localhost:8080/"
        },
        "id": "dsdDT5BNEO2A",
        "outputId": "0040d685-a16b-4bfd-d9c0-1b99edadf074"
      },
      "source": [
        "faixa_clusters = [i for i in range(2, 20)]\n",
        "valores_silhueta = []\n",
        "\n",
        "for n in faixa_clusters:\n",
        "    agrupador = KMeans(n_clusters=n)\n",
        "    labels = agrupador.fit_predict(X)\n",
        "    media = silhouette_score(X, labels)\n",
        "    values, counts = np.unique(labels, return_counts=True)\n",
        "    print((n, media, counts))\n",
        "    print('\\n')"
      ],
      "execution_count": 41,
      "outputs": [
        {
          "output_type": "stream",
          "text": [
            "(2, 0.5216005749254824, array([131, 234]))\n",
            "\n",
            "\n",
            "(3, 0.49506339033136854, array([106, 173,  86]))\n",
            "\n",
            "\n",
            "(4, 0.46654102902576144, array([ 82,  91,  41, 151]))\n",
            "\n",
            "\n",
            "(5, 0.44089171596016036, array([ 86,  32,  57,  73, 117]))\n",
            "\n",
            "\n",
            "(6, 0.40656946447042225, array([58, 94, 29, 45, 72, 67]))\n",
            "\n",
            "\n",
            "(7, 0.3895517845738826, array([59, 62, 20, 74, 45, 29, 76]))\n",
            "\n",
            "\n",
            "(8, 0.36428497113971353, array([29, 57, 35, 20, 53, 82, 57, 32]))\n",
            "\n",
            "\n",
            "(9, 0.33614001063142396, array([39, 37, 70, 69, 18, 21, 24, 40, 47]))\n",
            "\n",
            "\n",
            "(10, 0.35027514748730254, array([43, 61, 46,  7, 21, 16, 51, 53, 41, 26]))\n",
            "\n",
            "\n",
            "(11, 0.33155930112282317, array([34, 52, 49, 14, 19, 45,  9, 41, 37, 23, 42]))\n",
            "\n",
            "\n",
            "(12, 0.33852546464124944, array([45, 14, 19, 53, 32, 39, 48, 36,  9, 23, 26, 21]))\n",
            "\n",
            "\n",
            "(13, 0.3364001775158249, array([38, 23, 42,  7, 40, 42, 14, 43, 25, 15, 38, 18, 20]))\n",
            "\n",
            "\n",
            "(14, 0.33975041342226703, array([28, 31, 41, 15, 16, 33, 34,  7, 24, 23, 28, 20, 26, 39]))\n",
            "\n",
            "\n",
            "(15, 0.3496248696728231, array([23, 24, 28, 16, 22, 37, 29, 27, 36,  8, 28, 29,  7, 19, 32]))\n",
            "\n",
            "\n",
            "(16, 0.349979352648957, array([27, 23, 36, 32,  7,  8, 30, 30, 19, 34, 21, 28, 16, 19, 24, 11]))\n",
            "\n",
            "\n",
            "(17, 0.33848213210025396, array([34, 15, 14, 19, 30, 37, 14, 25,  7, 19, 27, 27, 20, 15, 26, 28,  8]))\n",
            "\n",
            "\n",
            "(18, 0.3472083554544762, array([22, 23, 10, 23,  7, 11, 18, 30, 26, 16, 36, 26, 24, 28,  8, 18, 19,\n",
            "       20]))\n",
            "\n",
            "\n",
            "(19, 0.35375613718511273, array([24, 16, 30, 22, 26, 14, 19, 11,  6, 20, 35, 17, 23, 10, 33, 10, 12,\n",
            "       25, 12]))\n",
            "\n",
            "\n"
          ],
          "name": "stdout"
        }
      ]
    },
    {
      "cell_type": "markdown",
      "metadata": {
        "id": "o7H_VneDKRs1"
      },
      "source": [
        "# Treinando com DBSCAN"
      ]
    },
    {
      "cell_type": "code",
      "metadata": {
        "colab": {
          "base_uri": "https://localhost:8080/"
        },
        "id": "2fpJfhUqEhrx",
        "outputId": "03bc62aa-604f-499e-881a-d0354399b67f"
      },
      "source": [
        "faixa_eps = [0.1, 0.3, 0.5, 0.7, 0.9, 1.1, 1.3, 1.5, 5, 10]\n",
        "valores_silhueta = []\n",
        "for n in faixa_eps:\n",
        "    agrupador = DBSCAN(eps=n, min_samples=30)\n",
        "    labels = agrupador.fit_predict(X)\n",
        "    if(len(np.unique(labels)) > 1):\n",
        "        media = silhouette_score(X, labels)\n",
        "        print((n, media, np.unique(labels, return_counts=True)))\n",
        "        print('\\n')"
      ],
      "execution_count": 25,
      "outputs": [
        {
          "output_type": "stream",
          "text": [
            "(1.1, -0.02423237457419733, (array([-1,  0]), array([272,  93])))\n",
            "\n",
            "\n",
            "(1.3, 0.2563647405493863, (array([-1,  0]), array([173, 192])))\n",
            "\n",
            "\n",
            "(1.5, 0.10322256688045854, (array([-1,  0,  1,  2]), array([ 86, 225,  30,  24])))\n",
            "\n",
            "\n"
          ],
          "name": "stdout"
        }
      ]
    },
    {
      "cell_type": "markdown",
      "metadata": {
        "id": "zsF_fxZwKTrX"
      },
      "source": [
        "# `MinMaxScaler`"
      ]
    },
    {
      "cell_type": "code",
      "metadata": {
        "colab": {
          "base_uri": "https://localhost:8080/"
        },
        "id": "azZRnuZpFKcA",
        "outputId": "4123949b-a83f-4683-8b7e-c02a20a39689"
      },
      "source": [
        "mm_scaler = MinMaxScaler()\n",
        "mm_X = mm_scaler.fit_transform(X)\n",
        "mm_X"
      ],
      "execution_count": 28,
      "outputs": [
        {
          "output_type": "execute_result",
          "data": {
            "text/plain": [
              "array([[0.31970849, 0.625     , 0.86037316, 0.62030411, 0.57319699,\n",
              "        0.84211099],\n",
              "       [0.52059569, 0.33758503, 0.88312059, 0.76073345, 0.40419806,\n",
              "        0.94754434],\n",
              "       [0.        , 0.45578231, 0.91839941, 0.02839893, 0.80409042,\n",
              "        0.67902353],\n",
              "       ...,\n",
              "       [0.10963245, 0.81547619, 0.82248583, 0.5181127 , 0.6679225 ,\n",
              "        0.9012369 ],\n",
              "       [0.58618504, 0.2244898 , 0.85371281, 0.85263864, 0.2787944 ,\n",
              "        0.88506155],\n",
              "       [0.53231939, 0.36564626, 0.8817374 , 0.28041145, 0.8482239 ,\n",
              "        0.89381987]])"
            ]
          },
          "metadata": {
            "tags": []
          },
          "execution_count": 28
        }
      ]
    },
    {
      "cell_type": "code",
      "metadata": {
        "colab": {
          "base_uri": "https://localhost:8080/"
        },
        "id": "w3wuiR_zF0D2",
        "outputId": "f29549a5-091a-4af5-cb78-265ee44b2b1d"
      },
      "source": [
        "valores_silhueta = []\n",
        "\n",
        "for n in faixa_clusters:\n",
        "    agrupador = KMeans(n_clusters=n)\n",
        "    labels = agrupador.fit_predict(mm_X)\n",
        "    media = silhouette_score(mm_X, labels)\n",
        "    values, counts = np.unique(labels, return_counts=True)\n",
        "    print((n, media, counts))\n",
        "    print('\\n')"
      ],
      "execution_count": 29,
      "outputs": [
        {
          "output_type": "stream",
          "text": [
            "(2, 0.4141344327936777, array([168, 197]))\n",
            "\n",
            "\n",
            "(3, 0.3686349236233441, array([ 75, 186, 104]))\n",
            "\n",
            "\n",
            "(4, 0.3075158569609696, array([ 73, 117,  99,  76]))\n",
            "\n",
            "\n",
            "(5, 0.30052692154175403, array([ 54,  75,  64,  67, 105]))\n",
            "\n",
            "\n",
            "(6, 0.26360930252711146, array([57, 67, 85, 53, 65, 38]))\n",
            "\n",
            "\n",
            "(7, 0.24785552480119397, array([41, 58, 54, 60, 45, 39, 68]))\n",
            "\n",
            "\n",
            "(8, 0.2594217041850075, array([36, 43, 40, 46, 38, 49, 64, 49]))\n",
            "\n",
            "\n",
            "(9, 0.2741320694436857, array([19, 52, 49, 47, 34, 49, 35, 44, 36]))\n",
            "\n",
            "\n",
            "(10, 0.2751114542770997, array([45, 50, 47, 27, 30, 34, 36, 37, 19, 40]))\n",
            "\n",
            "\n",
            "(11, 0.26802502699078623, array([34, 38, 34, 37, 34, 40, 33, 19, 34, 34, 28]))\n",
            "\n",
            "\n",
            "(12, 0.26860963846964186, array([29, 34, 30, 31, 37, 41, 33, 18, 27, 36, 23, 26]))\n",
            "\n",
            "\n",
            "(13, 0.2647051433354771, array([30, 25, 28, 42, 19, 27, 22, 29, 34, 17, 33, 22, 37]))\n",
            "\n",
            "\n",
            "(14, 0.26450207057556546, array([46, 32, 33, 28, 21, 28, 33, 14, 28, 15, 25, 24, 16, 22]))\n",
            "\n",
            "\n",
            "(15, 0.2682161598913934, array([30, 33, 10, 28, 21, 30, 28, 22, 16, 28, 28, 31, 15, 25, 20]))\n",
            "\n",
            "\n",
            "(16, 0.2686083122285763, array([24, 37, 16, 19, 22, 24, 23, 29, 11, 21, 28, 30, 22,  9, 22, 28]))\n",
            "\n",
            "\n",
            "(17, 0.2695459570948005, array([17, 21, 32, 17, 24, 27, 14, 22, 28, 24, 11, 28, 21, 21, 16,  7, 35]))\n",
            "\n",
            "\n",
            "(18, 0.2710757468146553, array([26, 22, 34, 20, 18, 27, 16, 19, 21, 14, 17, 14, 26, 17, 15, 15, 25,\n",
            "       19]))\n",
            "\n",
            "\n",
            "(19, 0.2724102016558527, array([23, 13, 11, 27, 29, 18, 16, 24, 17, 16, 21, 28, 18,  7,  8, 21, 21,\n",
            "       20, 27]))\n",
            "\n",
            "\n"
          ],
          "name": "stdout"
        }
      ]
    },
    {
      "cell_type": "markdown",
      "metadata": {
        "id": "v-3FmLuOKWtG"
      },
      "source": [
        "# `StandardScaler`"
      ]
    },
    {
      "cell_type": "code",
      "metadata": {
        "colab": {
          "base_uri": "https://localhost:8080/"
        },
        "id": "QognrlHvGGc4",
        "outputId": "feb55f66-dbf7-47cd-bac2-f6482b03185e"
      },
      "source": [
        "std_scaler = StandardScaler()\n",
        "std_X = std_scaler.fit_transform(X)\n",
        "std_X"
      ],
      "execution_count": 30,
      "outputs": [
        {
          "output_type": "execute_result",
          "data": {
            "text/plain": [
              "array([[-0.49926478,  0.98329687,  1.40968107,  0.49744453,  0.92930475,\n",
              "         1.47760262],\n",
              "       [ 0.16776482, -0.17684749,  1.52797969,  0.96638288,  0.23578742,\n",
              "         2.01970377],\n",
              "       [-1.5608308 ,  0.3002533 ,  1.71144811, -1.47911568,  1.87681727,\n",
              "         0.63906437],\n",
              "       ...,\n",
              "       [-1.19680519,  1.75214993,  1.21264702,  0.15619481,  1.31802784,\n",
              "         1.78160722],\n",
              "       [ 0.38554893, -0.633354  ,  1.37504374,  1.27328362, -0.27882894,\n",
              "         1.69843932],\n",
              "       [ 0.20669241, -0.06357896,  1.52078639, -0.63756549,  2.0579269 ,\n",
              "         1.74347151]])"
            ]
          },
          "metadata": {
            "tags": []
          },
          "execution_count": 30
        }
      ]
    },
    {
      "cell_type": "code",
      "metadata": {
        "colab": {
          "base_uri": "https://localhost:8080/"
        },
        "id": "CgmnJBsOGOZG",
        "outputId": "1817c69b-4db6-4b26-8da8-ec3f171bfe14"
      },
      "source": [
        "valores_silhueta = []\n",
        "\n",
        "for n in faixa_clusters:\n",
        "    agrupador = KMeans(n_clusters=n)\n",
        "    labels = agrupador.fit_predict(std_X)\n",
        "    media = silhouette_score(std_X, labels)\n",
        "    values, counts = np.unique(labels, return_counts=True)\n",
        "    print((n, media, counts))\n",
        "    print('\\n')"
      ],
      "execution_count": 31,
      "outputs": [
        {
          "output_type": "stream",
          "text": [
            "(2, 0.3608490257652825, array([196, 169]))\n",
            "\n",
            "\n",
            "(3, 0.3312546942201311, array([119, 109, 137]))\n",
            "\n",
            "\n",
            "(4, 0.34210642517416484, array([ 76,  58,  94, 137]))\n",
            "\n",
            "\n",
            "(5, 0.29408854013095526, array([78, 89, 77, 45, 76]))\n",
            "\n",
            "\n",
            "(6, 0.2788075594417613, array([62, 52, 41, 61, 78, 71]))\n",
            "\n",
            "\n",
            "(7, 0.2677267731819485, array([51, 48, 41, 42, 74, 50, 59]))\n",
            "\n",
            "\n",
            "(8, 0.2593416326509463, array([57, 36, 38, 40, 30, 52, 44, 68]))\n",
            "\n",
            "\n",
            "(9, 0.24461891261410273, array([43, 44, 24, 44, 48, 49, 42, 50, 21]))\n",
            "\n",
            "\n",
            "(10, 0.2427767154743327, array([28, 48, 19, 36, 39, 31, 47, 42, 36, 39]))\n",
            "\n",
            "\n",
            "(11, 0.2560921260632078, array([39, 38, 35, 56, 33, 20, 16, 26, 29, 28, 45]))\n",
            "\n",
            "\n",
            "(12, 0.25875664258097947, array([34, 28, 34, 20, 32, 51, 40, 32, 16, 24, 30, 24]))\n",
            "\n",
            "\n",
            "(13, 0.2541722128980727, array([32, 21, 25, 35, 25, 16, 32, 34, 24, 27, 34, 35, 25]))\n",
            "\n",
            "\n",
            "(14, 0.2529261533656019, array([27, 23, 28, 24, 14, 41, 28, 10, 26, 34, 15, 34, 29, 32]))\n",
            "\n",
            "\n",
            "(15, 0.24355764399863478, array([18, 39, 22, 28, 22,  9, 27, 25, 22, 28, 33, 30, 15, 23, 24]))\n",
            "\n",
            "\n",
            "(16, 0.25728108703261915, array([20, 20, 30, 21, 23, 26, 12, 41, 15, 15, 23, 31, 27, 21, 21, 19]))\n",
            "\n",
            "\n",
            "(17, 0.2537413927136267, array([15, 23, 12, 10, 23, 33, 24, 20, 23, 18, 13, 17, 26, 22, 23, 40, 23]))\n",
            "\n",
            "\n",
            "(18, 0.25718775030314517, array([18, 15, 10, 20, 26, 18, 30, 22, 15, 33, 27, 23, 25, 20, 14,  7, 27,\n",
            "       15]))\n",
            "\n",
            "\n",
            "(19, 0.25111834982006875, array([28, 13, 15, 25, 28,  9, 12, 19, 13, 35, 22, 20, 15, 22, 10, 22, 20,\n",
            "       21, 16]))\n",
            "\n",
            "\n"
          ],
          "name": "stdout"
        }
      ]
    },
    {
      "cell_type": "markdown",
      "metadata": {
        "id": "Kda9zUFCKaBx"
      },
      "source": [
        "# Análises dos centróides dos melhores resultados"
      ]
    },
    {
      "cell_type": "code",
      "metadata": {
        "colab": {
          "base_uri": "https://localhost:8080/"
        },
        "id": "Jg7HarHJGQrd",
        "outputId": "d37f4268-16d9-4674-83d9-e7e25b23359e"
      },
      "source": [
        "agrupador = KMeans(n_clusters=2)\n",
        "labels = agrupador.fit_predict(X)\n",
        "media = silhouette_score(X, labels)\n",
        "values, counts = np.unique(labels, return_counts=True)\n",
        "print((media, counts))"
      ],
      "execution_count": 42,
      "outputs": [
        {
          "output_type": "stream",
          "text": [
            "(0.5216005749254824, array([131, 234]))\n"
          ],
          "name": "stdout"
        }
      ]
    },
    {
      "cell_type": "code",
      "metadata": {
        "colab": {
          "base_uri": "https://localhost:8080/"
        },
        "id": "ODZocWBZGuuf",
        "outputId": "d86809c7-8f36-419b-a34a-510e5d897fd3"
      },
      "source": [
        "agrupador.cluster_centers_"
      ],
      "execution_count": 43,
      "outputs": [
        {
          "output_type": "execute_result",
          "data": {
            "text/plain": [
              "array([[ 0.24902163,  0.31512977,  0.09996565,  0.11944529, 15.22995802,\n",
              "        17.62806616],\n",
              "       [ 0.25250855,  0.37415527,  0.12693234,  0.18068732, 22.19239744,\n",
              "        24.95706339]])"
            ]
          },
          "metadata": {
            "tags": []
          },
          "execution_count": 43
        }
      ]
    },
    {
      "cell_type": "code",
      "metadata": {
        "colab": {
          "base_uri": "https://localhost:8080/",
          "height": 110
        },
        "id": "A7yPhyR0G1ke",
        "outputId": "3f668c19-c5e4-4ebf-8fa6-3e5d96715271"
      },
      "source": [
        "pd.DataFrame(data=agrupador.cluster_centers_, columns=X.columns)"
      ],
      "execution_count": 44,
      "outputs": [
        {
          "output_type": "execute_result",
          "data": {
            "text/html": [
              "<div>\n",
              "<style scoped>\n",
              "    .dataframe tbody tr th:only-of-type {\n",
              "        vertical-align: middle;\n",
              "    }\n",
              "\n",
              "    .dataframe tbody tr th {\n",
              "        vertical-align: top;\n",
              "    }\n",
              "\n",
              "    .dataframe thead th {\n",
              "        text-align: right;\n",
              "    }\n",
              "</style>\n",
              "<table border=\"1\" class=\"dataframe\">\n",
              "  <thead>\n",
              "    <tr style=\"text-align: right;\">\n",
              "      <th></th>\n",
              "      <th>idr_manha</th>\n",
              "      <th>idr_tarde</th>\n",
              "      <th>idf_manha</th>\n",
              "      <th>idf_tarde</th>\n",
              "      <th>tmp_manha</th>\n",
              "      <th>tmp_tarde</th>\n",
              "    </tr>\n",
              "  </thead>\n",
              "  <tbody>\n",
              "    <tr>\n",
              "      <th>0</th>\n",
              "      <td>0.249022</td>\n",
              "      <td>0.315130</td>\n",
              "      <td>0.099966</td>\n",
              "      <td>0.119445</td>\n",
              "      <td>15.229958</td>\n",
              "      <td>17.628066</td>\n",
              "    </tr>\n",
              "    <tr>\n",
              "      <th>1</th>\n",
              "      <td>0.252509</td>\n",
              "      <td>0.374155</td>\n",
              "      <td>0.126932</td>\n",
              "      <td>0.180687</td>\n",
              "      <td>22.192397</td>\n",
              "      <td>24.957063</td>\n",
              "    </tr>\n",
              "  </tbody>\n",
              "</table>\n",
              "</div>"
            ],
            "text/plain": [
              "   idr_manha  idr_tarde  idf_manha  idf_tarde  tmp_manha  tmp_tarde\n",
              "0   0.249022   0.315130   0.099966   0.119445  15.229958  17.628066\n",
              "1   0.252509   0.374155   0.126932   0.180687  22.192397  24.957063"
            ]
          },
          "metadata": {
            "tags": []
          },
          "execution_count": 44
        }
      ]
    },
    {
      "cell_type": "markdown",
      "metadata": {
        "id": "qHuBAqcwKe-O"
      },
      "source": [
        "Analisando somente esses dados parecem existir dois tipos de dias: Os mais frios e com menos luminosidade e os mais quentes e com mais luminosidade."
      ]
    },
    {
      "cell_type": "code",
      "metadata": {
        "colab": {
          "base_uri": "https://localhost:8080/",
          "height": 295
        },
        "id": "fEluvi5iG50V",
        "outputId": "880eacff-23f3-483a-985e-60042bbe06ee"
      },
      "source": [
        "X.describe()"
      ],
      "execution_count": 45,
      "outputs": [
        {
          "output_type": "execute_result",
          "data": {
            "text/html": [
              "<div>\n",
              "<style scoped>\n",
              "    .dataframe tbody tr th:only-of-type {\n",
              "        vertical-align: middle;\n",
              "    }\n",
              "\n",
              "    .dataframe tbody tr th {\n",
              "        vertical-align: top;\n",
              "    }\n",
              "\n",
              "    .dataframe thead th {\n",
              "        text-align: right;\n",
              "    }\n",
              "</style>\n",
              "<table border=\"1\" class=\"dataframe\">\n",
              "  <thead>\n",
              "    <tr style=\"text-align: right;\">\n",
              "      <th></th>\n",
              "      <th>idr_manha</th>\n",
              "      <th>idr_tarde</th>\n",
              "      <th>idf_manha</th>\n",
              "      <th>idf_tarde</th>\n",
              "      <th>tmp_manha</th>\n",
              "      <th>tmp_tarde</th>\n",
              "    </tr>\n",
              "  </thead>\n",
              "  <tbody>\n",
              "    <tr>\n",
              "      <th>count</th>\n",
              "      <td>365.000000</td>\n",
              "      <td>365.000000</td>\n",
              "      <td>365.000000</td>\n",
              "      <td>365.000000</td>\n",
              "      <td>365.000000</td>\n",
              "      <td>365.000000</td>\n",
              "    </tr>\n",
              "    <tr>\n",
              "      <th>mean</th>\n",
              "      <td>0.251257</td>\n",
              "      <td>0.352971</td>\n",
              "      <td>0.117254</td>\n",
              "      <td>0.158707</td>\n",
              "      <td>19.693549</td>\n",
              "      <td>22.326656</td>\n",
              "    </tr>\n",
              "    <tr>\n",
              "      <th>std</th>\n",
              "      <td>0.158631</td>\n",
              "      <td>0.223506</td>\n",
              "      <td>0.048624</td>\n",
              "      <td>0.075564</td>\n",
              "      <td>4.269075</td>\n",
              "      <td>4.477012</td>\n",
              "    </tr>\n",
              "    <tr>\n",
              "      <th>min</th>\n",
              "      <td>0.004000</td>\n",
              "      <td>0.001667</td>\n",
              "      <td>0.042500</td>\n",
              "      <td>0.051333</td>\n",
              "      <td>6.628000</td>\n",
              "      <td>9.574667</td>\n",
              "    </tr>\n",
              "    <tr>\n",
              "      <th>25%</th>\n",
              "      <td>0.106000</td>\n",
              "      <td>0.142833</td>\n",
              "      <td>0.077833</td>\n",
              "      <td>0.101500</td>\n",
              "      <td>17.205167</td>\n",
              "      <td>19.409500</td>\n",
              "    </tr>\n",
              "    <tr>\n",
              "      <th>50%</th>\n",
              "      <td>0.265333</td>\n",
              "      <td>0.375000</td>\n",
              "      <td>0.107667</td>\n",
              "      <td>0.138833</td>\n",
              "      <td>20.167667</td>\n",
              "      <td>22.568167</td>\n",
              "    </tr>\n",
              "    <tr>\n",
              "      <th>75%</th>\n",
              "      <td>0.377000</td>\n",
              "      <td>0.537333</td>\n",
              "      <td>0.153667</td>\n",
              "      <td>0.200667</td>\n",
              "      <td>22.637667</td>\n",
              "      <td>25.455167</td>\n",
              "    </tr>\n",
              "    <tr>\n",
              "      <th>max</th>\n",
              "      <td>0.530000</td>\n",
              "      <td>0.747000</td>\n",
              "      <td>0.238500</td>\n",
              "      <td>0.361000</td>\n",
              "      <td>28.799000</td>\n",
              "      <td>32.562333</td>\n",
              "    </tr>\n",
              "  </tbody>\n",
              "</table>\n",
              "</div>"
            ],
            "text/plain": [
              "        idr_manha   idr_tarde   idf_manha   idf_tarde   tmp_manha   tmp_tarde\n",
              "count  365.000000  365.000000  365.000000  365.000000  365.000000  365.000000\n",
              "mean     0.251257    0.352971    0.117254    0.158707   19.693549   22.326656\n",
              "std      0.158631    0.223506    0.048624    0.075564    4.269075    4.477012\n",
              "min      0.004000    0.001667    0.042500    0.051333    6.628000    9.574667\n",
              "25%      0.106000    0.142833    0.077833    0.101500   17.205167   19.409500\n",
              "50%      0.265333    0.375000    0.107667    0.138833   20.167667   22.568167\n",
              "75%      0.377000    0.537333    0.153667    0.200667   22.637667   25.455167\n",
              "max      0.530000    0.747000    0.238500    0.361000   28.799000   32.562333"
            ]
          },
          "metadata": {
            "tags": []
          },
          "execution_count": 45
        }
      ]
    },
    {
      "cell_type": "code",
      "metadata": {
        "colab": {
          "base_uri": "https://localhost:8080/",
          "height": 234
        },
        "id": "yjuW9QukHkk9",
        "outputId": "94cc5274-527b-4e63-8bf4-877189d79df6"
      },
      "source": [
        "corr = X.corr()\n",
        "corr"
      ],
      "execution_count": 51,
      "outputs": [
        {
          "output_type": "execute_result",
          "data": {
            "text/html": [
              "<div>\n",
              "<style scoped>\n",
              "    .dataframe tbody tr th:only-of-type {\n",
              "        vertical-align: middle;\n",
              "    }\n",
              "\n",
              "    .dataframe tbody tr th {\n",
              "        vertical-align: top;\n",
              "    }\n",
              "\n",
              "    .dataframe thead th {\n",
              "        text-align: right;\n",
              "    }\n",
              "</style>\n",
              "<table border=\"1\" class=\"dataframe\">\n",
              "  <thead>\n",
              "    <tr style=\"text-align: right;\">\n",
              "      <th></th>\n",
              "      <th>idr_manha</th>\n",
              "      <th>idr_tarde</th>\n",
              "      <th>idf_manha</th>\n",
              "      <th>idf_tarde</th>\n",
              "      <th>tmp_manha</th>\n",
              "      <th>tmp_tarde</th>\n",
              "    </tr>\n",
              "  </thead>\n",
              "  <tbody>\n",
              "    <tr>\n",
              "      <th>idr_manha</th>\n",
              "      <td>1.000000</td>\n",
              "      <td>0.772893</td>\n",
              "      <td>-0.664743</td>\n",
              "      <td>-0.582526</td>\n",
              "      <td>-0.099789</td>\n",
              "      <td>0.080883</td>\n",
              "    </tr>\n",
              "    <tr>\n",
              "      <th>idr_tarde</th>\n",
              "      <td>0.772893</td>\n",
              "      <td>1.000000</td>\n",
              "      <td>-0.612156</td>\n",
              "      <td>-0.535140</td>\n",
              "      <td>-0.029241</td>\n",
              "      <td>0.190548</td>\n",
              "    </tr>\n",
              "    <tr>\n",
              "      <th>idf_manha</th>\n",
              "      <td>-0.664743</td>\n",
              "      <td>-0.612156</td>\n",
              "      <td>1.000000</td>\n",
              "      <td>0.851841</td>\n",
              "      <td>0.401106</td>\n",
              "      <td>0.229326</td>\n",
              "    </tr>\n",
              "    <tr>\n",
              "      <th>idf_tarde</th>\n",
              "      <td>-0.582526</td>\n",
              "      <td>-0.535140</td>\n",
              "      <td>0.851841</td>\n",
              "      <td>1.000000</td>\n",
              "      <td>0.511791</td>\n",
              "      <td>0.373186</td>\n",
              "    </tr>\n",
              "    <tr>\n",
              "      <th>tmp_manha</th>\n",
              "      <td>-0.099789</td>\n",
              "      <td>-0.029241</td>\n",
              "      <td>0.401106</td>\n",
              "      <td>0.511791</td>\n",
              "      <td>1.000000</td>\n",
              "      <td>0.941214</td>\n",
              "    </tr>\n",
              "    <tr>\n",
              "      <th>tmp_tarde</th>\n",
              "      <td>0.080883</td>\n",
              "      <td>0.190548</td>\n",
              "      <td>0.229326</td>\n",
              "      <td>0.373186</td>\n",
              "      <td>0.941214</td>\n",
              "      <td>1.000000</td>\n",
              "    </tr>\n",
              "  </tbody>\n",
              "</table>\n",
              "</div>"
            ],
            "text/plain": [
              "           idr_manha  idr_tarde  idf_manha  idf_tarde  tmp_manha  tmp_tarde\n",
              "idr_manha   1.000000   0.772893  -0.664743  -0.582526  -0.099789   0.080883\n",
              "idr_tarde   0.772893   1.000000  -0.612156  -0.535140  -0.029241   0.190548\n",
              "idf_manha  -0.664743  -0.612156   1.000000   0.851841   0.401106   0.229326\n",
              "idf_tarde  -0.582526  -0.535140   0.851841   1.000000   0.511791   0.373186\n",
              "tmp_manha  -0.099789  -0.029241   0.401106   0.511791   1.000000   0.941214\n",
              "tmp_tarde   0.080883   0.190548   0.229326   0.373186   0.941214   1.000000"
            ]
          },
          "metadata": {
            "tags": []
          },
          "execution_count": 51
        }
      ]
    },
    {
      "cell_type": "code",
      "metadata": {
        "colab": {
          "base_uri": "https://localhost:8080/",
          "height": 542
        },
        "id": "WoH54zGVIGuN",
        "outputId": "ac6533e1-527d-4e4b-f790-24854d1636ec"
      },
      "source": [
        "plt.figure(figsize=(16, 9))\n",
        "sns.heatmap(corr, vmin=-1, vmax=1, annot=True);"
      ],
      "execution_count": 52,
      "outputs": [
        {
          "output_type": "display_data",
          "data": {
            "image/png": "[encoded data removed]",
            "text/plain": [
              "<Figure size 1152x648 with 2 Axes>"
            ]
          },
          "metadata": {
            "tags": [],
            "needs_background": "light"
          }
        }
      ]
    },
    {
      "cell_type": "markdown",
      "metadata": {
        "id": "BuhADjtnKlzR"
      },
      "source": [
        "O próximo passo será acrescentar o vento por período e a eletrecidade como uma variável de vínculo geral do dia."
      ]
    },
    {
      "cell_type": "markdown",
      "metadata": {
        "id": "yH-ee9moKrHT"
      },
      "source": [
        "# Salvando o dataset gerado"
      ]
    },
    {
      "cell_type": "code",
      "metadata": {
        "colab": {
          "base_uri": "https://localhost:8080/",
          "height": 417
        },
        "id": "Gco_NqRqIjC8",
        "outputId": "de99a9b2-ad0b-4395-d17c-cc876c2c8725"
      },
      "source": [
        "df_periodo"
      ],
      "execution_count": 54,
      "outputs": [
        {
          "output_type": "execute_result",
          "data": {
            "text/html": [
              "<div>\n",
              "<style scoped>\n",
              "    .dataframe tbody tr th:only-of-type {\n",
              "        vertical-align: middle;\n",
              "    }\n",
              "\n",
              "    .dataframe tbody tr th {\n",
              "        vertical-align: top;\n",
              "    }\n",
              "\n",
              "    .dataframe thead th {\n",
              "        text-align: right;\n",
              "    }\n",
              "</style>\n",
              "<table border=\"1\" class=\"dataframe\">\n",
              "  <thead>\n",
              "    <tr style=\"text-align: right;\">\n",
              "      <th></th>\n",
              "      <th>data</th>\n",
              "      <th>idr_manha</th>\n",
              "      <th>idr_tarde</th>\n",
              "      <th>idf_manha</th>\n",
              "      <th>idf_tarde</th>\n",
              "      <th>tmp_manha</th>\n",
              "      <th>tmp_tarde</th>\n",
              "    </tr>\n",
              "  </thead>\n",
              "  <tbody>\n",
              "    <tr>\n",
              "      <th>0</th>\n",
              "      <td>2019-01-01</td>\n",
              "      <td>0.172167</td>\n",
              "      <td>0.464000</td>\n",
              "      <td>0.165000</td>\n",
              "      <td>0.228833</td>\n",
              "      <td>25.703333</td>\n",
              "      <td>28.932833</td>\n",
              "    </tr>\n",
              "    <tr>\n",
              "      <th>1</th>\n",
              "      <td>2019-01-02</td>\n",
              "      <td>0.277833</td>\n",
              "      <td>0.568667</td>\n",
              "      <td>0.108667</td>\n",
              "      <td>0.176500</td>\n",
              "      <td>26.207667</td>\n",
              "      <td>31.356500</td>\n",
              "    </tr>\n",
              "    <tr>\n",
              "      <th>2</th>\n",
              "      <td>2019-01-03</td>\n",
              "      <td>0.004000</td>\n",
              "      <td>0.022833</td>\n",
              "      <td>0.131833</td>\n",
              "      <td>0.300333</td>\n",
              "      <td>26.989833</td>\n",
              "      <td>25.183833</td>\n",
              "    </tr>\n",
              "    <tr>\n",
              "      <th>3</th>\n",
              "      <td>2019-01-04</td>\n",
              "      <td>0.255500</td>\n",
              "      <td>0.547667</td>\n",
              "      <td>0.120333</td>\n",
              "      <td>0.187500</td>\n",
              "      <td>21.721000</td>\n",
              "      <td>24.702000</td>\n",
              "    </tr>\n",
              "    <tr>\n",
              "      <th>4</th>\n",
              "      <td>2019-01-05</td>\n",
              "      <td>0.223000</td>\n",
              "      <td>0.466500</td>\n",
              "      <td>0.134833</td>\n",
              "      <td>0.221167</td>\n",
              "      <td>21.689167</td>\n",
              "      <td>24.411333</td>\n",
              "    </tr>\n",
              "    <tr>\n",
              "      <th>...</th>\n",
              "      <td>...</td>\n",
              "      <td>...</td>\n",
              "      <td>...</td>\n",
              "      <td>...</td>\n",
              "      <td>...</td>\n",
              "      <td>...</td>\n",
              "      <td>...</td>\n",
              "    </tr>\n",
              "    <tr>\n",
              "      <th>360</th>\n",
              "      <td>2019-12-27</td>\n",
              "      <td>0.068000</td>\n",
              "      <td>0.493667</td>\n",
              "      <td>0.195833</td>\n",
              "      <td>0.213333</td>\n",
              "      <td>24.660833</td>\n",
              "      <td>28.247000</td>\n",
              "    </tr>\n",
              "    <tr>\n",
              "      <th>361</th>\n",
              "      <td>2019-12-28</td>\n",
              "      <td>0.317167</td>\n",
              "      <td>0.673500</td>\n",
              "      <td>0.082833</td>\n",
              "      <td>0.120667</td>\n",
              "      <td>25.077500</td>\n",
              "      <td>29.325167</td>\n",
              "    </tr>\n",
              "    <tr>\n",
              "      <th>362</th>\n",
              "      <td>2019-12-29</td>\n",
              "      <td>0.061667</td>\n",
              "      <td>0.387833</td>\n",
              "      <td>0.202333</td>\n",
              "      <td>0.258167</td>\n",
              "      <td>24.863333</td>\n",
              "      <td>30.292000</td>\n",
              "    </tr>\n",
              "    <tr>\n",
              "      <th>363</th>\n",
              "      <td>2019-12-30</td>\n",
              "      <td>0.312333</td>\n",
              "      <td>0.637167</td>\n",
              "      <td>0.086500</td>\n",
              "      <td>0.137667</td>\n",
              "      <td>25.555667</td>\n",
              "      <td>29.920167</td>\n",
              "    </tr>\n",
              "    <tr>\n",
              "      <th>364</th>\n",
              "      <td>2019-12-31</td>\n",
              "      <td>0.284000</td>\n",
              "      <td>0.210667</td>\n",
              "      <td>0.114167</td>\n",
              "      <td>0.314000</td>\n",
              "      <td>26.177000</td>\n",
              "      <td>30.121500</td>\n",
              "    </tr>\n",
              "  </tbody>\n",
              "</table>\n",
              "<p>365 rows × 7 columns</p>\n",
              "</div>"
            ],
            "text/plain": [
              "           data  idr_manha  idr_tarde  ...  idf_tarde  tmp_manha  tmp_tarde\n",
              "0    2019-01-01   0.172167   0.464000  ...   0.228833  25.703333  28.932833\n",
              "1    2019-01-02   0.277833   0.568667  ...   0.176500  26.207667  31.356500\n",
              "2    2019-01-03   0.004000   0.022833  ...   0.300333  26.989833  25.183833\n",
              "3    2019-01-04   0.255500   0.547667  ...   0.187500  21.721000  24.702000\n",
              "4    2019-01-05   0.223000   0.466500  ...   0.221167  21.689167  24.411333\n",
              "..          ...        ...        ...  ...        ...        ...        ...\n",
              "360  2019-12-27   0.068000   0.493667  ...   0.213333  24.660833  28.247000\n",
              "361  2019-12-28   0.317167   0.673500  ...   0.120667  25.077500  29.325167\n",
              "362  2019-12-29   0.061667   0.387833  ...   0.258167  24.863333  30.292000\n",
              "363  2019-12-30   0.312333   0.637167  ...   0.137667  25.555667  29.920167\n",
              "364  2019-12-31   0.284000   0.210667  ...   0.314000  26.177000  30.121500\n",
              "\n",
              "[365 rows x 7 columns]"
            ]
          },
          "metadata": {
            "tags": []
          },
          "execution_count": 54
        }
      ]
    },
    {
      "cell_type": "code",
      "metadata": {
        "id": "vrQ8lKhGKtu6"
      },
      "source": [
        "df_periodo.to_csv('pv_dia_osorio_2019_periodos.csv')"
      ],
      "execution_count": 55,
      "outputs": []
    },
    {
      "cell_type": "code",
      "metadata": {
        "id": "35wKKqHGLMay"
      },
      "source": [
        ""
      ],
      "execution_count": null,
      "outputs": []
    }
  ]
}