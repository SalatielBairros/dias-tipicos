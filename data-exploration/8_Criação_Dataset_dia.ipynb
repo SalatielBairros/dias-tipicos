{
 "cells": [
  {
   "cell_type": "code",
   "execution_count": null,
   "metadata": {
    "id": "QcyQ_gRrLpaP"
   },
   "outputs": [],
   "source": [
    "import pandas as pd"
   ]
  },
  {
   "cell_type": "code",
   "execution_count": 10,
   "metadata": {
    "id": "pOlVPvRRLs5b"
   },
   "outputs": [],
   "source": [
    "pv = pd.read_csv('https://raw.githubusercontent.com/SalatielBairros/dias-tipicos/main/data/pv_dia_osorio_2019_periodos.csv')\n",
    "wind = pd.read_csv('https://raw.githubusercontent.com/SalatielBairros/dias-tipicos/main/data/wind_osorio_2019_periodos.csv')\n",
    "el = pd.read_csv('https://raw.githubusercontent.com/SalatielBairros/dias-tipicos/main/data/osorio_2019_electricity.csv')\n",
    "\n",
    "del pv['Unnamed: 0']\n",
    "del wind['Unnamed: 0']\n",
    "del el['Unnamed: 0']"
   ]
  },
  {
   "cell_type": "code",
   "execution_count": null,
   "metadata": {
    "colab": {
     "base_uri": "https://localhost:8080/",
     "height": 203
    },
    "id": "X7M5lbszMAiC",
    "outputId": "f2599a53-a377-423e-f5dd-34b9003b641e"
   },
   "outputs": [
    {
     "data": {
      "text/html": [
       "<div>\n",
       "<style scoped>\n",
       "    .dataframe tbody tr th:only-of-type {\n",
       "        vertical-align: middle;\n",
       "    }\n",
       "\n",
       "    .dataframe tbody tr th {\n",
       "        vertical-align: top;\n",
       "    }\n",
       "\n",
       "    .dataframe thead th {\n",
       "        text-align: right;\n",
       "    }\n",
       "</style>\n",
       "<table border=\"1\" class=\"dataframe\">\n",
       "  <thead>\n",
       "    <tr style=\"text-align: right;\">\n",
       "      <th></th>\n",
       "      <th>data</th>\n",
       "      <th>idr_manha</th>\n",
       "      <th>idr_tarde</th>\n",
       "      <th>idf_manha</th>\n",
       "      <th>idf_tarde</th>\n",
       "      <th>tmp_manha</th>\n",
       "      <th>tmp_tarde</th>\n",
       "    </tr>\n",
       "  </thead>\n",
       "  <tbody>\n",
       "    <tr>\n",
       "      <th>0</th>\n",
       "      <td>2019-01-01</td>\n",
       "      <td>0.172167</td>\n",
       "      <td>0.464000</td>\n",
       "      <td>0.165000</td>\n",
       "      <td>0.228833</td>\n",
       "      <td>25.703333</td>\n",
       "      <td>28.932833</td>\n",
       "    </tr>\n",
       "    <tr>\n",
       "      <th>1</th>\n",
       "      <td>2019-01-02</td>\n",
       "      <td>0.277833</td>\n",
       "      <td>0.568667</td>\n",
       "      <td>0.108667</td>\n",
       "      <td>0.176500</td>\n",
       "      <td>26.207667</td>\n",
       "      <td>31.356500</td>\n",
       "    </tr>\n",
       "    <tr>\n",
       "      <th>2</th>\n",
       "      <td>2019-01-03</td>\n",
       "      <td>0.004000</td>\n",
       "      <td>0.022833</td>\n",
       "      <td>0.131833</td>\n",
       "      <td>0.300333</td>\n",
       "      <td>26.989833</td>\n",
       "      <td>25.183833</td>\n",
       "    </tr>\n",
       "    <tr>\n",
       "      <th>3</th>\n",
       "      <td>2019-01-04</td>\n",
       "      <td>0.255500</td>\n",
       "      <td>0.547667</td>\n",
       "      <td>0.120333</td>\n",
       "      <td>0.187500</td>\n",
       "      <td>21.721000</td>\n",
       "      <td>24.702000</td>\n",
       "    </tr>\n",
       "    <tr>\n",
       "      <th>4</th>\n",
       "      <td>2019-01-05</td>\n",
       "      <td>0.223000</td>\n",
       "      <td>0.466500</td>\n",
       "      <td>0.134833</td>\n",
       "      <td>0.221167</td>\n",
       "      <td>21.689167</td>\n",
       "      <td>24.411333</td>\n",
       "    </tr>\n",
       "  </tbody>\n",
       "</table>\n",
       "</div>"
      ],
      "text/plain": [
       "         data  idr_manha  idr_tarde  idf_manha  idf_tarde  tmp_manha  tmp_tarde\n",
       "0  2019-01-01   0.172167   0.464000   0.165000   0.228833  25.703333  28.932833\n",
       "1  2019-01-02   0.277833   0.568667   0.108667   0.176500  26.207667  31.356500\n",
       "2  2019-01-03   0.004000   0.022833   0.131833   0.300333  26.989833  25.183833\n",
       "3  2019-01-04   0.255500   0.547667   0.120333   0.187500  21.721000  24.702000\n",
       "4  2019-01-05   0.223000   0.466500   0.134833   0.221167  21.689167  24.411333"
      ]
     },
     "execution_count": 6,
     "metadata": {
      "tags": []
     },
     "output_type": "execute_result"
    }
   ],
   "source": [
    "pv.head(5)"
   ]
  },
  {
   "cell_type": "code",
   "execution_count": null,
   "metadata": {
    "colab": {
     "base_uri": "https://localhost:8080/",
     "height": 203
    },
    "id": "LI9-dcAmMBuz",
    "outputId": "42c145cd-c419-4779-b110-f78274018462"
   },
   "outputs": [
    {
     "data": {
      "text/html": [
       "<div>\n",
       "<style scoped>\n",
       "    .dataframe tbody tr th:only-of-type {\n",
       "        vertical-align: middle;\n",
       "    }\n",
       "\n",
       "    .dataframe tbody tr th {\n",
       "        vertical-align: top;\n",
       "    }\n",
       "\n",
       "    .dataframe thead th {\n",
       "        text-align: right;\n",
       "    }\n",
       "</style>\n",
       "<table border=\"1\" class=\"dataframe\">\n",
       "  <thead>\n",
       "    <tr style=\"text-align: right;\">\n",
       "      <th></th>\n",
       "      <th>data</th>\n",
       "      <th>el_madrugada</th>\n",
       "      <th>ws_madrugada</th>\n",
       "      <th>el_manha</th>\n",
       "      <th>ws_manha</th>\n",
       "      <th>el_tarde</th>\n",
       "      <th>ws_tarde</th>\n",
       "      <th>el_noite</th>\n",
       "      <th>ws_noite</th>\n",
       "    </tr>\n",
       "  </thead>\n",
       "  <tbody>\n",
       "    <tr>\n",
       "      <th>0</th>\n",
       "      <td>2019-01-01</td>\n",
       "      <td>0.027500</td>\n",
       "      <td>2.950333</td>\n",
       "      <td>0.060333</td>\n",
       "      <td>3.764833</td>\n",
       "      <td>0.096500</td>\n",
       "      <td>4.356000</td>\n",
       "      <td>0.143000</td>\n",
       "      <td>5.071000</td>\n",
       "    </tr>\n",
       "    <tr>\n",
       "      <th>1</th>\n",
       "      <td>2019-01-02</td>\n",
       "      <td>0.113833</td>\n",
       "      <td>4.673667</td>\n",
       "      <td>0.043333</td>\n",
       "      <td>3.218500</td>\n",
       "      <td>0.003167</td>\n",
       "      <td>1.680000</td>\n",
       "      <td>0.017500</td>\n",
       "      <td>2.585000</td>\n",
       "    </tr>\n",
       "    <tr>\n",
       "      <th>2</th>\n",
       "      <td>2019-01-03</td>\n",
       "      <td>0.004500</td>\n",
       "      <td>1.820833</td>\n",
       "      <td>0.015167</td>\n",
       "      <td>2.278667</td>\n",
       "      <td>0.190833</td>\n",
       "      <td>5.549167</td>\n",
       "      <td>0.055667</td>\n",
       "      <td>3.567167</td>\n",
       "    </tr>\n",
       "    <tr>\n",
       "      <th>3</th>\n",
       "      <td>2019-01-04</td>\n",
       "      <td>0.036333</td>\n",
       "      <td>3.152333</td>\n",
       "      <td>0.008833</td>\n",
       "      <td>2.149167</td>\n",
       "      <td>0.031333</td>\n",
       "      <td>3.014500</td>\n",
       "      <td>0.021667</td>\n",
       "      <td>2.720167</td>\n",
       "    </tr>\n",
       "    <tr>\n",
       "      <th>4</th>\n",
       "      <td>2019-01-05</td>\n",
       "      <td>0.020500</td>\n",
       "      <td>2.695500</td>\n",
       "      <td>0.044667</td>\n",
       "      <td>3.372500</td>\n",
       "      <td>0.136667</td>\n",
       "      <td>4.981167</td>\n",
       "      <td>0.140500</td>\n",
       "      <td>5.035833</td>\n",
       "    </tr>\n",
       "  </tbody>\n",
       "</table>\n",
       "</div>"
      ],
      "text/plain": [
       "         data  el_madrugada  ws_madrugada  ...  ws_tarde  el_noite  ws_noite\n",
       "0  2019-01-01      0.027500      2.950333  ...  4.356000  0.143000  5.071000\n",
       "1  2019-01-02      0.113833      4.673667  ...  1.680000  0.017500  2.585000\n",
       "2  2019-01-03      0.004500      1.820833  ...  5.549167  0.055667  3.567167\n",
       "3  2019-01-04      0.036333      3.152333  ...  3.014500  0.021667  2.720167\n",
       "4  2019-01-05      0.020500      2.695500  ...  4.981167  0.140500  5.035833\n",
       "\n",
       "[5 rows x 9 columns]"
      ]
     },
     "execution_count": 7,
     "metadata": {
      "tags": []
     },
     "output_type": "execute_result"
    }
   ],
   "source": [
    "wind.head(5)"
   ]
  },
  {
   "cell_type": "code",
   "execution_count": 11,
   "metadata": {
    "colab": {
     "base_uri": "https://localhost:8080/",
     "height": 203
    },
    "id": "WoD-hJifRHR6",
    "outputId": "5e51653d-8a7d-4c9b-c82f-ce557b9b09c3"
   },
   "outputs": [
    {
     "data": {
      "text/html": [
       "<div>\n",
       "<style scoped>\n",
       "    .dataframe tbody tr th:only-of-type {\n",
       "        vertical-align: middle;\n",
       "    }\n",
       "\n",
       "    .dataframe tbody tr th {\n",
       "        vertical-align: top;\n",
       "    }\n",
       "\n",
       "    .dataframe thead th {\n",
       "        text-align: right;\n",
       "    }\n",
       "</style>\n",
       "<table border=\"1\" class=\"dataframe\">\n",
       "  <thead>\n",
       "    <tr style=\"text-align: right;\">\n",
       "      <th></th>\n",
       "      <th>date</th>\n",
       "      <th>pv_electricity</th>\n",
       "      <th>wind_electricity</th>\n",
       "    </tr>\n",
       "  </thead>\n",
       "  <tbody>\n",
       "    <tr>\n",
       "      <th>0</th>\n",
       "      <td>2019-01-01</td>\n",
       "      <td>4.991</td>\n",
       "      <td>1.079</td>\n",
       "    </tr>\n",
       "    <tr>\n",
       "      <th>1</th>\n",
       "      <td>2019-01-02</td>\n",
       "      <td>5.349</td>\n",
       "      <td>0.296</td>\n",
       "    </tr>\n",
       "    <tr>\n",
       "      <th>2</th>\n",
       "      <td>2019-01-03</td>\n",
       "      <td>2.306</td>\n",
       "      <td>1.371</td>\n",
       "    </tr>\n",
       "    <tr>\n",
       "      <th>3</th>\n",
       "      <td>2019-01-04</td>\n",
       "      <td>5.436</td>\n",
       "      <td>0.280</td>\n",
       "    </tr>\n",
       "    <tr>\n",
       "      <th>4</th>\n",
       "      <td>2019-01-05</td>\n",
       "      <td>5.193</td>\n",
       "      <td>1.256</td>\n",
       "    </tr>\n",
       "  </tbody>\n",
       "</table>\n",
       "</div>"
      ],
      "text/plain": [
       "         date  pv_electricity  wind_electricity\n",
       "0  2019-01-01           4.991             1.079\n",
       "1  2019-01-02           5.349             0.296\n",
       "2  2019-01-03           2.306             1.371\n",
       "3  2019-01-04           5.436             0.280\n",
       "4  2019-01-05           5.193             1.256"
      ]
     },
     "execution_count": 11,
     "metadata": {
      "tags": []
     },
     "output_type": "execute_result"
    }
   ],
   "source": [
    "el.head(5)"
   ]
  },
  {
   "cell_type": "code",
   "execution_count": 12,
   "metadata": {
    "id": "5V4gEgnDMDFK"
   },
   "outputs": [],
   "source": [
    "osorio = pv.copy(deep=True)\n",
    "osorio['ws_manha'] = wind['ws_manha']\n",
    "osorio['ws_tarde'] = wind['ws_tarde']\n",
    "osorio['wind_electricity'] = el['wind_electricity']\n",
    "osorio['pv_electricity'] = el['pv_electricity']"
   ]
  },
  {
   "cell_type": "code",
   "execution_count": 13,
   "metadata": {
    "colab": {
     "base_uri": "https://localhost:8080/",
     "height": 203
    },
    "id": "4C_UrcCSMZwa",
    "outputId": "01bcd2b7-3063-429f-9bd3-28e7d1a0dadf"
   },
   "outputs": [
    {
     "data": {
      "text/html": [
       "<div>\n",
       "<style scoped>\n",
       "    .dataframe tbody tr th:only-of-type {\n",
       "        vertical-align: middle;\n",
       "    }\n",
       "\n",
       "    .dataframe tbody tr th {\n",
       "        vertical-align: top;\n",
       "    }\n",
       "\n",
       "    .dataframe thead th {\n",
       "        text-align: right;\n",
       "    }\n",
       "</style>\n",
       "<table border=\"1\" class=\"dataframe\">\n",
       "  <thead>\n",
       "    <tr style=\"text-align: right;\">\n",
       "      <th></th>\n",
       "      <th>data</th>\n",
       "      <th>idr_manha</th>\n",
       "      <th>idr_tarde</th>\n",
       "      <th>idf_manha</th>\n",
       "      <th>idf_tarde</th>\n",
       "      <th>tmp_manha</th>\n",
       "      <th>tmp_tarde</th>\n",
       "      <th>ws_manha</th>\n",
       "      <th>ws_tarde</th>\n",
       "      <th>wind_electricity</th>\n",
       "      <th>pv_electricity</th>\n",
       "    </tr>\n",
       "  </thead>\n",
       "  <tbody>\n",
       "    <tr>\n",
       "      <th>0</th>\n",
       "      <td>2019-01-01</td>\n",
       "      <td>0.172167</td>\n",
       "      <td>0.464000</td>\n",
       "      <td>0.165000</td>\n",
       "      <td>0.228833</td>\n",
       "      <td>25.703333</td>\n",
       "      <td>28.932833</td>\n",
       "      <td>3.764833</td>\n",
       "      <td>4.356000</td>\n",
       "      <td>1.079</td>\n",
       "      <td>4.991</td>\n",
       "    </tr>\n",
       "    <tr>\n",
       "      <th>1</th>\n",
       "      <td>2019-01-02</td>\n",
       "      <td>0.277833</td>\n",
       "      <td>0.568667</td>\n",
       "      <td>0.108667</td>\n",
       "      <td>0.176500</td>\n",
       "      <td>26.207667</td>\n",
       "      <td>31.356500</td>\n",
       "      <td>3.218500</td>\n",
       "      <td>1.680000</td>\n",
       "      <td>0.296</td>\n",
       "      <td>5.349</td>\n",
       "    </tr>\n",
       "    <tr>\n",
       "      <th>2</th>\n",
       "      <td>2019-01-03</td>\n",
       "      <td>0.004000</td>\n",
       "      <td>0.022833</td>\n",
       "      <td>0.131833</td>\n",
       "      <td>0.300333</td>\n",
       "      <td>26.989833</td>\n",
       "      <td>25.183833</td>\n",
       "      <td>2.278667</td>\n",
       "      <td>5.549167</td>\n",
       "      <td>1.371</td>\n",
       "      <td>2.306</td>\n",
       "    </tr>\n",
       "    <tr>\n",
       "      <th>3</th>\n",
       "      <td>2019-01-04</td>\n",
       "      <td>0.255500</td>\n",
       "      <td>0.547667</td>\n",
       "      <td>0.120333</td>\n",
       "      <td>0.187500</td>\n",
       "      <td>21.721000</td>\n",
       "      <td>24.702000</td>\n",
       "      <td>2.149167</td>\n",
       "      <td>3.014500</td>\n",
       "      <td>0.280</td>\n",
       "      <td>5.436</td>\n",
       "    </tr>\n",
       "    <tr>\n",
       "      <th>4</th>\n",
       "      <td>2019-01-05</td>\n",
       "      <td>0.223000</td>\n",
       "      <td>0.466500</td>\n",
       "      <td>0.134833</td>\n",
       "      <td>0.221167</td>\n",
       "      <td>21.689167</td>\n",
       "      <td>24.411333</td>\n",
       "      <td>3.372500</td>\n",
       "      <td>4.981167</td>\n",
       "      <td>1.256</td>\n",
       "      <td>5.193</td>\n",
       "    </tr>\n",
       "  </tbody>\n",
       "</table>\n",
       "</div>"
      ],
      "text/plain": [
       "         data  idr_manha  idr_tarde  ...  ws_tarde  wind_electricity  pv_electricity\n",
       "0  2019-01-01   0.172167   0.464000  ...  4.356000             1.079           4.991\n",
       "1  2019-01-02   0.277833   0.568667  ...  1.680000             0.296           5.349\n",
       "2  2019-01-03   0.004000   0.022833  ...  5.549167             1.371           2.306\n",
       "3  2019-01-04   0.255500   0.547667  ...  3.014500             0.280           5.436\n",
       "4  2019-01-05   0.223000   0.466500  ...  4.981167             1.256           5.193\n",
       "\n",
       "[5 rows x 11 columns]"
      ]
     },
     "execution_count": 13,
     "metadata": {
      "tags": []
     },
     "output_type": "execute_result"
    }
   ],
   "source": [
    "osorio.head()"
   ]
  },
  {
   "cell_type": "code",
   "execution_count": 14,
   "metadata": {
    "colab": {
     "base_uri": "https://localhost:8080/"
    },
    "id": "PawqbR-_MdjJ",
    "outputId": "bb40d6ad-fee8-4031-8dd3-6df86f7643f9"
   },
   "outputs": [
    {
     "data": {
      "text/plain": [
       "(365, 11)"
      ]
     },
     "execution_count": 14,
     "metadata": {
      "tags": []
     },
     "output_type": "execute_result"
    }
   ],
   "source": [
    "osorio.shape"
   ]
  },
  {
   "cell_type": "code",
   "execution_count": 15,
   "metadata": {
    "id": "arjkSsNCRWeY"
   },
   "outputs": [],
   "source": [
    "osorio.to_csv('resumo_osorio_2019.csv')"
   ]
  },
  {
   "cell_type": "code",
   "execution_count": null,
   "metadata": {
    "id": "bliUM8cVRaI4"
   },
   "outputs": [],
   "source": []
  }
 ],
 "metadata": {
  "colab": {
   "collapsed_sections": [],
   "name": "8 - Criação Dataset dia.ipynb",
   "provenance": []
  },
  "kernelspec": {
   "display_name": "Python 3",
   "language": "python",
   "name": "python3"
  },
  "language_info": {
   "codemirror_mode": {
    "name": "ipython",
    "version": 3
   },
   "file_extension": ".py",
   "mimetype": "text/x-python",
   "name": "python",
   "nbconvert_exporter": "python",
   "pygments_lexer": "ipython3",
   "version": "3.8.8"
  }
 },
 "nbformat": 4,
 "nbformat_minor": 1
}
